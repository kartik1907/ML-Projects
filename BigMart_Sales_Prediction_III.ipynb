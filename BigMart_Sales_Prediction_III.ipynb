{
  "nbformat": 4,
  "nbformat_minor": 0,
  "metadata": {
    "colab": {
      "name": "BigMart Sales Prediction III",
      "provenance": [],
      "collapsed_sections": [],
      "include_colab_link": true
    },
    "kernelspec": {
      "name": "python3",
      "display_name": "Python 3"
    }
  },
  "cells": [
    {
      "cell_type": "markdown",
      "metadata": {
        "id": "view-in-github",
        "colab_type": "text"
      },
      "source": [
        "<a href=\"https://colab.research.google.com/github/kartik1907/ML-Projects/blob/master/BigMart_Sales_Prediction_III.ipynb\" target=\"_parent\"><img src=\"https://colab.research.google.com/assets/colab-badge.svg\" alt=\"Open In Colab\"/></a>"
      ]
    },
    {
      "cell_type": "markdown",
      "metadata": {
        "id": "swtUcbgzZ43D",
        "colab_type": "text"
      },
      "source": [
        "# **Problem Statement**\n",
        "\n",
        "The data scientists at BigMart have collected 2013 sales data for 1559 products across 10 stores in different cities. Also, certain attributes of each product and store have been defined. The aim is to build a predictive model and find out the sales of each product at a particular store.\n",
        "\n",
        "Using this model, BigMart will try to understand the properties of products and stores which play a key role in increasing sales.\n",
        "\n",
        "Please note that the data may have missing values as some stores might not report all the data due to technical glitches. Hence, it will be required to treat them accordingly.\n",
        "\n",
        "Data\n",
        "We have train (8523) and test (5681) data set, train data set has both input and output variable(s). You need to predict the sales for test data set.\n",
        "\n",
        " \n",
        "**Variable Description** :\n",
        "\n",
        "**Item_Identifier** : Unique product ID\n",
        "\n",
        "**Item_Weight** : Weight of product\n",
        "\n",
        "**Item_Fat_Content** : Whether the product is low fat or not\n",
        "\n",
        "**Item_Visibility** : The % of total display area of all products in a store allocated to the particular product\n",
        "\n",
        "**Item_Type** : The category to which the product belongs\n",
        "\n",
        "**Item_MRP** : Maximum Retail Price (list price) of the product\n",
        "\n",
        "**Outlet_Identifier** : Unique store ID\n",
        "\n",
        "**Outlet_Establishment_Year** : The year in which store was established\n",
        "\n",
        "**Outlet_Size** :The size of the store in terms of ground area covered\n",
        "\n",
        "**Outlet_Location_Type** : The type of city in which the store is located\n",
        "\n",
        "**Outlet_Type** : Whether the outlet is just a grocery store or some sort of supermarket\n",
        "\n",
        "**Item_Outlet_Sales** : Sales of the product in the particulat store. This is the outcome variable to be predicted.\n",
        "\n"
      ]
    },
    {
      "cell_type": "code",
      "metadata": {
        "id": "YDIPf5CaXuez",
        "colab_type": "code",
        "outputId": "bbea74ca-0731-4e16-bed7-43f9cac882f8",
        "colab": {
          "base_uri": "https://localhost:8080/",
          "height": 121
        }
      },
      "source": [
        "from google.colab import drive\n",
        "drive.mount('/content/drive')"
      ],
      "execution_count": 1,
      "outputs": [
        {
          "output_type": "stream",
          "text": [
            "Go to this URL in a browser: https://accounts.google.com/o/oauth2/auth?client_id=947318989803-6bn6qk8qdgf4n4g3pfee6491hc0brc4i.apps.googleusercontent.com&redirect_uri=urn%3aietf%3awg%3aoauth%3a2.0%3aoob&response_type=code&scope=email%20https%3a%2f%2fwww.googleapis.com%2fauth%2fdocs.test%20https%3a%2f%2fwww.googleapis.com%2fauth%2fdrive%20https%3a%2f%2fwww.googleapis.com%2fauth%2fdrive.photos.readonly%20https%3a%2f%2fwww.googleapis.com%2fauth%2fpeopleapi.readonly\n",
            "\n",
            "Enter your authorization code:\n",
            "··········\n",
            "Mounted at /content/drive\n"
          ],
          "name": "stdout"
        }
      ]
    },
    {
      "cell_type": "code",
      "metadata": {
        "id": "wH9HMxt6YEtH",
        "colab_type": "code",
        "colab": {}
      },
      "source": [
        "import numpy as np\n",
        "import pandas as pd\n",
        "import seaborn as sns\n",
        "import matplotlib.pyplot as plt"
      ],
      "execution_count": 0,
      "outputs": []
    },
    {
      "cell_type": "code",
      "metadata": {
        "id": "xuIDHm2TwBW-",
        "colab_type": "code",
        "colab": {}
      },
      "source": [
        "train = pd.read_csv('/content/drive/My Drive/Python/DataSet/train1.csv')"
      ],
      "execution_count": 0,
      "outputs": []
    },
    {
      "cell_type": "code",
      "metadata": {
        "id": "Egaj50P1YtKK",
        "colab_type": "code",
        "colab": {}
      },
      "source": [
        "test =  pd.read_csv('/content/drive/My Drive/Python/DataSet/test1.csv')"
      ],
      "execution_count": 0,
      "outputs": []
    },
    {
      "cell_type": "code",
      "metadata": {
        "id": "OxOpikGRY96Y",
        "colab_type": "code",
        "colab": {}
      },
      "source": [
        "pd.set_option('display.max_columns',None)"
      ],
      "execution_count": 0,
      "outputs": []
    },
    {
      "cell_type": "code",
      "metadata": {
        "id": "xVhDTNxbYXyI",
        "colab_type": "code",
        "outputId": "47d13222-68e7-448a-9b09-c754cf8ac959",
        "colab": {
          "base_uri": "https://localhost:8080/",
          "height": 299
        }
      },
      "source": [
        "train.sample(5)"
      ],
      "execution_count": 6,
      "outputs": [
        {
          "output_type": "execute_result",
          "data": {
            "text/html": [
              "<div>\n",
              "<style scoped>\n",
              "    .dataframe tbody tr th:only-of-type {\n",
              "        vertical-align: middle;\n",
              "    }\n",
              "\n",
              "    .dataframe tbody tr th {\n",
              "        vertical-align: top;\n",
              "    }\n",
              "\n",
              "    .dataframe thead th {\n",
              "        text-align: right;\n",
              "    }\n",
              "</style>\n",
              "<table border=\"1\" class=\"dataframe\">\n",
              "  <thead>\n",
              "    <tr style=\"text-align: right;\">\n",
              "      <th></th>\n",
              "      <th>Item_Identifier</th>\n",
              "      <th>Item_Weight</th>\n",
              "      <th>Item_Fat_Content</th>\n",
              "      <th>Item_Visibility</th>\n",
              "      <th>Item_Type</th>\n",
              "      <th>Item_MRP</th>\n",
              "      <th>Outlet_Identifier</th>\n",
              "      <th>Outlet_Establishment_Year</th>\n",
              "      <th>Outlet_Size</th>\n",
              "      <th>Outlet_Location_Type</th>\n",
              "      <th>Outlet_Type</th>\n",
              "      <th>Item_Outlet_Sales</th>\n",
              "    </tr>\n",
              "  </thead>\n",
              "  <tbody>\n",
              "    <tr>\n",
              "      <th>634</th>\n",
              "      <td>FDE58</td>\n",
              "      <td>18.5</td>\n",
              "      <td>Low Fat</td>\n",
              "      <td>0.052025</td>\n",
              "      <td>Snack Foods</td>\n",
              "      <td>118.4124</td>\n",
              "      <td>OUT013</td>\n",
              "      <td>1987</td>\n",
              "      <td>High</td>\n",
              "      <td>Tier 3</td>\n",
              "      <td>Supermarket Type1</td>\n",
              "      <td>2370.2480</td>\n",
              "    </tr>\n",
              "    <tr>\n",
              "      <th>2553</th>\n",
              "      <td>NCU18</td>\n",
              "      <td>15.1</td>\n",
              "      <td>Low Fat</td>\n",
              "      <td>0.055840</td>\n",
              "      <td>Household</td>\n",
              "      <td>139.8496</td>\n",
              "      <td>OUT046</td>\n",
              "      <td>1997</td>\n",
              "      <td>Small</td>\n",
              "      <td>Tier 1</td>\n",
              "      <td>Supermarket Type1</td>\n",
              "      <td>1411.4960</td>\n",
              "    </tr>\n",
              "    <tr>\n",
              "      <th>7038</th>\n",
              "      <td>NCS38</td>\n",
              "      <td>NaN</td>\n",
              "      <td>Low Fat</td>\n",
              "      <td>0.000000</td>\n",
              "      <td>Household</td>\n",
              "      <td>115.2176</td>\n",
              "      <td>OUT027</td>\n",
              "      <td>1985</td>\n",
              "      <td>Medium</td>\n",
              "      <td>Tier 3</td>\n",
              "      <td>Supermarket Type3</td>\n",
              "      <td>1030.6584</td>\n",
              "    </tr>\n",
              "    <tr>\n",
              "      <th>5993</th>\n",
              "      <td>FDL15</td>\n",
              "      <td>NaN</td>\n",
              "      <td>Low Fat</td>\n",
              "      <td>0.081651</td>\n",
              "      <td>Meat</td>\n",
              "      <td>152.5682</td>\n",
              "      <td>OUT019</td>\n",
              "      <td>1985</td>\n",
              "      <td>Small</td>\n",
              "      <td>Tier 1</td>\n",
              "      <td>Grocery Store</td>\n",
              "      <td>152.4682</td>\n",
              "    </tr>\n",
              "    <tr>\n",
              "      <th>3486</th>\n",
              "      <td>DRM47</td>\n",
              "      <td>9.3</td>\n",
              "      <td>Low Fat</td>\n",
              "      <td>0.043874</td>\n",
              "      <td>Hard Drinks</td>\n",
              "      <td>191.0846</td>\n",
              "      <td>OUT045</td>\n",
              "      <td>2002</td>\n",
              "      <td>NaN</td>\n",
              "      <td>Tier 2</td>\n",
              "      <td>Supermarket Type1</td>\n",
              "      <td>1337.5922</td>\n",
              "    </tr>\n",
              "  </tbody>\n",
              "</table>\n",
              "</div>"
            ],
            "text/plain": [
              "     Item_Identifier  Item_Weight Item_Fat_Content  Item_Visibility  \\\n",
              "634            FDE58         18.5          Low Fat         0.052025   \n",
              "2553           NCU18         15.1          Low Fat         0.055840   \n",
              "7038           NCS38          NaN          Low Fat         0.000000   \n",
              "5993           FDL15          NaN          Low Fat         0.081651   \n",
              "3486           DRM47          9.3          Low Fat         0.043874   \n",
              "\n",
              "        Item_Type  Item_MRP Outlet_Identifier  Outlet_Establishment_Year  \\\n",
              "634   Snack Foods  118.4124            OUT013                       1987   \n",
              "2553    Household  139.8496            OUT046                       1997   \n",
              "7038    Household  115.2176            OUT027                       1985   \n",
              "5993         Meat  152.5682            OUT019                       1985   \n",
              "3486  Hard Drinks  191.0846            OUT045                       2002   \n",
              "\n",
              "     Outlet_Size Outlet_Location_Type        Outlet_Type  Item_Outlet_Sales  \n",
              "634         High               Tier 3  Supermarket Type1          2370.2480  \n",
              "2553       Small               Tier 1  Supermarket Type1          1411.4960  \n",
              "7038      Medium               Tier 3  Supermarket Type3          1030.6584  \n",
              "5993       Small               Tier 1      Grocery Store           152.4682  \n",
              "3486         NaN               Tier 2  Supermarket Type1          1337.5922  "
            ]
          },
          "metadata": {
            "tags": []
          },
          "execution_count": 6
        }
      ]
    },
    {
      "cell_type": "code",
      "metadata": {
        "id": "cBCfwLx_pw6I",
        "colab_type": "code",
        "outputId": "d1ff08bc-3391-4c50-e9d8-ddd297b819bd",
        "colab": {
          "base_uri": "https://localhost:8080/",
          "height": 302
        }
      },
      "source": [
        "train.info()"
      ],
      "execution_count": 7,
      "outputs": [
        {
          "output_type": "stream",
          "text": [
            "<class 'pandas.core.frame.DataFrame'>\n",
            "RangeIndex: 8523 entries, 0 to 8522\n",
            "Data columns (total 12 columns):\n",
            "Item_Identifier              8523 non-null object\n",
            "Item_Weight                  7060 non-null float64\n",
            "Item_Fat_Content             8523 non-null object\n",
            "Item_Visibility              8523 non-null float64\n",
            "Item_Type                    8523 non-null object\n",
            "Item_MRP                     8523 non-null float64\n",
            "Outlet_Identifier            8523 non-null object\n",
            "Outlet_Establishment_Year    8523 non-null int64\n",
            "Outlet_Size                  6113 non-null object\n",
            "Outlet_Location_Type         8523 non-null object\n",
            "Outlet_Type                  8523 non-null object\n",
            "Item_Outlet_Sales            8523 non-null float64\n",
            "dtypes: float64(4), int64(1), object(7)\n",
            "memory usage: 799.2+ KB\n"
          ],
          "name": "stdout"
        }
      ]
    },
    {
      "cell_type": "code",
      "metadata": {
        "id": "VFi9W6o7c5T9",
        "colab_type": "code",
        "outputId": "759f8b83-09b0-417a-97f0-b611ed218929",
        "colab": {
          "base_uri": "https://localhost:8080/",
          "height": 286
        }
      },
      "source": [
        "test.info()"
      ],
      "execution_count": 8,
      "outputs": [
        {
          "output_type": "stream",
          "text": [
            "<class 'pandas.core.frame.DataFrame'>\n",
            "RangeIndex: 5681 entries, 0 to 5680\n",
            "Data columns (total 11 columns):\n",
            "Item_Identifier              5681 non-null object\n",
            "Item_Weight                  4705 non-null float64\n",
            "Item_Fat_Content             5681 non-null object\n",
            "Item_Visibility              5681 non-null float64\n",
            "Item_Type                    5681 non-null object\n",
            "Item_MRP                     5681 non-null float64\n",
            "Outlet_Identifier            5681 non-null object\n",
            "Outlet_Establishment_Year    5681 non-null int64\n",
            "Outlet_Size                  4075 non-null object\n",
            "Outlet_Location_Type         5681 non-null object\n",
            "Outlet_Type                  5681 non-null object\n",
            "dtypes: float64(3), int64(1), object(7)\n",
            "memory usage: 488.3+ KB\n"
          ],
          "name": "stdout"
        }
      ]
    },
    {
      "cell_type": "markdown",
      "metadata": {
        "id": "HmEHvu3WdDN3",
        "colab_type": "text"
      },
      "source": [
        "**Observation :**\n",
        "\n",
        "\n",
        "> train data consist of 12 variables including the Item_Outlet_Sales which tells the total sales of the items in all the Outlests.\n",
        "\n",
        "> Test consist of all the variables that train data has excluding the Item_Outlet_Sales which needs to be predicted.\n",
        "\n",
        "\n",
        "\n",
        "\n",
        "\n",
        "\n"
      ]
    },
    {
      "cell_type": "markdown",
      "metadata": {
        "id": "txTUTknjduRf",
        "colab_type": "text"
      },
      "source": [
        "## Missing Value Treatment"
      ]
    },
    {
      "cell_type": "markdown",
      "metadata": {
        "id": "vWY1hf9fieXK",
        "colab_type": "text"
      },
      "source": [
        "### Checking Missing Values"
      ]
    },
    {
      "cell_type": "code",
      "metadata": {
        "id": "DGNwyrwNdCom",
        "colab_type": "code",
        "outputId": "b76fd7c8-4a3f-4de9-e0f8-e970bf4ae9c4",
        "colab": {
          "base_uri": "https://localhost:8080/",
          "height": 373
        }
      },
      "source": [
        "## Percent Null Values in the training Data set \n",
        "\n",
        "Null_data_train = pd.DataFrame(train.isnull().sum(),columns=['Missing train instances'])\n",
        "Null_data_train['No. Of train Instances'] = len(train)\n",
        "Null_data_train['Missing Percent'] =  (Null_data_train['Missing train instances'] / Null_data_train['No. Of train Instances'])*100\n",
        "\n",
        "## Percent Null Values in the testin Data set \n",
        "\n",
        "Null_data_test = pd.DataFrame(test.isnull().sum(),columns=['Missing test instances'])\n",
        "Null_data_test['No. Of test Instances'] = len(train)\n",
        "Null_data_test['Missing Percent'] =  (Null_data_test['Missing test instances'] / Null_data_test['No. Of test Instances'])*100\n",
        "\n",
        "## Total Null values in the whole Data set\n",
        "\n",
        "frame = [Null_data_train[:-1],Null_data_test]\n",
        "Null_data = pd.concat(frame,1)\n",
        "Null_data"
      ],
      "execution_count": 9,
      "outputs": [
        {
          "output_type": "execute_result",
          "data": {
            "text/html": [
              "<div>\n",
              "<style scoped>\n",
              "    .dataframe tbody tr th:only-of-type {\n",
              "        vertical-align: middle;\n",
              "    }\n",
              "\n",
              "    .dataframe tbody tr th {\n",
              "        vertical-align: top;\n",
              "    }\n",
              "\n",
              "    .dataframe thead th {\n",
              "        text-align: right;\n",
              "    }\n",
              "</style>\n",
              "<table border=\"1\" class=\"dataframe\">\n",
              "  <thead>\n",
              "    <tr style=\"text-align: right;\">\n",
              "      <th></th>\n",
              "      <th>Missing train instances</th>\n",
              "      <th>No. Of train Instances</th>\n",
              "      <th>Missing Percent</th>\n",
              "      <th>Missing test instances</th>\n",
              "      <th>No. Of test Instances</th>\n",
              "      <th>Missing Percent</th>\n",
              "    </tr>\n",
              "  </thead>\n",
              "  <tbody>\n",
              "    <tr>\n",
              "      <th>Item_Identifier</th>\n",
              "      <td>0</td>\n",
              "      <td>8523</td>\n",
              "      <td>0.000000</td>\n",
              "      <td>0</td>\n",
              "      <td>8523</td>\n",
              "      <td>0.000000</td>\n",
              "    </tr>\n",
              "    <tr>\n",
              "      <th>Item_Weight</th>\n",
              "      <td>1463</td>\n",
              "      <td>8523</td>\n",
              "      <td>17.165317</td>\n",
              "      <td>976</td>\n",
              "      <td>8523</td>\n",
              "      <td>11.451367</td>\n",
              "    </tr>\n",
              "    <tr>\n",
              "      <th>Item_Fat_Content</th>\n",
              "      <td>0</td>\n",
              "      <td>8523</td>\n",
              "      <td>0.000000</td>\n",
              "      <td>0</td>\n",
              "      <td>8523</td>\n",
              "      <td>0.000000</td>\n",
              "    </tr>\n",
              "    <tr>\n",
              "      <th>Item_Visibility</th>\n",
              "      <td>0</td>\n",
              "      <td>8523</td>\n",
              "      <td>0.000000</td>\n",
              "      <td>0</td>\n",
              "      <td>8523</td>\n",
              "      <td>0.000000</td>\n",
              "    </tr>\n",
              "    <tr>\n",
              "      <th>Item_Type</th>\n",
              "      <td>0</td>\n",
              "      <td>8523</td>\n",
              "      <td>0.000000</td>\n",
              "      <td>0</td>\n",
              "      <td>8523</td>\n",
              "      <td>0.000000</td>\n",
              "    </tr>\n",
              "    <tr>\n",
              "      <th>Item_MRP</th>\n",
              "      <td>0</td>\n",
              "      <td>8523</td>\n",
              "      <td>0.000000</td>\n",
              "      <td>0</td>\n",
              "      <td>8523</td>\n",
              "      <td>0.000000</td>\n",
              "    </tr>\n",
              "    <tr>\n",
              "      <th>Outlet_Identifier</th>\n",
              "      <td>0</td>\n",
              "      <td>8523</td>\n",
              "      <td>0.000000</td>\n",
              "      <td>0</td>\n",
              "      <td>8523</td>\n",
              "      <td>0.000000</td>\n",
              "    </tr>\n",
              "    <tr>\n",
              "      <th>Outlet_Establishment_Year</th>\n",
              "      <td>0</td>\n",
              "      <td>8523</td>\n",
              "      <td>0.000000</td>\n",
              "      <td>0</td>\n",
              "      <td>8523</td>\n",
              "      <td>0.000000</td>\n",
              "    </tr>\n",
              "    <tr>\n",
              "      <th>Outlet_Size</th>\n",
              "      <td>2410</td>\n",
              "      <td>8523</td>\n",
              "      <td>28.276428</td>\n",
              "      <td>1606</td>\n",
              "      <td>8523</td>\n",
              "      <td>18.843130</td>\n",
              "    </tr>\n",
              "    <tr>\n",
              "      <th>Outlet_Location_Type</th>\n",
              "      <td>0</td>\n",
              "      <td>8523</td>\n",
              "      <td>0.000000</td>\n",
              "      <td>0</td>\n",
              "      <td>8523</td>\n",
              "      <td>0.000000</td>\n",
              "    </tr>\n",
              "    <tr>\n",
              "      <th>Outlet_Type</th>\n",
              "      <td>0</td>\n",
              "      <td>8523</td>\n",
              "      <td>0.000000</td>\n",
              "      <td>0</td>\n",
              "      <td>8523</td>\n",
              "      <td>0.000000</td>\n",
              "    </tr>\n",
              "  </tbody>\n",
              "</table>\n",
              "</div>"
            ],
            "text/plain": [
              "                           Missing train instances  No. Of train Instances  \\\n",
              "Item_Identifier                                  0                    8523   \n",
              "Item_Weight                                   1463                    8523   \n",
              "Item_Fat_Content                                 0                    8523   \n",
              "Item_Visibility                                  0                    8523   \n",
              "Item_Type                                        0                    8523   \n",
              "Item_MRP                                         0                    8523   \n",
              "Outlet_Identifier                                0                    8523   \n",
              "Outlet_Establishment_Year                        0                    8523   \n",
              "Outlet_Size                                   2410                    8523   \n",
              "Outlet_Location_Type                             0                    8523   \n",
              "Outlet_Type                                      0                    8523   \n",
              "\n",
              "                           Missing Percent  Missing test instances  \\\n",
              "Item_Identifier                   0.000000                       0   \n",
              "Item_Weight                      17.165317                     976   \n",
              "Item_Fat_Content                  0.000000                       0   \n",
              "Item_Visibility                   0.000000                       0   \n",
              "Item_Type                         0.000000                       0   \n",
              "Item_MRP                          0.000000                       0   \n",
              "Outlet_Identifier                 0.000000                       0   \n",
              "Outlet_Establishment_Year         0.000000                       0   \n",
              "Outlet_Size                      28.276428                    1606   \n",
              "Outlet_Location_Type              0.000000                       0   \n",
              "Outlet_Type                       0.000000                       0   \n",
              "\n",
              "                           No. Of test Instances  Missing Percent  \n",
              "Item_Identifier                             8523         0.000000  \n",
              "Item_Weight                                 8523        11.451367  \n",
              "Item_Fat_Content                            8523         0.000000  \n",
              "Item_Visibility                             8523         0.000000  \n",
              "Item_Type                                   8523         0.000000  \n",
              "Item_MRP                                    8523         0.000000  \n",
              "Outlet_Identifier                           8523         0.000000  \n",
              "Outlet_Establishment_Year                   8523         0.000000  \n",
              "Outlet_Size                                 8523        18.843130  \n",
              "Outlet_Location_Type                        8523         0.000000  \n",
              "Outlet_Type                                 8523         0.000000  "
            ]
          },
          "metadata": {
            "tags": []
          },
          "execution_count": 9
        }
      ]
    },
    {
      "cell_type": "markdown",
      "metadata": {
        "id": "CHr2Q509kt1Y",
        "colab_type": "text"
      },
      "source": [
        "**Observation and actionable :**\n",
        "\n",
        "> From the above table we can say that 17.16 % of Item_Weight records and 28.27 %\n",
        "of the records of Outlet size from the training data is Missing.\n",
        "\n",
        "> Similarly, 11.45 % of Item_Weight records and 18.84 % of the records of Outlet size from the testing data is Missing.\n",
        "\n",
        "> In both the cases the number od missing values is considerable. Hence instead of dropping the variable, we will treat it accordingly.\n",
        "\n",
        "> Item Weight is a continuous numeric variable. Hence the same can be treated by Imputing the mean or median value in the blank records.\n",
        "\n",
        "> On the other hands, Outlet size is a categorical variable with 3 unique instances.\n",
        "\n",
        "\n",
        "> To impute the missing values in the Outlet size, we will have to look over the patter of the other categorical variables in the presence of outlet size.\n",
        "\n",
        "\n",
        "\n",
        "\n",
        "\n",
        "\n",
        "\n",
        "\n",
        "\n",
        "\n",
        "\n",
        "\n",
        "\n",
        "\n",
        "\n",
        "\n",
        "\n",
        "\n",
        "\n",
        "\n",
        "\n",
        "\n",
        "\n",
        "\n",
        "\n",
        "\n"
      ]
    },
    {
      "cell_type": "markdown",
      "metadata": {
        "id": "SL-7NHgdm2AP",
        "colab_type": "text"
      },
      "source": [
        "\n",
        "\n",
        "Missing value imputataion\n",
        "\n"
      ]
    },
    {
      "cell_type": "code",
      "metadata": {
        "id": "xCvvfb-hmmwZ",
        "colab_type": "code",
        "colab": {}
      },
      "source": [
        "train.Item_Weight.fillna(train.Item_Weight.median(), inplace=True)\n",
        "test.Item_Weight.fillna(test.Item_Weight.median(), inplace=True)"
      ],
      "execution_count": 0,
      "outputs": []
    },
    {
      "cell_type": "code",
      "metadata": {
        "id": "F2MKTDNPm_Jk",
        "colab_type": "code",
        "outputId": "a48136a5-1eef-4019-e328-be952b586b9b",
        "colab": {
          "base_uri": "https://localhost:8080/",
          "height": 134
        }
      },
      "source": [
        "Null_DF = train[train['Outlet_Size'].isnull()]\n",
        "Null_DF_Cat = (Null_DF.select_dtypes(object)).drop(['Item_Identifier'],1)\n",
        "Null_DF_Cat.apply(lambda x: x.nunique())"
      ],
      "execution_count": 11,
      "outputs": [
        {
          "output_type": "execute_result",
          "data": {
            "text/plain": [
              "Item_Fat_Content         5\n",
              "Item_Type               16\n",
              "Outlet_Identifier        3\n",
              "Outlet_Size              0\n",
              "Outlet_Location_Type     2\n",
              "Outlet_Type              2\n",
              "dtype: int64"
            ]
          },
          "metadata": {
            "tags": []
          },
          "execution_count": 11
        }
      ]
    },
    {
      "cell_type": "code",
      "metadata": {
        "id": "ojX1w_SG3qFT",
        "colab_type": "code",
        "outputId": "2bc53dad-1235-4a7f-95bd-de5d00bb545f",
        "colab": {
          "base_uri": "https://localhost:8080/",
          "height": 134
        }
      },
      "source": [
        "Not_Null_DF = train[train['Outlet_Size'].notnull()]\n",
        "Not_Null_DF_Cat = (Not_Null_DF.select_dtypes(object)).drop(['Item_Identifier'],1)\n",
        "Not_Null_DF_Cat.apply(lambda x: x.nunique())"
      ],
      "execution_count": 12,
      "outputs": [
        {
          "output_type": "execute_result",
          "data": {
            "text/plain": [
              "Item_Fat_Content         5\n",
              "Item_Type               16\n",
              "Outlet_Identifier        7\n",
              "Outlet_Size              3\n",
              "Outlet_Location_Type     3\n",
              "Outlet_Type              4\n",
              "dtype: int64"
            ]
          },
          "metadata": {
            "tags": []
          },
          "execution_count": 12
        }
      ]
    },
    {
      "cell_type": "markdown",
      "metadata": {
        "id": "nmHIWynHojMk",
        "colab_type": "text"
      },
      "source": [
        "**Observation**:\n",
        "\n",
        "\n",
        "> Here We found that Out of 10 Outlet Identifier only 3 are having missing records. They are OUT010, OUT017 and OUT045\n",
        "\n",
        "\n",
        "> Only Grocery stores and Super Market type 1 have Missing records\n",
        "\n",
        "\n",
        "> And only Outlet Location Tier 2 and Tier 3 have missing records\n"
      ]
    },
    {
      "cell_type": "code",
      "metadata": {
        "id": "k_3JHza83-Cv",
        "colab_type": "code",
        "outputId": "d794f4ae-0df8-4d1d-c55b-d58b7c6b6159",
        "colab": {
          "base_uri": "https://localhost:8080/",
          "height": 286
        }
      },
      "source": [
        "print(pd.crosstab(Not_Null_DF_Cat.Outlet_Size,Not_Null_DF_Cat.Outlet_Location_Type),end='\\n')\n",
        "print(pd.crosstab(Not_Null_DF_Cat.Outlet_Size,Not_Null_DF_Cat.Outlet_Type))"
      ],
      "execution_count": 13,
      "outputs": [
        {
          "output_type": "stream",
          "text": [
            "Outlet_Location_Type  Tier 1  Tier 2  Tier 3\n",
            "Outlet_Size                                 \n",
            "High                       0       0     932\n",
            "Medium                   930       0    1863\n",
            "Small                   1458     930       0\n",
            "Outlet_Type  Grocery Store  Supermarket Type1  Supermarket Type2  \\\n",
            "Outlet_Size                                                        \n",
            "High                     0                932                  0   \n",
            "Medium                   0                930                928   \n",
            "Small                  528               1860                  0   \n",
            "\n",
            "Outlet_Type  Supermarket Type3  \n",
            "Outlet_Size                     \n",
            "High                         0  \n",
            "Medium                     935  \n",
            "Small                        0  \n"
          ],
          "name": "stdout"
        }
      ]
    },
    {
      "cell_type": "markdown",
      "metadata": {
        "id": "m9I-rbvG49uA",
        "colab_type": "text"
      },
      "source": [
        "\n",
        "\n",
        "> From the above inferences we can say that All the Grocery stores have small Outlet size.\n",
        "\n",
        "> Hence, We can impute 'small' in the Outlet_Size where the Outlet type is Grocery Store.\n",
        "\n",
        "\n",
        "\n",
        "\n",
        "\n"
      ]
    },
    {
      "cell_type": "code",
      "metadata": {
        "id": "XjlDvccT5z-g",
        "colab_type": "code",
        "colab": {}
      },
      "source": [
        "train.loc[(train.Outlet_Size.isnull()) & (train.Outlet_Type=='Grocery Store'),\"Outlet_Size\"] = 'Small'\n",
        "test.loc[(test.Outlet_Size.isnull()) & (test.Outlet_Type=='Grocery Store'),\"Outlet_Size\"] = 'Small'"
      ],
      "execution_count": 0,
      "outputs": []
    },
    {
      "cell_type": "code",
      "metadata": {
        "id": "VqnvSn875z1D",
        "colab_type": "code",
        "colab": {}
      },
      "source": [
        "train.loc[(train.Outlet_Size.isnull()) & (train.Outlet_Type=='Supermarket Type1') & (train.Outlet_Location_Type=='Tier 2'),\"Outlet_Size\"] = 'Small'\n",
        "test.loc[(test.Outlet_Size.isnull()) & (test.Outlet_Type=='Supermarket Type1') & (test.Outlet_Location_Type=='Tier 2'),\"Outlet_Size\"] = 'Small'"
      ],
      "execution_count": 0,
      "outputs": []
    },
    {
      "cell_type": "code",
      "metadata": {
        "id": "BYCchkNvTs2e",
        "colab_type": "code",
        "colab": {}
      },
      "source": [
        ""
      ],
      "execution_count": 0,
      "outputs": []
    },
    {
      "cell_type": "markdown",
      "metadata": {
        "id": "XjYVDbJy60L7",
        "colab_type": "text"
      },
      "source": [
        "So Here we are done with the Missing value treatment part.\n",
        "\n",
        "\n",
        "\n",
        "\n",
        "We have filled the Item Weight missing values with the median values and the Outletsize section with the 'small' value."
      ]
    },
    {
      "cell_type": "markdown",
      "metadata": {
        "id": "b1otM3vB77xl",
        "colab_type": "text"
      },
      "source": [
        "Along with the 2 variables with Null values, We have Item_Visibility which is 0 in some records.\n",
        "\n",
        "Logically visibility of any product cannot be 0.\n",
        "\n",
        "Hence we will replace the same with the average visibility score"
      ]
    },
    {
      "cell_type": "code",
      "metadata": {
        "id": "mgmhhDBN8D_h",
        "colab_type": "code",
        "outputId": "8858119b-273d-444d-b4c4-018548f29aea",
        "colab": {
          "base_uri": "https://localhost:8080/",
          "height": 34
        }
      },
      "source": [
        "len(train[train.Item_Visibility==0])"
      ],
      "execution_count": 16,
      "outputs": [
        {
          "output_type": "execute_result",
          "data": {
            "text/plain": [
              "526"
            ]
          },
          "metadata": {
            "tags": []
          },
          "execution_count": 16
        }
      ]
    },
    {
      "cell_type": "code",
      "metadata": {
        "id": "z1UhoGQb78eP",
        "colab_type": "code",
        "colab": {}
      },
      "source": [
        "train['Item_Visibility'] = train['Item_Visibility'].replace(0,train.Item_Visibility.mean())\n",
        "test['Item_Visibility'] = test['Item_Visibility'].replace(0,test.Item_Visibility.mean())"
      ],
      "execution_count": 0,
      "outputs": []
    },
    {
      "cell_type": "markdown",
      "metadata": {
        "id": "XkMBJRW77cSL",
        "colab_type": "text"
      },
      "source": [
        "## **Relational Check**"
      ]
    },
    {
      "cell_type": "code",
      "metadata": {
        "id": "XgL0_lwy6hQ3",
        "colab_type": "code",
        "outputId": "6c4bcca8-617d-45f6-e856-00200c75381c",
        "colab": {
          "base_uri": "https://localhost:8080/",
          "height": 922
        }
      },
      "source": [
        "sns.pairplot(train)"
      ],
      "execution_count": 18,
      "outputs": [
        {
          "output_type": "execute_result",
          "data": {
            "text/plain": [
              "<seaborn.axisgrid.PairGrid at 0x7ff5f35667b8>"
            ]
          },
          "metadata": {
            "tags": []
          },
          "execution_count": 18
        },
        {
          "output_type": "display_data",
          "data": {
            "image/png": "[encoded data removed]",
            "text/plain": [
              "<Figure size 900x900 with 30 Axes>"
            ]
          },
          "metadata": {
            "tags": []
          }
        }
      ]
    },
    {
      "cell_type": "code",
      "metadata": {
        "id": "z20rBnZt85Va",
        "colab_type": "code",
        "outputId": "79f391af-fb42-44ab-a469-32e6443ee6a3",
        "colab": {
          "base_uri": "https://localhost:8080/",
          "height": 396
        }
      },
      "source": [
        "plt.figure(figsize=(18,6))\n",
        "sns.heatmap(train.corr(),annot=True)"
      ],
      "execution_count": 19,
      "outputs": [
        {
          "output_type": "execute_result",
          "data": {
            "text/plain": [
              "<matplotlib.axes._subplots.AxesSubplot at 0x7ff5ef3e2390>"
            ]
          },
          "metadata": {
            "tags": []
          },
          "execution_count": 19
        },
        {
          "output_type": "display_data",
          "data": {
            "image/png": "[encoded data removed]",
            "text/plain": [
              "<Figure size 1296x432 with 2 Axes>"
            ]
          },
          "metadata": {
            "tags": []
          }
        }
      ]
    },
    {
      "cell_type": "markdown",
      "metadata": {
        "id": "02kaNwo492z4",
        "colab_type": "text"
      },
      "source": [
        "Observation:\n",
        "\n",
        "> There is no Multicolinearity in the training data provided.\n",
        "\n",
        "> Item MRP is slightly correlated with the Target variable i.e. Item_Outlet_Sales.\n",
        "\n",
        "> Since the Item MRP is correlated with the Target variable we can drop the same.\n",
        "\n",
        "\n",
        "\n",
        "\n",
        "\n"
      ]
    },
    {
      "cell_type": "markdown",
      "metadata": {
        "id": "-d9L8AGpC9hk",
        "colab_type": "text"
      },
      "source": [
        "## **Feature Engineering**"
      ]
    },
    {
      "cell_type": "code",
      "metadata": {
        "id": "QTrbbWEkxhZ3",
        "colab_type": "code",
        "outputId": "7372eaae-a803-4126-e94c-994b54a6a560",
        "colab": {
          "base_uri": "https://localhost:8080/",
          "height": 166
        }
      },
      "source": [
        "pd.crosstab(train.Outlet_Identifier,train.Outlet_Location_Type).T"
      ],
      "execution_count": 20,
      "outputs": [
        {
          "output_type": "execute_result",
          "data": {
            "text/html": [
              "<div>\n",
              "<style scoped>\n",
              "    .dataframe tbody tr th:only-of-type {\n",
              "        vertical-align: middle;\n",
              "    }\n",
              "\n",
              "    .dataframe tbody tr th {\n",
              "        vertical-align: top;\n",
              "    }\n",
              "\n",
              "    .dataframe thead th {\n",
              "        text-align: right;\n",
              "    }\n",
              "</style>\n",
              "<table border=\"1\" class=\"dataframe\">\n",
              "  <thead>\n",
              "    <tr style=\"text-align: right;\">\n",
              "      <th>Outlet_Identifier</th>\n",
              "      <th>OUT010</th>\n",
              "      <th>OUT013</th>\n",
              "      <th>OUT017</th>\n",
              "      <th>OUT018</th>\n",
              "      <th>OUT019</th>\n",
              "      <th>OUT027</th>\n",
              "      <th>OUT035</th>\n",
              "      <th>OUT045</th>\n",
              "      <th>OUT046</th>\n",
              "      <th>OUT049</th>\n",
              "    </tr>\n",
              "    <tr>\n",
              "      <th>Outlet_Location_Type</th>\n",
              "      <th></th>\n",
              "      <th></th>\n",
              "      <th></th>\n",
              "      <th></th>\n",
              "      <th></th>\n",
              "      <th></th>\n",
              "      <th></th>\n",
              "      <th></th>\n",
              "      <th></th>\n",
              "      <th></th>\n",
              "    </tr>\n",
              "  </thead>\n",
              "  <tbody>\n",
              "    <tr>\n",
              "      <th>Tier 1</th>\n",
              "      <td>0</td>\n",
              "      <td>0</td>\n",
              "      <td>0</td>\n",
              "      <td>0</td>\n",
              "      <td>528</td>\n",
              "      <td>0</td>\n",
              "      <td>0</td>\n",
              "      <td>0</td>\n",
              "      <td>930</td>\n",
              "      <td>930</td>\n",
              "    </tr>\n",
              "    <tr>\n",
              "      <th>Tier 2</th>\n",
              "      <td>0</td>\n",
              "      <td>0</td>\n",
              "      <td>926</td>\n",
              "      <td>0</td>\n",
              "      <td>0</td>\n",
              "      <td>0</td>\n",
              "      <td>930</td>\n",
              "      <td>929</td>\n",
              "      <td>0</td>\n",
              "      <td>0</td>\n",
              "    </tr>\n",
              "    <tr>\n",
              "      <th>Tier 3</th>\n",
              "      <td>555</td>\n",
              "      <td>932</td>\n",
              "      <td>0</td>\n",
              "      <td>928</td>\n",
              "      <td>0</td>\n",
              "      <td>935</td>\n",
              "      <td>0</td>\n",
              "      <td>0</td>\n",
              "      <td>0</td>\n",
              "      <td>0</td>\n",
              "    </tr>\n",
              "  </tbody>\n",
              "</table>\n",
              "</div>"
            ],
            "text/plain": [
              "Outlet_Identifier     OUT010  OUT013  OUT017  OUT018  OUT019  OUT027  OUT035  \\\n",
              "Outlet_Location_Type                                                           \n",
              "Tier 1                     0       0       0       0     528       0       0   \n",
              "Tier 2                     0       0     926       0       0       0     930   \n",
              "Tier 3                   555     932       0     928       0     935       0   \n",
              "\n",
              "Outlet_Identifier     OUT045  OUT046  OUT049  \n",
              "Outlet_Location_Type                          \n",
              "Tier 1                     0     930     930  \n",
              "Tier 2                   929       0       0  \n",
              "Tier 3                     0       0       0  "
            ]
          },
          "metadata": {
            "tags": []
          },
          "execution_count": 20
        }
      ]
    },
    {
      "cell_type": "code",
      "metadata": {
        "id": "a6uAreCix1PM",
        "colab_type": "code",
        "outputId": "d8cf8f6f-30d6-48d3-8d12-c65f9674944d",
        "colab": {
          "base_uri": "https://localhost:8080/",
          "height": 166
        }
      },
      "source": [
        "pd.crosstab(train.Outlet_Identifier,train.Outlet_Size).T"
      ],
      "execution_count": 21,
      "outputs": [
        {
          "output_type": "execute_result",
          "data": {
            "text/html": [
              "<div>\n",
              "<style scoped>\n",
              "    .dataframe tbody tr th:only-of-type {\n",
              "        vertical-align: middle;\n",
              "    }\n",
              "\n",
              "    .dataframe tbody tr th {\n",
              "        vertical-align: top;\n",
              "    }\n",
              "\n",
              "    .dataframe thead th {\n",
              "        text-align: right;\n",
              "    }\n",
              "</style>\n",
              "<table border=\"1\" class=\"dataframe\">\n",
              "  <thead>\n",
              "    <tr style=\"text-align: right;\">\n",
              "      <th>Outlet_Identifier</th>\n",
              "      <th>OUT010</th>\n",
              "      <th>OUT013</th>\n",
              "      <th>OUT017</th>\n",
              "      <th>OUT018</th>\n",
              "      <th>OUT019</th>\n",
              "      <th>OUT027</th>\n",
              "      <th>OUT035</th>\n",
              "      <th>OUT045</th>\n",
              "      <th>OUT046</th>\n",
              "      <th>OUT049</th>\n",
              "    </tr>\n",
              "    <tr>\n",
              "      <th>Outlet_Size</th>\n",
              "      <th></th>\n",
              "      <th></th>\n",
              "      <th></th>\n",
              "      <th></th>\n",
              "      <th></th>\n",
              "      <th></th>\n",
              "      <th></th>\n",
              "      <th></th>\n",
              "      <th></th>\n",
              "      <th></th>\n",
              "    </tr>\n",
              "  </thead>\n",
              "  <tbody>\n",
              "    <tr>\n",
              "      <th>High</th>\n",
              "      <td>0</td>\n",
              "      <td>932</td>\n",
              "      <td>0</td>\n",
              "      <td>0</td>\n",
              "      <td>0</td>\n",
              "      <td>0</td>\n",
              "      <td>0</td>\n",
              "      <td>0</td>\n",
              "      <td>0</td>\n",
              "      <td>0</td>\n",
              "    </tr>\n",
              "    <tr>\n",
              "      <th>Medium</th>\n",
              "      <td>0</td>\n",
              "      <td>0</td>\n",
              "      <td>0</td>\n",
              "      <td>928</td>\n",
              "      <td>0</td>\n",
              "      <td>935</td>\n",
              "      <td>0</td>\n",
              "      <td>0</td>\n",
              "      <td>0</td>\n",
              "      <td>930</td>\n",
              "    </tr>\n",
              "    <tr>\n",
              "      <th>Small</th>\n",
              "      <td>555</td>\n",
              "      <td>0</td>\n",
              "      <td>926</td>\n",
              "      <td>0</td>\n",
              "      <td>528</td>\n",
              "      <td>0</td>\n",
              "      <td>930</td>\n",
              "      <td>929</td>\n",
              "      <td>930</td>\n",
              "      <td>0</td>\n",
              "    </tr>\n",
              "  </tbody>\n",
              "</table>\n",
              "</div>"
            ],
            "text/plain": [
              "Outlet_Identifier  OUT010  OUT013  OUT017  OUT018  OUT019  OUT027  OUT035  \\\n",
              "Outlet_Size                                                                 \n",
              "High                    0     932       0       0       0       0       0   \n",
              "Medium                  0       0       0     928       0     935       0   \n",
              "Small                 555       0     926       0     528       0     930   \n",
              "\n",
              "Outlet_Identifier  OUT045  OUT046  OUT049  \n",
              "Outlet_Size                                \n",
              "High                    0       0       0  \n",
              "Medium                  0       0     930  \n",
              "Small                 929     930       0  "
            ]
          },
          "metadata": {
            "tags": []
          },
          "execution_count": 21
        }
      ]
    },
    {
      "cell_type": "code",
      "metadata": {
        "id": "7lzXaAVvyNzi",
        "colab_type": "code",
        "outputId": "0667314d-556e-49f2-eb01-3c072e065061",
        "colab": {
          "base_uri": "https://localhost:8080/",
          "height": 166
        }
      },
      "source": [
        "pd.crosstab(train.Outlet_Location_Type,train.Outlet_Size).T"
      ],
      "execution_count": 22,
      "outputs": [
        {
          "output_type": "execute_result",
          "data": {
            "text/html": [
              "<div>\n",
              "<style scoped>\n",
              "    .dataframe tbody tr th:only-of-type {\n",
              "        vertical-align: middle;\n",
              "    }\n",
              "\n",
              "    .dataframe tbody tr th {\n",
              "        vertical-align: top;\n",
              "    }\n",
              "\n",
              "    .dataframe thead th {\n",
              "        text-align: right;\n",
              "    }\n",
              "</style>\n",
              "<table border=\"1\" class=\"dataframe\">\n",
              "  <thead>\n",
              "    <tr style=\"text-align: right;\">\n",
              "      <th>Outlet_Location_Type</th>\n",
              "      <th>Tier 1</th>\n",
              "      <th>Tier 2</th>\n",
              "      <th>Tier 3</th>\n",
              "    </tr>\n",
              "    <tr>\n",
              "      <th>Outlet_Size</th>\n",
              "      <th></th>\n",
              "      <th></th>\n",
              "      <th></th>\n",
              "    </tr>\n",
              "  </thead>\n",
              "  <tbody>\n",
              "    <tr>\n",
              "      <th>High</th>\n",
              "      <td>0</td>\n",
              "      <td>0</td>\n",
              "      <td>932</td>\n",
              "    </tr>\n",
              "    <tr>\n",
              "      <th>Medium</th>\n",
              "      <td>930</td>\n",
              "      <td>0</td>\n",
              "      <td>1863</td>\n",
              "    </tr>\n",
              "    <tr>\n",
              "      <th>Small</th>\n",
              "      <td>1458</td>\n",
              "      <td>2785</td>\n",
              "      <td>555</td>\n",
              "    </tr>\n",
              "  </tbody>\n",
              "</table>\n",
              "</div>"
            ],
            "text/plain": [
              "Outlet_Location_Type  Tier 1  Tier 2  Tier 3\n",
              "Outlet_Size                                 \n",
              "High                       0       0     932\n",
              "Medium                   930       0    1863\n",
              "Small                   1458    2785     555"
            ]
          },
          "metadata": {
            "tags": []
          },
          "execution_count": 22
        }
      ]
    },
    {
      "cell_type": "code",
      "metadata": {
        "id": "yOT8q-A2S79g",
        "colab_type": "code",
        "outputId": "7668d3a9-7c50-4ff3-d4d8-055efc75515d",
        "colab": {
          "base_uri": "https://localhost:8080/",
          "height": 166
        }
      },
      "source": [
        "pd.crosstab(train.Outlet_Establishment_Year,train.Outlet_Size).T"
      ],
      "execution_count": 23,
      "outputs": [
        {
          "output_type": "execute_result",
          "data": {
            "text/html": [
              "<div>\n",
              "<style scoped>\n",
              "    .dataframe tbody tr th:only-of-type {\n",
              "        vertical-align: middle;\n",
              "    }\n",
              "\n",
              "    .dataframe tbody tr th {\n",
              "        vertical-align: top;\n",
              "    }\n",
              "\n",
              "    .dataframe thead th {\n",
              "        text-align: right;\n",
              "    }\n",
              "</style>\n",
              "<table border=\"1\" class=\"dataframe\">\n",
              "  <thead>\n",
              "    <tr style=\"text-align: right;\">\n",
              "      <th>Outlet_Establishment_Year</th>\n",
              "      <th>1985</th>\n",
              "      <th>1987</th>\n",
              "      <th>1997</th>\n",
              "      <th>1998</th>\n",
              "      <th>1999</th>\n",
              "      <th>2002</th>\n",
              "      <th>2004</th>\n",
              "      <th>2007</th>\n",
              "      <th>2009</th>\n",
              "    </tr>\n",
              "    <tr>\n",
              "      <th>Outlet_Size</th>\n",
              "      <th></th>\n",
              "      <th></th>\n",
              "      <th></th>\n",
              "      <th></th>\n",
              "      <th></th>\n",
              "      <th></th>\n",
              "      <th></th>\n",
              "      <th></th>\n",
              "      <th></th>\n",
              "    </tr>\n",
              "  </thead>\n",
              "  <tbody>\n",
              "    <tr>\n",
              "      <th>High</th>\n",
              "      <td>0</td>\n",
              "      <td>932</td>\n",
              "      <td>0</td>\n",
              "      <td>0</td>\n",
              "      <td>0</td>\n",
              "      <td>0</td>\n",
              "      <td>0</td>\n",
              "      <td>0</td>\n",
              "      <td>0</td>\n",
              "    </tr>\n",
              "    <tr>\n",
              "      <th>Medium</th>\n",
              "      <td>935</td>\n",
              "      <td>0</td>\n",
              "      <td>0</td>\n",
              "      <td>0</td>\n",
              "      <td>930</td>\n",
              "      <td>0</td>\n",
              "      <td>0</td>\n",
              "      <td>0</td>\n",
              "      <td>928</td>\n",
              "    </tr>\n",
              "    <tr>\n",
              "      <th>Small</th>\n",
              "      <td>528</td>\n",
              "      <td>0</td>\n",
              "      <td>930</td>\n",
              "      <td>555</td>\n",
              "      <td>0</td>\n",
              "      <td>929</td>\n",
              "      <td>930</td>\n",
              "      <td>926</td>\n",
              "      <td>0</td>\n",
              "    </tr>\n",
              "  </tbody>\n",
              "</table>\n",
              "</div>"
            ],
            "text/plain": [
              "Outlet_Establishment_Year  1985  1987  1997  1998  1999  2002  2004  2007  \\\n",
              "Outlet_Size                                                                 \n",
              "High                          0   932     0     0     0     0     0     0   \n",
              "Medium                      935     0     0     0   930     0     0     0   \n",
              "Small                       528     0   930   555     0   929   930   926   \n",
              "\n",
              "Outlet_Establishment_Year  2009  \n",
              "Outlet_Size                      \n",
              "High                          0  \n",
              "Medium                      928  \n",
              "Small                         0  "
            ]
          },
          "metadata": {
            "tags": []
          },
          "execution_count": 23
        }
      ]
    },
    {
      "cell_type": "code",
      "metadata": {
        "id": "aHoBf6ceaBCp",
        "colab_type": "code",
        "outputId": "7ce5311a-76d8-44ec-9692-6c7729cce19b",
        "colab": {
          "base_uri": "https://localhost:8080/",
          "height": 202
        }
      },
      "source": [
        "print(train.Item_Fat_Content.unique())\n",
        "print(train.Item_Type.unique())\n",
        "print(train.Outlet_Identifier.unique())\n",
        "print(train.Outlet_Size.unique())\n",
        "print(train.Outlet_Location_Type.unique())\n",
        "print(train.Outlet_Type.unique())"
      ],
      "execution_count": 24,
      "outputs": [
        {
          "output_type": "stream",
          "text": [
            "['Low Fat' 'Regular' 'low fat' 'LF' 'reg']\n",
            "['Dairy' 'Soft Drinks' 'Meat' 'Fruits and Vegetables' 'Household'\n",
            " 'Baking Goods' 'Snack Foods' 'Frozen Foods' 'Breakfast'\n",
            " 'Health and Hygiene' 'Hard Drinks' 'Canned' 'Breads' 'Starchy Foods'\n",
            " 'Others' 'Seafood']\n",
            "['OUT049' 'OUT018' 'OUT010' 'OUT013' 'OUT027' 'OUT045' 'OUT017' 'OUT046'\n",
            " 'OUT035' 'OUT019']\n",
            "['Medium' 'Small' 'High']\n",
            "['Tier 1' 'Tier 3' 'Tier 2']\n",
            "['Supermarket Type1' 'Supermarket Type2' 'Grocery Store'\n",
            " 'Supermarket Type3']\n"
          ],
          "name": "stdout"
        }
      ]
    },
    {
      "cell_type": "markdown",
      "metadata": {
        "id": "k_lVoyeubcHz",
        "colab_type": "text"
      },
      "source": [
        "**Observation**: \n",
        "\n",
        "\n",
        "\n",
        "> From the Above analysis, we can found that there are some instances in 2 features i.e. Item_Fat_Content and Item_Type where the same value has been presented in some different manner. eg. Regular written as reg. \n",
        "\n",
        "\n",
        "> Hence the same needs to be corrected using the correct value/term at all the places where incorrect data has been entered.\n",
        "\n",
        "\n",
        "\n",
        "\n",
        "\n",
        "\n",
        "\n",
        "\n",
        "\n",
        "\n",
        "\n"
      ]
    },
    {
      "cell_type": "code",
      "metadata": {
        "id": "FJMLOzMQaA_G",
        "colab_type": "code",
        "colab": {}
      },
      "source": [
        "train['Item_Fat_Content'] = train['Item_Fat_Content'].map({'Low Fat':'Low_Fat', 'low fat': 'Low_Fat','LF':'Low_Fat','Regular':'Regulr',\n",
        "                                                           'reg':'Regulr'})\n",
        "\n",
        "test['Item_Fat_Content'] = test['Item_Fat_Content'].map({'Low Fat':'Low_Fat', 'low fat': 'Low_Fat','LF':'Low_Fat','Regular':'Regulr',\n",
        "                                                           'reg':'Regulr'})\n",
        "\n"
      ],
      "execution_count": 0,
      "outputs": []
    },
    {
      "cell_type": "code",
      "metadata": {
        "id": "ququOTgApSYJ",
        "colab_type": "code",
        "outputId": "2ac491a1-4711-407e-ac16-1454240e7600",
        "colab": {
          "base_uri": "https://localhost:8080/",
          "height": 299
        }
      },
      "source": [
        "train.head(5)"
      ],
      "execution_count": 26,
      "outputs": [
        {
          "output_type": "execute_result",
          "data": {
            "text/html": [
              "<div>\n",
              "<style scoped>\n",
              "    .dataframe tbody tr th:only-of-type {\n",
              "        vertical-align: middle;\n",
              "    }\n",
              "\n",
              "    .dataframe tbody tr th {\n",
              "        vertical-align: top;\n",
              "    }\n",
              "\n",
              "    .dataframe thead th {\n",
              "        text-align: right;\n",
              "    }\n",
              "</style>\n",
              "<table border=\"1\" class=\"dataframe\">\n",
              "  <thead>\n",
              "    <tr style=\"text-align: right;\">\n",
              "      <th></th>\n",
              "      <th>Item_Identifier</th>\n",
              "      <th>Item_Weight</th>\n",
              "      <th>Item_Fat_Content</th>\n",
              "      <th>Item_Visibility</th>\n",
              "      <th>Item_Type</th>\n",
              "      <th>Item_MRP</th>\n",
              "      <th>Outlet_Identifier</th>\n",
              "      <th>Outlet_Establishment_Year</th>\n",
              "      <th>Outlet_Size</th>\n",
              "      <th>Outlet_Location_Type</th>\n",
              "      <th>Outlet_Type</th>\n",
              "      <th>Item_Outlet_Sales</th>\n",
              "    </tr>\n",
              "  </thead>\n",
              "  <tbody>\n",
              "    <tr>\n",
              "      <th>0</th>\n",
              "      <td>FDA15</td>\n",
              "      <td>9.30</td>\n",
              "      <td>Low_Fat</td>\n",
              "      <td>0.016047</td>\n",
              "      <td>Dairy</td>\n",
              "      <td>249.8092</td>\n",
              "      <td>OUT049</td>\n",
              "      <td>1999</td>\n",
              "      <td>Medium</td>\n",
              "      <td>Tier 1</td>\n",
              "      <td>Supermarket Type1</td>\n",
              "      <td>3735.1380</td>\n",
              "    </tr>\n",
              "    <tr>\n",
              "      <th>1</th>\n",
              "      <td>DRC01</td>\n",
              "      <td>5.92</td>\n",
              "      <td>Regulr</td>\n",
              "      <td>0.019278</td>\n",
              "      <td>Soft Drinks</td>\n",
              "      <td>48.2692</td>\n",
              "      <td>OUT018</td>\n",
              "      <td>2009</td>\n",
              "      <td>Medium</td>\n",
              "      <td>Tier 3</td>\n",
              "      <td>Supermarket Type2</td>\n",
              "      <td>443.4228</td>\n",
              "    </tr>\n",
              "    <tr>\n",
              "      <th>2</th>\n",
              "      <td>FDN15</td>\n",
              "      <td>17.50</td>\n",
              "      <td>Low_Fat</td>\n",
              "      <td>0.016760</td>\n",
              "      <td>Meat</td>\n",
              "      <td>141.6180</td>\n",
              "      <td>OUT049</td>\n",
              "      <td>1999</td>\n",
              "      <td>Medium</td>\n",
              "      <td>Tier 1</td>\n",
              "      <td>Supermarket Type1</td>\n",
              "      <td>2097.2700</td>\n",
              "    </tr>\n",
              "    <tr>\n",
              "      <th>3</th>\n",
              "      <td>FDX07</td>\n",
              "      <td>19.20</td>\n",
              "      <td>Regulr</td>\n",
              "      <td>0.066132</td>\n",
              "      <td>Fruits and Vegetables</td>\n",
              "      <td>182.0950</td>\n",
              "      <td>OUT010</td>\n",
              "      <td>1998</td>\n",
              "      <td>Small</td>\n",
              "      <td>Tier 3</td>\n",
              "      <td>Grocery Store</td>\n",
              "      <td>732.3800</td>\n",
              "    </tr>\n",
              "    <tr>\n",
              "      <th>4</th>\n",
              "      <td>NCD19</td>\n",
              "      <td>8.93</td>\n",
              "      <td>Low_Fat</td>\n",
              "      <td>0.066132</td>\n",
              "      <td>Household</td>\n",
              "      <td>53.8614</td>\n",
              "      <td>OUT013</td>\n",
              "      <td>1987</td>\n",
              "      <td>High</td>\n",
              "      <td>Tier 3</td>\n",
              "      <td>Supermarket Type1</td>\n",
              "      <td>994.7052</td>\n",
              "    </tr>\n",
              "  </tbody>\n",
              "</table>\n",
              "</div>"
            ],
            "text/plain": [
              "  Item_Identifier  Item_Weight Item_Fat_Content  Item_Visibility  \\\n",
              "0           FDA15         9.30          Low_Fat         0.016047   \n",
              "1           DRC01         5.92           Regulr         0.019278   \n",
              "2           FDN15        17.50          Low_Fat         0.016760   \n",
              "3           FDX07        19.20           Regulr         0.066132   \n",
              "4           NCD19         8.93          Low_Fat         0.066132   \n",
              "\n",
              "               Item_Type  Item_MRP Outlet_Identifier  \\\n",
              "0                  Dairy  249.8092            OUT049   \n",
              "1            Soft Drinks   48.2692            OUT018   \n",
              "2                   Meat  141.6180            OUT049   \n",
              "3  Fruits and Vegetables  182.0950            OUT010   \n",
              "4              Household   53.8614            OUT013   \n",
              "\n",
              "   Outlet_Establishment_Year Outlet_Size Outlet_Location_Type  \\\n",
              "0                       1999      Medium               Tier 1   \n",
              "1                       2009      Medium               Tier 3   \n",
              "2                       1999      Medium               Tier 1   \n",
              "3                       1998       Small               Tier 3   \n",
              "4                       1987        High               Tier 3   \n",
              "\n",
              "         Outlet_Type  Item_Outlet_Sales  \n",
              "0  Supermarket Type1          3735.1380  \n",
              "1  Supermarket Type2           443.4228  \n",
              "2  Supermarket Type1          2097.2700  \n",
              "3      Grocery Store           732.3800  \n",
              "4  Supermarket Type1           994.7052  "
            ]
          },
          "metadata": {
            "tags": []
          },
          "execution_count": 26
        }
      ]
    },
    {
      "cell_type": "code",
      "metadata": {
        "id": "YSukL_b4A0TJ",
        "colab_type": "code",
        "outputId": "168bfde3-52aa-42d3-b7f4-a8be0691adf7",
        "colab": {
          "base_uri": "https://localhost:8080/",
          "height": 84
        }
      },
      "source": [
        "train['Item_Identifier_type'] = train['Item_Identifier'].apply(lambda x :x[:2])\n",
        "train['Item_Identifier_type'].value_counts()"
      ],
      "execution_count": 27,
      "outputs": [
        {
          "output_type": "execute_result",
          "data": {
            "text/plain": [
              "FD    6125\n",
              "NC    1599\n",
              "DR     799\n",
              "Name: Item_Identifier_type, dtype: int64"
            ]
          },
          "metadata": {
            "tags": []
          },
          "execution_count": 27
        }
      ]
    },
    {
      "cell_type": "code",
      "metadata": {
        "id": "YNsbrJ-mgSGq",
        "colab_type": "code",
        "outputId": "7398562e-0101-4ff3-e5ef-910a116c10ce",
        "colab": {
          "base_uri": "https://localhost:8080/",
          "height": 34
        }
      },
      "source": [
        "DF = train.loc[:,('Item_Identifier_type','Item_Type')]\n",
        "x = DF[DF['Item_Type']=='Soft Drinks']\n",
        "x.Item_Identifier_type.unique()\n",
        "\n",
        "y = DF[DF['Item_Type']=='Hard Drinks']\n",
        "y.Item_Identifier_type.unique()"
      ],
      "execution_count": 28,
      "outputs": [
        {
          "output_type": "execute_result",
          "data": {
            "text/plain": [
              "array(['DR'], dtype=object)"
            ]
          },
          "metadata": {
            "tags": []
          },
          "execution_count": 28
        }
      ]
    },
    {
      "cell_type": "code",
      "metadata": {
        "id": "OmowY4l8jew9",
        "colab_type": "code",
        "outputId": "0ef92186-6173-4a9d-a19a-528c2381eefe",
        "colab": {
          "base_uri": "https://localhost:8080/",
          "height": 182
        }
      },
      "source": [
        "pd.crosstab(train.Item_Identifier_type,train.Item_Type)"
      ],
      "execution_count": 29,
      "outputs": [
        {
          "output_type": "execute_result",
          "data": {
            "text/html": [
              "<div>\n",
              "<style scoped>\n",
              "    .dataframe tbody tr th:only-of-type {\n",
              "        vertical-align: middle;\n",
              "    }\n",
              "\n",
              "    .dataframe tbody tr th {\n",
              "        vertical-align: top;\n",
              "    }\n",
              "\n",
              "    .dataframe thead th {\n",
              "        text-align: right;\n",
              "    }\n",
              "</style>\n",
              "<table border=\"1\" class=\"dataframe\">\n",
              "  <thead>\n",
              "    <tr style=\"text-align: right;\">\n",
              "      <th>Item_Type</th>\n",
              "      <th>Baking Goods</th>\n",
              "      <th>Breads</th>\n",
              "      <th>Breakfast</th>\n",
              "      <th>Canned</th>\n",
              "      <th>Dairy</th>\n",
              "      <th>Frozen Foods</th>\n",
              "      <th>Fruits and Vegetables</th>\n",
              "      <th>Hard Drinks</th>\n",
              "      <th>Health and Hygiene</th>\n",
              "      <th>Household</th>\n",
              "      <th>Meat</th>\n",
              "      <th>Others</th>\n",
              "      <th>Seafood</th>\n",
              "      <th>Snack Foods</th>\n",
              "      <th>Soft Drinks</th>\n",
              "      <th>Starchy Foods</th>\n",
              "    </tr>\n",
              "    <tr>\n",
              "      <th>Item_Identifier_type</th>\n",
              "      <th></th>\n",
              "      <th></th>\n",
              "      <th></th>\n",
              "      <th></th>\n",
              "      <th></th>\n",
              "      <th></th>\n",
              "      <th></th>\n",
              "      <th></th>\n",
              "      <th></th>\n",
              "      <th></th>\n",
              "      <th></th>\n",
              "      <th></th>\n",
              "      <th></th>\n",
              "      <th></th>\n",
              "      <th></th>\n",
              "      <th></th>\n",
              "    </tr>\n",
              "  </thead>\n",
              "  <tbody>\n",
              "    <tr>\n",
              "      <th>DR</th>\n",
              "      <td>0</td>\n",
              "      <td>0</td>\n",
              "      <td>0</td>\n",
              "      <td>0</td>\n",
              "      <td>140</td>\n",
              "      <td>0</td>\n",
              "      <td>0</td>\n",
              "      <td>214</td>\n",
              "      <td>0</td>\n",
              "      <td>0</td>\n",
              "      <td>0</td>\n",
              "      <td>0</td>\n",
              "      <td>0</td>\n",
              "      <td>0</td>\n",
              "      <td>445</td>\n",
              "      <td>0</td>\n",
              "    </tr>\n",
              "    <tr>\n",
              "      <th>FD</th>\n",
              "      <td>648</td>\n",
              "      <td>251</td>\n",
              "      <td>110</td>\n",
              "      <td>649</td>\n",
              "      <td>542</td>\n",
              "      <td>856</td>\n",
              "      <td>1232</td>\n",
              "      <td>0</td>\n",
              "      <td>0</td>\n",
              "      <td>0</td>\n",
              "      <td>425</td>\n",
              "      <td>0</td>\n",
              "      <td>64</td>\n",
              "      <td>1200</td>\n",
              "      <td>0</td>\n",
              "      <td>148</td>\n",
              "    </tr>\n",
              "    <tr>\n",
              "      <th>NC</th>\n",
              "      <td>0</td>\n",
              "      <td>0</td>\n",
              "      <td>0</td>\n",
              "      <td>0</td>\n",
              "      <td>0</td>\n",
              "      <td>0</td>\n",
              "      <td>0</td>\n",
              "      <td>0</td>\n",
              "      <td>520</td>\n",
              "      <td>910</td>\n",
              "      <td>0</td>\n",
              "      <td>169</td>\n",
              "      <td>0</td>\n",
              "      <td>0</td>\n",
              "      <td>0</td>\n",
              "      <td>0</td>\n",
              "    </tr>\n",
              "  </tbody>\n",
              "</table>\n",
              "</div>"
            ],
            "text/plain": [
              "Item_Type             Baking Goods  Breads  Breakfast  Canned  Dairy  \\\n",
              "Item_Identifier_type                                                   \n",
              "DR                               0       0          0       0    140   \n",
              "FD                             648     251        110     649    542   \n",
              "NC                               0       0          0       0      0   \n",
              "\n",
              "Item_Type             Frozen Foods  Fruits and Vegetables  Hard Drinks  \\\n",
              "Item_Identifier_type                                                     \n",
              "DR                               0                      0          214   \n",
              "FD                             856                   1232            0   \n",
              "NC                               0                      0            0   \n",
              "\n",
              "Item_Type             Health and Hygiene  Household  Meat  Others  Seafood  \\\n",
              "Item_Identifier_type                                                         \n",
              "DR                                     0          0     0       0        0   \n",
              "FD                                     0          0   425       0       64   \n",
              "NC                                   520        910     0     169        0   \n",
              "\n",
              "Item_Type             Snack Foods  Soft Drinks  Starchy Foods  \n",
              "Item_Identifier_type                                           \n",
              "DR                              0          445              0  \n",
              "FD                           1200            0            148  \n",
              "NC                              0            0              0  "
            ]
          },
          "metadata": {
            "tags": []
          },
          "execution_count": 29
        }
      ]
    },
    {
      "cell_type": "markdown",
      "metadata": {
        "id": "JhMsU9otBZao",
        "colab_type": "text"
      },
      "source": [
        "Observation:\n",
        "\n",
        "\n",
        "> The Item Identifier has the categry code of the items written in it. \n",
        "\n",
        "> Hence after decoding the same we realize that all the item types are also comes under categories.\n",
        "\n",
        "\n",
        "\n",
        "> After decoding the Item Identifier we found 3 categories. They are\n",
        "\n",
        "1.   DR ( Drinks )\n",
        "2.   FD ( Food Products )\n",
        "\n",
        "1.   NC ( Non Consumable )\n",
        "\n",
        "\n",
        "\n",
        "> Hence we will categorize the Item type into these 3 categories by using Mapping function.\n",
        "\n",
        "\n",
        "\n",
        "\n",
        "\n",
        "\n",
        "\n",
        "\n",
        "\n",
        "\n",
        "\n",
        "\n"
      ]
    },
    {
      "cell_type": "code",
      "metadata": {
        "id": "36zGrJYzqGBE",
        "colab_type": "code",
        "colab": {}
      },
      "source": [
        "train['Item_Type']  =  train['Item_Type'].map({'Dairy':'Food_Product', 'Breads':'Food_Product', 'Breakfast':'Food_Product', 'Starchy Foods':'Food_Product',\n",
        "                                               'Snack Foods': 'Food_Product', 'Baking Goods': 'Food_Product', \n",
        "                                               'Meat': 'Food_Product', 'Seafood': 'Food_Product',\n",
        "                                               'Fruits and Vegetables' : 'Food_Product',\n",
        "                                               'Frozen Foods': 'Food_Product', 'Canned': 'Food_Product',\n",
        "                                               'Household' :'Non_Consumable', 'Health and Hygiene': 'Non_Consumable','Others': 'Non_Consumable',\n",
        "                                               'Soft Drinks':'Drink' , 'Hard Drinks':'Drink'})\n",
        "\n",
        "test['Item_Type']  =  test['Item_Type'].map({'Dairy':'Food_Product', 'Breads':'Food_Product', 'Breakfast':'Food_Product', 'Starchy Foods':'Food_Product',\n",
        "                                               'Snack Foods': 'Food_Product', 'Baking Goods': 'Food_Product', \n",
        "                                               'Meat': 'Food_Product', 'Seafood': 'Food_Product',\n",
        "                                               'Fruits and Vegetables' : 'Food_Product',\n",
        "                                               'Frozen Foods': 'Food_Product', 'Canned': 'Food_Product',\n",
        "                                               'Household' :'Non_Consumable', 'Health and Hygiene': 'Non_Consumable','Others': 'Non_Consumable',\n",
        "                                               'Soft Drinks':'Drink' , 'Hard Drinks':'Drink'})\n",
        "## Drinks = Hard Drinks and Soft Drinks\n",
        "\n",
        "## Non Consumable = Health And Hygiene, House Hold, Others\n",
        "\n",
        "## Food Products = "
      ],
      "execution_count": 0,
      "outputs": []
    },
    {
      "cell_type": "markdown",
      "metadata": {
        "id": "rVaXIoh3KzCg",
        "colab_type": "text"
      },
      "source": [
        "Note:\n",
        "\n",
        "\n",
        "\n",
        "> Non Consumable Items cannot have Fat in it.\n",
        "\n",
        "\n",
        "\n",
        "> Hence the Item_Fat_Content may also have one more instance which is Fatless\n",
        "\n",
        "\n",
        "\n",
        "\n"
      ]
    },
    {
      "cell_type": "code",
      "metadata": {
        "id": "wHOOBa2jKysC",
        "colab_type": "code",
        "colab": {}
      },
      "source": [
        "train.loc[(train.Item_Type=='Non_Consumable'),\"Item_Fat_Content\"] = 'Fatless'\n",
        "          "
      ],
      "execution_count": 0,
      "outputs": []
    },
    {
      "cell_type": "code",
      "metadata": {
        "id": "VQhszmysNHST",
        "colab_type": "code",
        "colab": {}
      },
      "source": [
        "test.loc[(test.Item_Type=='Non_Consumable'),\"Item_Fat_Content\"] = 'Fatless'"
      ],
      "execution_count": 0,
      "outputs": []
    },
    {
      "cell_type": "code",
      "metadata": {
        "id": "WYe2LrdcMlP0",
        "colab_type": "code",
        "outputId": "11b4c1d4-b78e-453d-b95f-6a9377e01b52",
        "colab": {
          "base_uri": "https://localhost:8080/",
          "height": 151
        }
      },
      "source": [
        "print(train.Item_Fat_Content.value_counts())\n",
        "print(train.Item_Type.value_counts())"
      ],
      "execution_count": 33,
      "outputs": [
        {
          "output_type": "stream",
          "text": [
            "Low_Fat    3918\n",
            "Regulr     3006\n",
            "Fatless    1599\n",
            "Name: Item_Fat_Content, dtype: int64\n",
            "Food_Product      6265\n",
            "Non_Consumable    1599\n",
            "Drink              659\n",
            "Name: Item_Type, dtype: int64\n"
          ],
          "name": "stdout"
        }
      ]
    },
    {
      "cell_type": "code",
      "metadata": {
        "id": "EcgmV-LGnenF",
        "colab_type": "code",
        "outputId": "045db7c0-2578-4377-9f32-b406c267fea7",
        "colab": {
          "base_uri": "https://localhost:8080/",
          "height": 50
        }
      },
      "source": [
        "print(train.Item_Fat_Content.unique())\n",
        "print(train.Item_Type.unique())"
      ],
      "execution_count": 34,
      "outputs": [
        {
          "output_type": "stream",
          "text": [
            "['Low_Fat' 'Regulr' 'Fatless']\n",
            "['Food_Product' 'Drink' 'Non_Consumable']\n"
          ],
          "name": "stdout"
        }
      ]
    },
    {
      "cell_type": "markdown",
      "metadata": {
        "id": "EVh2mL5bEbpx",
        "colab_type": "text"
      },
      "source": [
        "\n",
        "\n",
        "> The Outlet establishment year has been given in the training dataset.\n",
        "\n",
        "\n",
        "\n",
        "> The same can be used to generate a new feature named Outlet age.\n",
        "\n",
        "> Hence We will create one new variable i.e. Outlet Age\n",
        "\n",
        "\n",
        "\n",
        "\n",
        "\n",
        "\n"
      ]
    },
    {
      "cell_type": "code",
      "metadata": {
        "id": "bsz8aLPAhHs0",
        "colab_type": "code",
        "outputId": "c005bd1f-9970-4412-f967-f139a31b2ebb",
        "colab": {
          "base_uri": "https://localhost:8080/",
          "height": 118
        }
      },
      "source": [
        "train['Outlet_age'] = 2013 - train['Outlet_Establishment_Year']\n",
        "\n",
        "test['Outlet_age'] = 2013 - test['Outlet_Establishment_Year']\n",
        "test['Outlet_age'][:5]"
      ],
      "execution_count": 35,
      "outputs": [
        {
          "output_type": "execute_result",
          "data": {
            "text/plain": [
              "0    14\n",
              "1     6\n",
              "2    15\n",
              "3     6\n",
              "4    28\n",
              "Name: Outlet_age, dtype: int64"
            ]
          },
          "metadata": {
            "tags": []
          },
          "execution_count": 35
        }
      ]
    },
    {
      "cell_type": "code",
      "metadata": {
        "id": "V62AOF_ymae0",
        "colab_type": "code",
        "colab": {}
      },
      "source": [
        "train['Outlet_Size'] = train.Outlet_Size.map({'Medium':1, 'High':2, 'Small': 0})\n",
        "\n",
        "test['Outlet_Size'] = test.Outlet_Size.map({'Medium':1,'High':2, 'Small': 0})\n"
      ],
      "execution_count": 0,
      "outputs": []
    },
    {
      "cell_type": "markdown",
      "metadata": {
        "id": "kOH4KNjWI-bq",
        "colab_type": "text"
      },
      "source": [
        "## Univariate Analysis"
      ]
    },
    {
      "cell_type": "code",
      "metadata": {
        "id": "IOfh6YZeI9zu",
        "colab_type": "code",
        "outputId": "121a025e-0878-4330-b179-3d953a757148",
        "colab": {
          "base_uri": "https://localhost:8080/",
          "height": 297
        }
      },
      "source": [
        "sns.distplot(train.Item_Outlet_Sales,color='red',label='Total Sales')"
      ],
      "execution_count": 37,
      "outputs": [
        {
          "output_type": "execute_result",
          "data": {
            "text/plain": [
              "<matplotlib.axes._subplots.AxesSubplot at 0x7ff5ed302358>"
            ]
          },
          "metadata": {
            "tags": []
          },
          "execution_count": 37
        },
        {
          "output_type": "display_data",
          "data": {
            "image/png": "[encoded data removed]",
            "text/plain": [
              "<Figure size 432x288 with 1 Axes>"
            ]
          },
          "metadata": {
            "tags": []
          }
        }
      ]
    },
    {
      "cell_type": "code",
      "metadata": {
        "id": "HDQhBLxrLkGo",
        "colab_type": "code",
        "colab": {}
      },
      "source": [
        ""
      ],
      "execution_count": 0,
      "outputs": []
    },
    {
      "cell_type": "code",
      "metadata": {
        "id": "Y6vbHtHsKOTR",
        "colab_type": "code",
        "outputId": "897e98c4-2444-41f7-d83c-685bbfe21c24",
        "colab": {
          "base_uri": "https://localhost:8080/",
          "height": 297
        }
      },
      "source": [
        " sns.distplot(train.Item_Visibility,hist=True,color='blue')"
      ],
      "execution_count": 38,
      "outputs": [
        {
          "output_type": "execute_result",
          "data": {
            "text/plain": [
              "<matplotlib.axes._subplots.AxesSubplot at 0x7ff5ed24fb70>"
            ]
          },
          "metadata": {
            "tags": []
          },
          "execution_count": 38
        },
        {
          "output_type": "display_data",
          "data": {
            "image/png": "[encoded data removed]",
            "text/plain": [
              "<Figure size 432x288 with 1 Axes>"
            ]
          },
          "metadata": {
            "tags": []
          }
        }
      ]
    },
    {
      "cell_type": "markdown",
      "metadata": {
        "id": "ggtKTHY8fYSE",
        "colab_type": "text"
      },
      "source": [
        "## **Bivariate Analysis**"
      ]
    },
    {
      "cell_type": "code",
      "metadata": {
        "id": "yMCi1cO2LFD5",
        "colab_type": "code",
        "outputId": "49e28871-6096-4591-8239-1ec8a9cc2f1d",
        "colab": {
          "base_uri": "https://localhost:8080/",
          "height": 118
        }
      },
      "source": [
        "train.columns"
      ],
      "execution_count": 39,
      "outputs": [
        {
          "output_type": "execute_result",
          "data": {
            "text/plain": [
              "Index(['Item_Identifier', 'Item_Weight', 'Item_Fat_Content', 'Item_Visibility',\n",
              "       'Item_Type', 'Item_MRP', 'Outlet_Identifier',\n",
              "       'Outlet_Establishment_Year', 'Outlet_Size', 'Outlet_Location_Type',\n",
              "       'Outlet_Type', 'Item_Outlet_Sales', 'Item_Identifier_type',\n",
              "       'Outlet_age'],\n",
              "      dtype='object')"
            ]
          },
          "metadata": {
            "tags": []
          },
          "execution_count": 39
        }
      ]
    },
    {
      "cell_type": "code",
      "metadata": {
        "id": "RO8rqT4tLEsN",
        "colab_type": "code",
        "outputId": "9f995ced-0464-4af3-af18-bf7ff1bbdaa0",
        "colab": {
          "base_uri": "https://localhost:8080/",
          "height": 765
        }
      },
      "source": [
        "\n",
        "sns.set_style(style='darkgrid')\n",
        "\n",
        "plt.figure(1)\n",
        "plt.figure(figsize=(18,12))\n",
        "\n",
        "plt.subplot(221)\n",
        "sns.barplot(train.Outlet_Identifier,train.Item_Outlet_Sales)\n",
        "plt.title('Total Sales from all Outlet')\n",
        "\n",
        "plt.subplot(222)\n",
        "sns.barplot(train.Item_Fat_Content,train.Item_Outlet_Sales)\n",
        "plt.title('Total Sales of Item based on Fat Content')\n",
        "\n",
        "plt.subplot(223)\n",
        "sns.barplot(train.Outlet_Size,train.Item_Outlet_Sales)\n",
        "plt.title('Total Sales from different Outlet Size')\n",
        "\n",
        "\n",
        "plt.subplot(224)\n",
        "sns.barplot(train.Outlet_Location_Type,train.Item_Outlet_Sales)\n",
        "plt.title('Total Sales from Different location')"
      ],
      "execution_count": 40,
      "outputs": [
        {
          "output_type": "execute_result",
          "data": {
            "text/plain": [
              "Text(0.5, 1.0, 'Total Sales from Different location')"
            ]
          },
          "metadata": {
            "tags": []
          },
          "execution_count": 40
        },
        {
          "output_type": "display_data",
          "data": {
            "text/plain": [
              "<Figure size 432x288 with 0 Axes>"
            ]
          },
          "metadata": {
            "tags": []
          }
        },
        {
          "output_type": "display_data",
          "data": {
            "image/png": "[encoded data removed]",
            "text/plain": [
              "<Figure size 1296x864 with 4 Axes>"
            ]
          },
          "metadata": {
            "tags": []
          }
        }
      ]
    },
    {
      "cell_type": "code",
      "metadata": {
        "id": "_BPCiRVZMkKK",
        "colab_type": "code",
        "colab": {}
      },
      "source": [
        ""
      ],
      "execution_count": 0,
      "outputs": []
    },
    {
      "cell_type": "code",
      "metadata": {
        "id": "_rr5Pf3yMkv4",
        "colab_type": "code",
        "outputId": "cffebf0d-65b1-4284-c468-beff43e2535f",
        "colab": {
          "base_uri": "https://localhost:8080/",
          "height": 765
        }
      },
      "source": [
        "plt.figure(1)\n",
        "plt.figure(figsize=(18,12))\n",
        "\n",
        "plt.subplot(221)\n",
        "sns.countplot(train.Outlet_Identifier)\n",
        "plt.title('Total Sales from all Outlet')\n",
        "\n",
        "plt.subplot(222)\n",
        "sns.countplot(train.Item_Fat_Content)\n",
        "plt.title('Total Sales of Item based on Fat Content')\n",
        "\n",
        "plt.subplot(223)\n",
        "sns.countplot(train.Outlet_Size)\n",
        "plt.title('Total Sales from different Outlet Size')\n",
        "\n",
        "\n",
        "plt.subplot(224)\n",
        "sns.countplot(train.Outlet_Location_Type)\n",
        "plt.title('Total Sales from Different location')"
      ],
      "execution_count": 41,
      "outputs": [
        {
          "output_type": "execute_result",
          "data": {
            "text/plain": [
              "Text(0.5, 1.0, 'Total Sales from Different location')"
            ]
          },
          "metadata": {
            "tags": []
          },
          "execution_count": 41
        },
        {
          "output_type": "display_data",
          "data": {
            "text/plain": [
              "<Figure size 432x288 with 0 Axes>"
            ]
          },
          "metadata": {
            "tags": []
          }
        },
        {
          "output_type": "display_data",
          "data": {
            "image/png": "[encoded data removed]",
            "text/plain": [
              "<Figure size 1296x864 with 4 Axes>"
            ]
          },
          "metadata": {
            "tags": []
          }
        }
      ]
    },
    {
      "cell_type": "code",
      "metadata": {
        "id": "5CvICnm5NFDR",
        "colab_type": "code",
        "colab": {}
      },
      "source": [
        ""
      ],
      "execution_count": 0,
      "outputs": []
    },
    {
      "cell_type": "code",
      "metadata": {
        "id": "ZRJjEYwdxnfd",
        "colab_type": "code",
        "colab": {}
      },
      "source": [
        "# train['Outlet_age'] =  train['Outlet_age'].astype('object')"
      ],
      "execution_count": 0,
      "outputs": []
    },
    {
      "cell_type": "code",
      "metadata": {
        "id": "7C7eKDSfyDVB",
        "colab_type": "code",
        "colab": {}
      },
      "source": [
        "# test['Outlet_age'] =  test['Outlet_age'].astype('object')"
      ],
      "execution_count": 0,
      "outputs": []
    },
    {
      "cell_type": "code",
      "metadata": {
        "id": "gDS9k62aK7y_",
        "colab_type": "code",
        "outputId": "b14bfa41-d53e-4265-a4d8-443e456ba7aa",
        "colab": {
          "base_uri": "https://localhost:8080/",
          "height": 336
        }
      },
      "source": [
        "train.info()"
      ],
      "execution_count": 44,
      "outputs": [
        {
          "output_type": "stream",
          "text": [
            "<class 'pandas.core.frame.DataFrame'>\n",
            "RangeIndex: 8523 entries, 0 to 8522\n",
            "Data columns (total 14 columns):\n",
            "Item_Identifier              8523 non-null object\n",
            "Item_Weight                  8523 non-null float64\n",
            "Item_Fat_Content             8523 non-null object\n",
            "Item_Visibility              8523 non-null float64\n",
            "Item_Type                    8523 non-null object\n",
            "Item_MRP                     8523 non-null float64\n",
            "Outlet_Identifier            8523 non-null object\n",
            "Outlet_Establishment_Year    8523 non-null int64\n",
            "Outlet_Size                  8523 non-null int64\n",
            "Outlet_Location_Type         8523 non-null object\n",
            "Outlet_Type                  8523 non-null object\n",
            "Item_Outlet_Sales            8523 non-null float64\n",
            "Item_Identifier_type         8523 non-null object\n",
            "Outlet_age                   8523 non-null int64\n",
            "dtypes: float64(4), int64(3), object(7)\n",
            "memory usage: 932.3+ KB\n"
          ],
          "name": "stdout"
        }
      ]
    },
    {
      "cell_type": "code",
      "metadata": {
        "id": "wRtFbT71yzqv",
        "colab_type": "code",
        "outputId": "631c93e9-57ab-45bb-936e-a713a3cc5f4a",
        "colab": {
          "base_uri": "https://localhost:8080/",
          "height": 235
        }
      },
      "source": [
        "(test.isnull().sum())/len(test)"
      ],
      "execution_count": 45,
      "outputs": [
        {
          "output_type": "execute_result",
          "data": {
            "text/plain": [
              "Item_Identifier              0.0\n",
              "Item_Weight                  0.0\n",
              "Item_Fat_Content             0.0\n",
              "Item_Visibility              0.0\n",
              "Item_Type                    0.0\n",
              "Item_MRP                     0.0\n",
              "Outlet_Identifier            0.0\n",
              "Outlet_Establishment_Year    0.0\n",
              "Outlet_Size                  0.0\n",
              "Outlet_Location_Type         0.0\n",
              "Outlet_Type                  0.0\n",
              "Outlet_age                   0.0\n",
              "dtype: float64"
            ]
          },
          "metadata": {
            "tags": []
          },
          "execution_count": 45
        }
      ]
    },
    {
      "cell_type": "code",
      "metadata": {
        "id": "hANdZm9jyfX6",
        "colab_type": "code",
        "colab": {
          "base_uri": "https://localhost:8080/",
          "height": 34
        },
        "outputId": "f760f791-def5-4aca-eaa8-9823d296fad8"
      },
      "source": [
        "'''train['Outlet_Size'] = train['Outlet_Size'].astype('object')\n",
        "test['Outlet_Size'] = test['Outlet_Size'].astype('object')'''"
      ],
      "execution_count": 46,
      "outputs": [
        {
          "output_type": "execute_result",
          "data": {
            "text/plain": [
              "\"train['Outlet_Size'] = train['Outlet_Size'].astype('object')\\ntest['Outlet_Size'] = test['Outlet_Size'].astype('object')\""
            ]
          },
          "metadata": {
            "tags": []
          },
          "execution_count": 46
        }
      ]
    },
    {
      "cell_type": "markdown",
      "metadata": {
        "id": "YbmItT57B48E",
        "colab_type": "text"
      },
      "source": [
        "## Finding Outliers"
      ]
    },
    {
      "cell_type": "code",
      "metadata": {
        "id": "M8d4ubOHCFU7",
        "colab_type": "code",
        "colab": {}
      },
      "source": [
        "from scipy.stats import zscore"
      ],
      "execution_count": 0,
      "outputs": []
    },
    {
      "cell_type": "code",
      "metadata": {
        "id": "LYedUQ-aCbI3",
        "colab_type": "code",
        "colab": {}
      },
      "source": [
        "num = train.select_dtypes(include=('int','float64'))"
      ],
      "execution_count": 0,
      "outputs": []
    },
    {
      "cell_type": "code",
      "metadata": {
        "id": "uUp1o3NAHXze",
        "colab_type": "code",
        "outputId": "b63207aa-a57f-4197-8b19-a21d8fdaacf5",
        "colab": {
          "base_uri": "https://localhost:8080/",
          "height": 195
        }
      },
      "source": [
        "num.head()"
      ],
      "execution_count": 49,
      "outputs": [
        {
          "output_type": "execute_result",
          "data": {
            "text/html": [
              "<div>\n",
              "<style scoped>\n",
              "    .dataframe tbody tr th:only-of-type {\n",
              "        vertical-align: middle;\n",
              "    }\n",
              "\n",
              "    .dataframe tbody tr th {\n",
              "        vertical-align: top;\n",
              "    }\n",
              "\n",
              "    .dataframe thead th {\n",
              "        text-align: right;\n",
              "    }\n",
              "</style>\n",
              "<table border=\"1\" class=\"dataframe\">\n",
              "  <thead>\n",
              "    <tr style=\"text-align: right;\">\n",
              "      <th></th>\n",
              "      <th>Item_Weight</th>\n",
              "      <th>Item_Visibility</th>\n",
              "      <th>Item_MRP</th>\n",
              "      <th>Outlet_Establishment_Year</th>\n",
              "      <th>Outlet_Size</th>\n",
              "      <th>Item_Outlet_Sales</th>\n",
              "      <th>Outlet_age</th>\n",
              "    </tr>\n",
              "  </thead>\n",
              "  <tbody>\n",
              "    <tr>\n",
              "      <th>0</th>\n",
              "      <td>9.30</td>\n",
              "      <td>0.016047</td>\n",
              "      <td>249.8092</td>\n",
              "      <td>1999</td>\n",
              "      <td>1</td>\n",
              "      <td>3735.1380</td>\n",
              "      <td>14</td>\n",
              "    </tr>\n",
              "    <tr>\n",
              "      <th>1</th>\n",
              "      <td>5.92</td>\n",
              "      <td>0.019278</td>\n",
              "      <td>48.2692</td>\n",
              "      <td>2009</td>\n",
              "      <td>1</td>\n",
              "      <td>443.4228</td>\n",
              "      <td>4</td>\n",
              "    </tr>\n",
              "    <tr>\n",
              "      <th>2</th>\n",
              "      <td>17.50</td>\n",
              "      <td>0.016760</td>\n",
              "      <td>141.6180</td>\n",
              "      <td>1999</td>\n",
              "      <td>1</td>\n",
              "      <td>2097.2700</td>\n",
              "      <td>14</td>\n",
              "    </tr>\n",
              "    <tr>\n",
              "      <th>3</th>\n",
              "      <td>19.20</td>\n",
              "      <td>0.066132</td>\n",
              "      <td>182.0950</td>\n",
              "      <td>1998</td>\n",
              "      <td>0</td>\n",
              "      <td>732.3800</td>\n",
              "      <td>15</td>\n",
              "    </tr>\n",
              "    <tr>\n",
              "      <th>4</th>\n",
              "      <td>8.93</td>\n",
              "      <td>0.066132</td>\n",
              "      <td>53.8614</td>\n",
              "      <td>1987</td>\n",
              "      <td>2</td>\n",
              "      <td>994.7052</td>\n",
              "      <td>26</td>\n",
              "    </tr>\n",
              "  </tbody>\n",
              "</table>\n",
              "</div>"
            ],
            "text/plain": [
              "   Item_Weight  Item_Visibility  Item_MRP  Outlet_Establishment_Year  \\\n",
              "0         9.30         0.016047  249.8092                       1999   \n",
              "1         5.92         0.019278   48.2692                       2009   \n",
              "2        17.50         0.016760  141.6180                       1999   \n",
              "3        19.20         0.066132  182.0950                       1998   \n",
              "4         8.93         0.066132   53.8614                       1987   \n",
              "\n",
              "   Outlet_Size  Item_Outlet_Sales  Outlet_age  \n",
              "0            1          3735.1380          14  \n",
              "1            1           443.4228           4  \n",
              "2            1          2097.2700          14  \n",
              "3            0           732.3800          15  \n",
              "4            2           994.7052          26  "
            ]
          },
          "metadata": {
            "tags": []
          },
          "execution_count": 49
        }
      ]
    },
    {
      "cell_type": "code",
      "metadata": {
        "id": "TRtPSxL_a6PX",
        "colab_type": "code",
        "colab": {}
      },
      "source": [
        "a = np.abs(zscore(num))"
      ],
      "execution_count": 0,
      "outputs": []
    },
    {
      "cell_type": "code",
      "metadata": {
        "id": "SmzMyVZ1z97W",
        "colab_type": "code",
        "outputId": "a5d69cc6-e6e0-4383-b7e1-154a1ac833fd",
        "colab": {
          "base_uri": "https://localhost:8080/",
          "height": 254
        }
      },
      "source": [
        "num.describe().T"
      ],
      "execution_count": 51,
      "outputs": [
        {
          "output_type": "execute_result",
          "data": {
            "text/html": [
              "<div>\n",
              "<style scoped>\n",
              "    .dataframe tbody tr th:only-of-type {\n",
              "        vertical-align: middle;\n",
              "    }\n",
              "\n",
              "    .dataframe tbody tr th {\n",
              "        vertical-align: top;\n",
              "    }\n",
              "\n",
              "    .dataframe thead th {\n",
              "        text-align: right;\n",
              "    }\n",
              "</style>\n",
              "<table border=\"1\" class=\"dataframe\">\n",
              "  <thead>\n",
              "    <tr style=\"text-align: right;\">\n",
              "      <th></th>\n",
              "      <th>count</th>\n",
              "      <th>mean</th>\n",
              "      <th>std</th>\n",
              "      <th>min</th>\n",
              "      <th>25%</th>\n",
              "      <th>50%</th>\n",
              "      <th>75%</th>\n",
              "      <th>max</th>\n",
              "    </tr>\n",
              "  </thead>\n",
              "  <tbody>\n",
              "    <tr>\n",
              "      <th>Item_Weight</th>\n",
              "      <td>8523.0</td>\n",
              "      <td>12.813420</td>\n",
              "      <td>4.227240</td>\n",
              "      <td>4.555000</td>\n",
              "      <td>9.310000</td>\n",
              "      <td>12.600000</td>\n",
              "      <td>16.000000</td>\n",
              "      <td>21.350000</td>\n",
              "    </tr>\n",
              "    <tr>\n",
              "      <th>Item_Visibility</th>\n",
              "      <td>8523.0</td>\n",
              "      <td>0.070213</td>\n",
              "      <td>0.048742</td>\n",
              "      <td>0.003575</td>\n",
              "      <td>0.033085</td>\n",
              "      <td>0.062517</td>\n",
              "      <td>0.094585</td>\n",
              "      <td>0.328391</td>\n",
              "    </tr>\n",
              "    <tr>\n",
              "      <th>Item_MRP</th>\n",
              "      <td>8523.0</td>\n",
              "      <td>140.992782</td>\n",
              "      <td>62.275067</td>\n",
              "      <td>31.290000</td>\n",
              "      <td>93.826500</td>\n",
              "      <td>143.012800</td>\n",
              "      <td>185.643700</td>\n",
              "      <td>266.888400</td>\n",
              "    </tr>\n",
              "    <tr>\n",
              "      <th>Outlet_Establishment_Year</th>\n",
              "      <td>8523.0</td>\n",
              "      <td>1997.831867</td>\n",
              "      <td>8.371760</td>\n",
              "      <td>1985.000000</td>\n",
              "      <td>1987.000000</td>\n",
              "      <td>1999.000000</td>\n",
              "      <td>2004.000000</td>\n",
              "      <td>2009.000000</td>\n",
              "    </tr>\n",
              "    <tr>\n",
              "      <th>Outlet_Size</th>\n",
              "      <td>8523.0</td>\n",
              "      <td>0.546404</td>\n",
              "      <td>0.683084</td>\n",
              "      <td>0.000000</td>\n",
              "      <td>0.000000</td>\n",
              "      <td>0.000000</td>\n",
              "      <td>1.000000</td>\n",
              "      <td>2.000000</td>\n",
              "    </tr>\n",
              "    <tr>\n",
              "      <th>Item_Outlet_Sales</th>\n",
              "      <td>8523.0</td>\n",
              "      <td>2181.288914</td>\n",
              "      <td>1706.499616</td>\n",
              "      <td>33.290000</td>\n",
              "      <td>834.247400</td>\n",
              "      <td>1794.331000</td>\n",
              "      <td>3101.296400</td>\n",
              "      <td>13086.964800</td>\n",
              "    </tr>\n",
              "    <tr>\n",
              "      <th>Outlet_age</th>\n",
              "      <td>8523.0</td>\n",
              "      <td>15.168133</td>\n",
              "      <td>8.371760</td>\n",
              "      <td>4.000000</td>\n",
              "      <td>9.000000</td>\n",
              "      <td>14.000000</td>\n",
              "      <td>26.000000</td>\n",
              "      <td>28.000000</td>\n",
              "    </tr>\n",
              "  </tbody>\n",
              "</table>\n",
              "</div>"
            ],
            "text/plain": [
              "                            count         mean          std          min  \\\n",
              "Item_Weight                8523.0    12.813420     4.227240     4.555000   \n",
              "Item_Visibility            8523.0     0.070213     0.048742     0.003575   \n",
              "Item_MRP                   8523.0   140.992782    62.275067    31.290000   \n",
              "Outlet_Establishment_Year  8523.0  1997.831867     8.371760  1985.000000   \n",
              "Outlet_Size                8523.0     0.546404     0.683084     0.000000   \n",
              "Item_Outlet_Sales          8523.0  2181.288914  1706.499616    33.290000   \n",
              "Outlet_age                 8523.0    15.168133     8.371760     4.000000   \n",
              "\n",
              "                                   25%          50%          75%           max  \n",
              "Item_Weight                   9.310000    12.600000    16.000000     21.350000  \n",
              "Item_Visibility               0.033085     0.062517     0.094585      0.328391  \n",
              "Item_MRP                     93.826500   143.012800   185.643700    266.888400  \n",
              "Outlet_Establishment_Year  1987.000000  1999.000000  2004.000000   2009.000000  \n",
              "Outlet_Size                   0.000000     0.000000     1.000000      2.000000  \n",
              "Item_Outlet_Sales           834.247400  1794.331000  3101.296400  13086.964800  \n",
              "Outlet_age                    9.000000    14.000000    26.000000     28.000000  "
            ]
          },
          "metadata": {
            "tags": []
          },
          "execution_count": 51
        }
      ]
    },
    {
      "cell_type": "code",
      "metadata": {
        "id": "8yOrI1LbD_Yp",
        "colab_type": "code",
        "outputId": "0c20618b-2768-41f8-dfe1-fabd6d0a6c9b",
        "colab": {
          "base_uri": "https://localhost:8080/",
          "height": 286
        }
      },
      "source": [
        "Q1 = num.quantile(0.25)\n",
        "Q3 = num.quantile(0.75)\n",
        "IQR = Q3- Q1\n",
        "LR = Q1 - 1.5*IQR\n",
        "UR = Q3 + 1.5*IQR\n",
        "print(LR)\n",
        "print(UR)"
      ],
      "execution_count": 52,
      "outputs": [
        {
          "output_type": "stream",
          "text": [
            "Item_Weight                    -0.725000\n",
            "Item_Visibility                -0.059165\n",
            "Item_MRP                      -43.899300\n",
            "Outlet_Establishment_Year    1961.500000\n",
            "Outlet_Size                    -1.500000\n",
            "Item_Outlet_Sales           -2566.326100\n",
            "Outlet_age                    -16.500000\n",
            "dtype: float64\n",
            "Item_Weight                    26.035000\n",
            "Item_Visibility                 0.186835\n",
            "Item_MRP                      323.369500\n",
            "Outlet_Establishment_Year    2029.500000\n",
            "Outlet_Size                     2.500000\n",
            "Item_Outlet_Sales            6501.869900\n",
            "Outlet_age                     51.500000\n",
            "dtype: float64\n"
          ],
          "name": "stdout"
        }
      ]
    },
    {
      "cell_type": "code",
      "metadata": {
        "id": "_8L1MqKsHPkI",
        "colab_type": "code",
        "outputId": "249956b0-088e-462f-a5e0-3c3be6c36b0a",
        "colab": {
          "base_uri": "https://localhost:8080/",
          "height": 336
        }
      },
      "source": [
        "train.info()"
      ],
      "execution_count": 53,
      "outputs": [
        {
          "output_type": "stream",
          "text": [
            "<class 'pandas.core.frame.DataFrame'>\n",
            "RangeIndex: 8523 entries, 0 to 8522\n",
            "Data columns (total 14 columns):\n",
            "Item_Identifier              8523 non-null object\n",
            "Item_Weight                  8523 non-null float64\n",
            "Item_Fat_Content             8523 non-null object\n",
            "Item_Visibility              8523 non-null float64\n",
            "Item_Type                    8523 non-null object\n",
            "Item_MRP                     8523 non-null float64\n",
            "Outlet_Identifier            8523 non-null object\n",
            "Outlet_Establishment_Year    8523 non-null int64\n",
            "Outlet_Size                  8523 non-null int64\n",
            "Outlet_Location_Type         8523 non-null object\n",
            "Outlet_Type                  8523 non-null object\n",
            "Item_Outlet_Sales            8523 non-null float64\n",
            "Item_Identifier_type         8523 non-null object\n",
            "Outlet_age                   8523 non-null int64\n",
            "dtypes: float64(4), int64(3), object(7)\n",
            "memory usage: 932.3+ KB\n"
          ],
          "name": "stdout"
        }
      ]
    },
    {
      "cell_type": "code",
      "metadata": {
        "id": "pyT3BdZUHknP",
        "colab_type": "code",
        "outputId": "dc29f3a3-13df-4f4e-f671-7382ab11a597",
        "colab": {
          "base_uri": "https://localhost:8080/",
          "height": 297
        }
      },
      "source": [
        "sns.boxplot(num.Item_MRP)"
      ],
      "execution_count": 54,
      "outputs": [
        {
          "output_type": "execute_result",
          "data": {
            "text/plain": [
              "<matplotlib.axes._subplots.AxesSubplot at 0x7ff5ece0ab70>"
            ]
          },
          "metadata": {
            "tags": []
          },
          "execution_count": 54
        },
        {
          "output_type": "display_data",
          "data": {
            "image/png": "[encoded data removed]",
            "text/plain": [
              "<Figure size 432x288 with 1 Axes>"
            ]
          },
          "metadata": {
            "tags": []
          }
        }
      ]
    },
    {
      "cell_type": "code",
      "metadata": {
        "id": "bK3-yqU0IFFw",
        "colab_type": "code",
        "outputId": "d64ada95-98e6-4442-ea94-02f2d49235e0",
        "colab": {
          "base_uri": "https://localhost:8080/",
          "height": 297
        }
      },
      "source": [
        "sns.boxplot(train.Item_Visibility)"
      ],
      "execution_count": 55,
      "outputs": [
        {
          "output_type": "execute_result",
          "data": {
            "text/plain": [
              "<matplotlib.axes._subplots.AxesSubplot at 0x7ff5ecdd5d68>"
            ]
          },
          "metadata": {
            "tags": []
          },
          "execution_count": 55
        },
        {
          "output_type": "display_data",
          "data": {
            "image/png": "[encoded data removed]",
            "text/plain": [
              "<Figure size 432x288 with 1 Axes>"
            ]
          },
          "metadata": {
            "tags": []
          }
        }
      ]
    },
    {
      "cell_type": "markdown",
      "metadata": {
        "id": "8pl7w32YEptA",
        "colab_type": "text"
      },
      "source": [
        "**Observation:**\n",
        "\n",
        "\n",
        "> From the above scrutiny we did not find any outlier except in the case of Item Visibility.\n",
        "\n",
        "\n",
        "\n",
        "> The same can be avoided because of the low significance of the same in the final decision or the sale.\n",
        "\n"
      ]
    },
    {
      "cell_type": "code",
      "metadata": {
        "id": "CKX2-XDOuiuZ",
        "colab_type": "code",
        "colab": {}
      },
      "source": [
        ""
      ],
      "execution_count": 0,
      "outputs": []
    },
    {
      "cell_type": "markdown",
      "metadata": {
        "id": "oFaT1EX7umqf",
        "colab_type": "text"
      },
      "source": [
        "## **Data Transformation**"
      ]
    },
    {
      "cell_type": "code",
      "metadata": {
        "id": "TWjGGFkBvVxW",
        "colab_type": "code",
        "outputId": "3ecabc62-5126-4429-e7aa-b4a8f510a9fe",
        "colab": {
          "base_uri": "https://localhost:8080/",
          "height": 160
        }
      },
      "source": [
        "train.head(2)"
      ],
      "execution_count": 56,
      "outputs": [
        {
          "output_type": "execute_result",
          "data": {
            "text/html": [
              "<div>\n",
              "<style scoped>\n",
              "    .dataframe tbody tr th:only-of-type {\n",
              "        vertical-align: middle;\n",
              "    }\n",
              "\n",
              "    .dataframe tbody tr th {\n",
              "        vertical-align: top;\n",
              "    }\n",
              "\n",
              "    .dataframe thead th {\n",
              "        text-align: right;\n",
              "    }\n",
              "</style>\n",
              "<table border=\"1\" class=\"dataframe\">\n",
              "  <thead>\n",
              "    <tr style=\"text-align: right;\">\n",
              "      <th></th>\n",
              "      <th>Item_Identifier</th>\n",
              "      <th>Item_Weight</th>\n",
              "      <th>Item_Fat_Content</th>\n",
              "      <th>Item_Visibility</th>\n",
              "      <th>Item_Type</th>\n",
              "      <th>Item_MRP</th>\n",
              "      <th>Outlet_Identifier</th>\n",
              "      <th>Outlet_Establishment_Year</th>\n",
              "      <th>Outlet_Size</th>\n",
              "      <th>Outlet_Location_Type</th>\n",
              "      <th>Outlet_Type</th>\n",
              "      <th>Item_Outlet_Sales</th>\n",
              "      <th>Item_Identifier_type</th>\n",
              "      <th>Outlet_age</th>\n",
              "    </tr>\n",
              "  </thead>\n",
              "  <tbody>\n",
              "    <tr>\n",
              "      <th>0</th>\n",
              "      <td>FDA15</td>\n",
              "      <td>9.30</td>\n",
              "      <td>Low_Fat</td>\n",
              "      <td>0.016047</td>\n",
              "      <td>Food_Product</td>\n",
              "      <td>249.8092</td>\n",
              "      <td>OUT049</td>\n",
              "      <td>1999</td>\n",
              "      <td>1</td>\n",
              "      <td>Tier 1</td>\n",
              "      <td>Supermarket Type1</td>\n",
              "      <td>3735.1380</td>\n",
              "      <td>FD</td>\n",
              "      <td>14</td>\n",
              "    </tr>\n",
              "    <tr>\n",
              "      <th>1</th>\n",
              "      <td>DRC01</td>\n",
              "      <td>5.92</td>\n",
              "      <td>Regulr</td>\n",
              "      <td>0.019278</td>\n",
              "      <td>Drink</td>\n",
              "      <td>48.2692</td>\n",
              "      <td>OUT018</td>\n",
              "      <td>2009</td>\n",
              "      <td>1</td>\n",
              "      <td>Tier 3</td>\n",
              "      <td>Supermarket Type2</td>\n",
              "      <td>443.4228</td>\n",
              "      <td>DR</td>\n",
              "      <td>4</td>\n",
              "    </tr>\n",
              "  </tbody>\n",
              "</table>\n",
              "</div>"
            ],
            "text/plain": [
              "  Item_Identifier  Item_Weight Item_Fat_Content  Item_Visibility  \\\n",
              "0           FDA15         9.30          Low_Fat         0.016047   \n",
              "1           DRC01         5.92           Regulr         0.019278   \n",
              "\n",
              "      Item_Type  Item_MRP Outlet_Identifier  Outlet_Establishment_Year  \\\n",
              "0  Food_Product  249.8092            OUT049                       1999   \n",
              "1         Drink   48.2692            OUT018                       2009   \n",
              "\n",
              "   Outlet_Size Outlet_Location_Type        Outlet_Type  Item_Outlet_Sales  \\\n",
              "0            1               Tier 1  Supermarket Type1          3735.1380   \n",
              "1            1               Tier 3  Supermarket Type2           443.4228   \n",
              "\n",
              "  Item_Identifier_type  Outlet_age  \n",
              "0                   FD          14  \n",
              "1                   DR           4  "
            ]
          },
          "metadata": {
            "tags": []
          },
          "execution_count": 56
        }
      ]
    },
    {
      "cell_type": "markdown",
      "metadata": {
        "id": "KgiHrS70ETEg",
        "colab_type": "text"
      },
      "source": [
        "**Actionable** :\n",
        "\n",
        "\n",
        "*   Drop the Irrelevant features from the data.\n",
        "*   Items to be dropped from the data are as follow\n",
        "\n",
        "1.   Item_Identifier\n",
        "\n",
        "2.   Outlet_Establishment_Year\n",
        "\n",
        "\n",
        "\n",
        "*   Since The Item Idewntifier is the identification of the products which will not be significant in the training of data.\n",
        "*   New variable ' Outlet_Age ' has been made out of Outlet Establishment year hence we do not need the Outlet Establishment year anymore.\n",
        "\n",
        "\n",
        "\n"
      ]
    },
    {
      "cell_type": "code",
      "metadata": {
        "id": "nzKLZy1QutsA",
        "colab_type": "code",
        "colab": {}
      },
      "source": [
        "new_train = train.drop(train[['Item_Identifier','Outlet_Establishment_Year','Item_Identifier_type']],1)"
      ],
      "execution_count": 0,
      "outputs": []
    },
    {
      "cell_type": "code",
      "metadata": {
        "id": "8juTLxkLvthy",
        "colab_type": "code",
        "colab": {}
      },
      "source": [
        "new_test = test.drop(test[['Item_Identifier','Outlet_Establishment_Year',]],1)"
      ],
      "execution_count": 0,
      "outputs": []
    },
    {
      "cell_type": "code",
      "metadata": {
        "id": "zJEIwsp2v1XB",
        "colab_type": "code",
        "outputId": "1212cefc-e7ad-41a1-8535-9f142be655e4",
        "colab": {
          "base_uri": "https://localhost:8080/",
          "height": 106
        }
      },
      "source": [
        "new_train.head(2)"
      ],
      "execution_count": 59,
      "outputs": [
        {
          "output_type": "execute_result",
          "data": {
            "text/html": [
              "<div>\n",
              "<style scoped>\n",
              "    .dataframe tbody tr th:only-of-type {\n",
              "        vertical-align: middle;\n",
              "    }\n",
              "\n",
              "    .dataframe tbody tr th {\n",
              "        vertical-align: top;\n",
              "    }\n",
              "\n",
              "    .dataframe thead th {\n",
              "        text-align: right;\n",
              "    }\n",
              "</style>\n",
              "<table border=\"1\" class=\"dataframe\">\n",
              "  <thead>\n",
              "    <tr style=\"text-align: right;\">\n",
              "      <th></th>\n",
              "      <th>Item_Weight</th>\n",
              "      <th>Item_Fat_Content</th>\n",
              "      <th>Item_Visibility</th>\n",
              "      <th>Item_Type</th>\n",
              "      <th>Item_MRP</th>\n",
              "      <th>Outlet_Identifier</th>\n",
              "      <th>Outlet_Size</th>\n",
              "      <th>Outlet_Location_Type</th>\n",
              "      <th>Outlet_Type</th>\n",
              "      <th>Item_Outlet_Sales</th>\n",
              "      <th>Outlet_age</th>\n",
              "    </tr>\n",
              "  </thead>\n",
              "  <tbody>\n",
              "    <tr>\n",
              "      <th>0</th>\n",
              "      <td>9.30</td>\n",
              "      <td>Low_Fat</td>\n",
              "      <td>0.016047</td>\n",
              "      <td>Food_Product</td>\n",
              "      <td>249.8092</td>\n",
              "      <td>OUT049</td>\n",
              "      <td>1</td>\n",
              "      <td>Tier 1</td>\n",
              "      <td>Supermarket Type1</td>\n",
              "      <td>3735.1380</td>\n",
              "      <td>14</td>\n",
              "    </tr>\n",
              "    <tr>\n",
              "      <th>1</th>\n",
              "      <td>5.92</td>\n",
              "      <td>Regulr</td>\n",
              "      <td>0.019278</td>\n",
              "      <td>Drink</td>\n",
              "      <td>48.2692</td>\n",
              "      <td>OUT018</td>\n",
              "      <td>1</td>\n",
              "      <td>Tier 3</td>\n",
              "      <td>Supermarket Type2</td>\n",
              "      <td>443.4228</td>\n",
              "      <td>4</td>\n",
              "    </tr>\n",
              "  </tbody>\n",
              "</table>\n",
              "</div>"
            ],
            "text/plain": [
              "   Item_Weight Item_Fat_Content  Item_Visibility     Item_Type  Item_MRP  \\\n",
              "0         9.30          Low_Fat         0.016047  Food_Product  249.8092   \n",
              "1         5.92           Regulr         0.019278         Drink   48.2692   \n",
              "\n",
              "  Outlet_Identifier  Outlet_Size Outlet_Location_Type        Outlet_Type  \\\n",
              "0            OUT049            1               Tier 1  Supermarket Type1   \n",
              "1            OUT018            1               Tier 3  Supermarket Type2   \n",
              "\n",
              "   Item_Outlet_Sales  Outlet_age  \n",
              "0          3735.1380          14  \n",
              "1           443.4228           4  "
            ]
          },
          "metadata": {
            "tags": []
          },
          "execution_count": 59
        }
      ]
    },
    {
      "cell_type": "code",
      "metadata": {
        "id": "SU6zg5xgsasa",
        "colab_type": "code",
        "outputId": "147a2ae6-14bb-4af5-a02a-0887bc59335e",
        "colab": {
          "base_uri": "https://localhost:8080/",
          "height": 106
        }
      },
      "source": [
        "new_test.head(2)"
      ],
      "execution_count": 60,
      "outputs": [
        {
          "output_type": "execute_result",
          "data": {
            "text/html": [
              "<div>\n",
              "<style scoped>\n",
              "    .dataframe tbody tr th:only-of-type {\n",
              "        vertical-align: middle;\n",
              "    }\n",
              "\n",
              "    .dataframe tbody tr th {\n",
              "        vertical-align: top;\n",
              "    }\n",
              "\n",
              "    .dataframe thead th {\n",
              "        text-align: right;\n",
              "    }\n",
              "</style>\n",
              "<table border=\"1\" class=\"dataframe\">\n",
              "  <thead>\n",
              "    <tr style=\"text-align: right;\">\n",
              "      <th></th>\n",
              "      <th>Item_Weight</th>\n",
              "      <th>Item_Fat_Content</th>\n",
              "      <th>Item_Visibility</th>\n",
              "      <th>Item_Type</th>\n",
              "      <th>Item_MRP</th>\n",
              "      <th>Outlet_Identifier</th>\n",
              "      <th>Outlet_Size</th>\n",
              "      <th>Outlet_Location_Type</th>\n",
              "      <th>Outlet_Type</th>\n",
              "      <th>Outlet_age</th>\n",
              "    </tr>\n",
              "  </thead>\n",
              "  <tbody>\n",
              "    <tr>\n",
              "      <th>0</th>\n",
              "      <td>20.75</td>\n",
              "      <td>Low_Fat</td>\n",
              "      <td>0.007565</td>\n",
              "      <td>Food_Product</td>\n",
              "      <td>107.8622</td>\n",
              "      <td>OUT049</td>\n",
              "      <td>1</td>\n",
              "      <td>Tier 1</td>\n",
              "      <td>Supermarket Type1</td>\n",
              "      <td>14</td>\n",
              "    </tr>\n",
              "    <tr>\n",
              "      <th>1</th>\n",
              "      <td>8.30</td>\n",
              "      <td>Regulr</td>\n",
              "      <td>0.038428</td>\n",
              "      <td>Food_Product</td>\n",
              "      <td>87.3198</td>\n",
              "      <td>OUT017</td>\n",
              "      <td>0</td>\n",
              "      <td>Tier 2</td>\n",
              "      <td>Supermarket Type1</td>\n",
              "      <td>6</td>\n",
              "    </tr>\n",
              "  </tbody>\n",
              "</table>\n",
              "</div>"
            ],
            "text/plain": [
              "   Item_Weight Item_Fat_Content  Item_Visibility     Item_Type  Item_MRP  \\\n",
              "0        20.75          Low_Fat         0.007565  Food_Product  107.8622   \n",
              "1         8.30           Regulr         0.038428  Food_Product   87.3198   \n",
              "\n",
              "  Outlet_Identifier  Outlet_Size Outlet_Location_Type        Outlet_Type  \\\n",
              "0            OUT049            1               Tier 1  Supermarket Type1   \n",
              "1            OUT017            0               Tier 2  Supermarket Type1   \n",
              "\n",
              "   Outlet_age  \n",
              "0          14  \n",
              "1           6  "
            ]
          },
          "metadata": {
            "tags": []
          },
          "execution_count": 60
        }
      ]
    },
    {
      "cell_type": "code",
      "metadata": {
        "id": "jdlJec7ev4BG",
        "colab_type": "code",
        "outputId": "641fe23b-3541-4db7-c913-08b2a7511d31",
        "colab": {
          "base_uri": "https://localhost:8080/",
          "height": 218
        }
      },
      "source": [
        "new_train.dtypes"
      ],
      "execution_count": 61,
      "outputs": [
        {
          "output_type": "execute_result",
          "data": {
            "text/plain": [
              "Item_Weight             float64\n",
              "Item_Fat_Content         object\n",
              "Item_Visibility         float64\n",
              "Item_Type                object\n",
              "Item_MRP                float64\n",
              "Outlet_Identifier        object\n",
              "Outlet_Size               int64\n",
              "Outlet_Location_Type     object\n",
              "Outlet_Type              object\n",
              "Item_Outlet_Sales       float64\n",
              "Outlet_age                int64\n",
              "dtype: object"
            ]
          },
          "metadata": {
            "tags": []
          },
          "execution_count": 61
        }
      ]
    },
    {
      "cell_type": "markdown",
      "metadata": {
        "id": "udZhRczDFnEf",
        "colab_type": "text"
      },
      "source": [
        "### **Normalizing the data ( Dummification of Categorical variables )**\n",
        "\n",
        "The final engineered and cleaned data will now be normalized and made ready for training.\n",
        "\n",
        "> All the Categorical variables will be dummified. ( One Hot Encoding ).\n",
        "\n",
        "> Categorical variable with Ordinal nature has already been mapped as 0 , 1 and 2.\n",
        "\n",
        "\n",
        "\n"
      ]
    },
    {
      "cell_type": "code",
      "metadata": {
        "id": "2kRaRfkSwCrz",
        "colab_type": "code",
        "colab": {}
      },
      "source": [
        "dummy_trains = pd.get_dummies(new_train)"
      ],
      "execution_count": 0,
      "outputs": []
    },
    {
      "cell_type": "code",
      "metadata": {
        "id": "RA_o5POAwiBS",
        "colab_type": "code",
        "colab": {}
      },
      "source": [
        "dummy_tests = pd.get_dummies(new_test)"
      ],
      "execution_count": 0,
      "outputs": []
    },
    {
      "cell_type": "code",
      "metadata": {
        "id": "7NvS6bXBY3Rw",
        "colab_type": "code",
        "outputId": "93e2e886-9555-4dc9-f43a-7de88159e6bf",
        "colab": {
          "base_uri": "https://localhost:8080/",
          "height": 232
        }
      },
      "source": [
        "dummy_trains.head()"
      ],
      "execution_count": 64,
      "outputs": [
        {
          "output_type": "execute_result",
          "data": {
            "text/html": [
              "<div>\n",
              "<style scoped>\n",
              "    .dataframe tbody tr th:only-of-type {\n",
              "        vertical-align: middle;\n",
              "    }\n",
              "\n",
              "    .dataframe tbody tr th {\n",
              "        vertical-align: top;\n",
              "    }\n",
              "\n",
              "    .dataframe thead th {\n",
              "        text-align: right;\n",
              "    }\n",
              "</style>\n",
              "<table border=\"1\" class=\"dataframe\">\n",
              "  <thead>\n",
              "    <tr style=\"text-align: right;\">\n",
              "      <th></th>\n",
              "      <th>Item_Weight</th>\n",
              "      <th>Item_Visibility</th>\n",
              "      <th>Item_MRP</th>\n",
              "      <th>Outlet_Size</th>\n",
              "      <th>Item_Outlet_Sales</th>\n",
              "      <th>Outlet_age</th>\n",
              "      <th>Item_Fat_Content_Fatless</th>\n",
              "      <th>Item_Fat_Content_Low_Fat</th>\n",
              "      <th>Item_Fat_Content_Regulr</th>\n",
              "      <th>Item_Type_Drink</th>\n",
              "      <th>Item_Type_Food_Product</th>\n",
              "      <th>Item_Type_Non_Consumable</th>\n",
              "      <th>Outlet_Identifier_OUT010</th>\n",
              "      <th>Outlet_Identifier_OUT013</th>\n",
              "      <th>Outlet_Identifier_OUT017</th>\n",
              "      <th>Outlet_Identifier_OUT018</th>\n",
              "      <th>Outlet_Identifier_OUT019</th>\n",
              "      <th>Outlet_Identifier_OUT027</th>\n",
              "      <th>Outlet_Identifier_OUT035</th>\n",
              "      <th>Outlet_Identifier_OUT045</th>\n",
              "      <th>Outlet_Identifier_OUT046</th>\n",
              "      <th>Outlet_Identifier_OUT049</th>\n",
              "      <th>Outlet_Location_Type_Tier 1</th>\n",
              "      <th>Outlet_Location_Type_Tier 2</th>\n",
              "      <th>Outlet_Location_Type_Tier 3</th>\n",
              "      <th>Outlet_Type_Grocery Store</th>\n",
              "      <th>Outlet_Type_Supermarket Type1</th>\n",
              "      <th>Outlet_Type_Supermarket Type2</th>\n",
              "      <th>Outlet_Type_Supermarket Type3</th>\n",
              "    </tr>\n",
              "  </thead>\n",
              "  <tbody>\n",
              "    <tr>\n",
              "      <th>0</th>\n",
              "      <td>9.30</td>\n",
              "      <td>0.016047</td>\n",
              "      <td>249.8092</td>\n",
              "      <td>1</td>\n",
              "      <td>3735.1380</td>\n",
              "      <td>14</td>\n",
              "      <td>0</td>\n",
              "      <td>1</td>\n",
              "      <td>0</td>\n",
              "      <td>0</td>\n",
              "      <td>1</td>\n",
              "      <td>0</td>\n",
              "      <td>0</td>\n",
              "      <td>0</td>\n",
              "      <td>0</td>\n",
              "      <td>0</td>\n",
              "      <td>0</td>\n",
              "      <td>0</td>\n",
              "      <td>0</td>\n",
              "      <td>0</td>\n",
              "      <td>0</td>\n",
              "      <td>1</td>\n",
              "      <td>1</td>\n",
              "      <td>0</td>\n",
              "      <td>0</td>\n",
              "      <td>0</td>\n",
              "      <td>1</td>\n",
              "      <td>0</td>\n",
              "      <td>0</td>\n",
              "    </tr>\n",
              "    <tr>\n",
              "      <th>1</th>\n",
              "      <td>5.92</td>\n",
              "      <td>0.019278</td>\n",
              "      <td>48.2692</td>\n",
              "      <td>1</td>\n",
              "      <td>443.4228</td>\n",
              "      <td>4</td>\n",
              "      <td>0</td>\n",
              "      <td>0</td>\n",
              "      <td>1</td>\n",
              "      <td>1</td>\n",
              "      <td>0</td>\n",
              "      <td>0</td>\n",
              "      <td>0</td>\n",
              "      <td>0</td>\n",
              "      <td>0</td>\n",
              "      <td>1</td>\n",
              "      <td>0</td>\n",
              "      <td>0</td>\n",
              "      <td>0</td>\n",
              "      <td>0</td>\n",
              "      <td>0</td>\n",
              "      <td>0</td>\n",
              "      <td>0</td>\n",
              "      <td>0</td>\n",
              "      <td>1</td>\n",
              "      <td>0</td>\n",
              "      <td>0</td>\n",
              "      <td>1</td>\n",
              "      <td>0</td>\n",
              "    </tr>\n",
              "    <tr>\n",
              "      <th>2</th>\n",
              "      <td>17.50</td>\n",
              "      <td>0.016760</td>\n",
              "      <td>141.6180</td>\n",
              "      <td>1</td>\n",
              "      <td>2097.2700</td>\n",
              "      <td>14</td>\n",
              "      <td>0</td>\n",
              "      <td>1</td>\n",
              "      <td>0</td>\n",
              "      <td>0</td>\n",
              "      <td>1</td>\n",
              "      <td>0</td>\n",
              "      <td>0</td>\n",
              "      <td>0</td>\n",
              "      <td>0</td>\n",
              "      <td>0</td>\n",
              "      <td>0</td>\n",
              "      <td>0</td>\n",
              "      <td>0</td>\n",
              "      <td>0</td>\n",
              "      <td>0</td>\n",
              "      <td>1</td>\n",
              "      <td>1</td>\n",
              "      <td>0</td>\n",
              "      <td>0</td>\n",
              "      <td>0</td>\n",
              "      <td>1</td>\n",
              "      <td>0</td>\n",
              "      <td>0</td>\n",
              "    </tr>\n",
              "    <tr>\n",
              "      <th>3</th>\n",
              "      <td>19.20</td>\n",
              "      <td>0.066132</td>\n",
              "      <td>182.0950</td>\n",
              "      <td>0</td>\n",
              "      <td>732.3800</td>\n",
              "      <td>15</td>\n",
              "      <td>0</td>\n",
              "      <td>0</td>\n",
              "      <td>1</td>\n",
              "      <td>0</td>\n",
              "      <td>1</td>\n",
              "      <td>0</td>\n",
              "      <td>1</td>\n",
              "      <td>0</td>\n",
              "      <td>0</td>\n",
              "      <td>0</td>\n",
              "      <td>0</td>\n",
              "      <td>0</td>\n",
              "      <td>0</td>\n",
              "      <td>0</td>\n",
              "      <td>0</td>\n",
              "      <td>0</td>\n",
              "      <td>0</td>\n",
              "      <td>0</td>\n",
              "      <td>1</td>\n",
              "      <td>1</td>\n",
              "      <td>0</td>\n",
              "      <td>0</td>\n",
              "      <td>0</td>\n",
              "    </tr>\n",
              "    <tr>\n",
              "      <th>4</th>\n",
              "      <td>8.93</td>\n",
              "      <td>0.066132</td>\n",
              "      <td>53.8614</td>\n",
              "      <td>2</td>\n",
              "      <td>994.7052</td>\n",
              "      <td>26</td>\n",
              "      <td>1</td>\n",
              "      <td>0</td>\n",
              "      <td>0</td>\n",
              "      <td>0</td>\n",
              "      <td>0</td>\n",
              "      <td>1</td>\n",
              "      <td>0</td>\n",
              "      <td>1</td>\n",
              "      <td>0</td>\n",
              "      <td>0</td>\n",
              "      <td>0</td>\n",
              "      <td>0</td>\n",
              "      <td>0</td>\n",
              "      <td>0</td>\n",
              "      <td>0</td>\n",
              "      <td>0</td>\n",
              "      <td>0</td>\n",
              "      <td>0</td>\n",
              "      <td>1</td>\n",
              "      <td>0</td>\n",
              "      <td>1</td>\n",
              "      <td>0</td>\n",
              "      <td>0</td>\n",
              "    </tr>\n",
              "  </tbody>\n",
              "</table>\n",
              "</div>"
            ],
            "text/plain": [
              "   Item_Weight  Item_Visibility  Item_MRP  Outlet_Size  Item_Outlet_Sales  \\\n",
              "0         9.30         0.016047  249.8092            1          3735.1380   \n",
              "1         5.92         0.019278   48.2692            1           443.4228   \n",
              "2        17.50         0.016760  141.6180            1          2097.2700   \n",
              "3        19.20         0.066132  182.0950            0           732.3800   \n",
              "4         8.93         0.066132   53.8614            2           994.7052   \n",
              "\n",
              "   Outlet_age  Item_Fat_Content_Fatless  Item_Fat_Content_Low_Fat  \\\n",
              "0          14                         0                         1   \n",
              "1           4                         0                         0   \n",
              "2          14                         0                         1   \n",
              "3          15                         0                         0   \n",
              "4          26                         1                         0   \n",
              "\n",
              "   Item_Fat_Content_Regulr  Item_Type_Drink  Item_Type_Food_Product  \\\n",
              "0                        0                0                       1   \n",
              "1                        1                1                       0   \n",
              "2                        0                0                       1   \n",
              "3                        1                0                       1   \n",
              "4                        0                0                       0   \n",
              "\n",
              "   Item_Type_Non_Consumable  Outlet_Identifier_OUT010  \\\n",
              "0                         0                         0   \n",
              "1                         0                         0   \n",
              "2                         0                         0   \n",
              "3                         0                         1   \n",
              "4                         1                         0   \n",
              "\n",
              "   Outlet_Identifier_OUT013  Outlet_Identifier_OUT017  \\\n",
              "0                         0                         0   \n",
              "1                         0                         0   \n",
              "2                         0                         0   \n",
              "3                         0                         0   \n",
              "4                         1                         0   \n",
              "\n",
              "   Outlet_Identifier_OUT018  Outlet_Identifier_OUT019  \\\n",
              "0                         0                         0   \n",
              "1                         1                         0   \n",
              "2                         0                         0   \n",
              "3                         0                         0   \n",
              "4                         0                         0   \n",
              "\n",
              "   Outlet_Identifier_OUT027  Outlet_Identifier_OUT035  \\\n",
              "0                         0                         0   \n",
              "1                         0                         0   \n",
              "2                         0                         0   \n",
              "3                         0                         0   \n",
              "4                         0                         0   \n",
              "\n",
              "   Outlet_Identifier_OUT045  Outlet_Identifier_OUT046  \\\n",
              "0                         0                         0   \n",
              "1                         0                         0   \n",
              "2                         0                         0   \n",
              "3                         0                         0   \n",
              "4                         0                         0   \n",
              "\n",
              "   Outlet_Identifier_OUT049  Outlet_Location_Type_Tier 1  \\\n",
              "0                         1                            1   \n",
              "1                         0                            0   \n",
              "2                         1                            1   \n",
              "3                         0                            0   \n",
              "4                         0                            0   \n",
              "\n",
              "   Outlet_Location_Type_Tier 2  Outlet_Location_Type_Tier 3  \\\n",
              "0                            0                            0   \n",
              "1                            0                            1   \n",
              "2                            0                            0   \n",
              "3                            0                            1   \n",
              "4                            0                            1   \n",
              "\n",
              "   Outlet_Type_Grocery Store  Outlet_Type_Supermarket Type1  \\\n",
              "0                          0                              1   \n",
              "1                          0                              0   \n",
              "2                          0                              1   \n",
              "3                          1                              0   \n",
              "4                          0                              1   \n",
              "\n",
              "   Outlet_Type_Supermarket Type2  Outlet_Type_Supermarket Type3  \n",
              "0                              0                              0  \n",
              "1                              1                              0  \n",
              "2                              0                              0  \n",
              "3                              0                              0  \n",
              "4                              0                              0  "
            ]
          },
          "metadata": {
            "tags": []
          },
          "execution_count": 64
        }
      ]
    },
    {
      "cell_type": "markdown",
      "metadata": {
        "id": "iOGpjN6KGWiw",
        "colab_type": "text"
      },
      "source": [
        "### **Normalizing the data ( Scaling the Numeric variables )**\n",
        "\n",
        "\n",
        "\n",
        "> Once the data is dummified, We are required to scale the numeric data.\n",
        "\n",
        "> This is because of the different nature and range of the different numeric variables.\n",
        "\n",
        "> Methods of scaling the variables\n",
        "\n",
        "1.   Standard Scaler\n",
        "\n",
        "1.   Min Max Scaler\n",
        "2.   Scale\n",
        "\n",
        "2.   Z-Score\n",
        "\n",
        "\n",
        "> We will scale the same using z-Score\n",
        "\n",
        "\n",
        "\n",
        "\n",
        "\n",
        "\n",
        "\n",
        "\n",
        "\n"
      ]
    },
    {
      "cell_type": "code",
      "metadata": {
        "id": "sdr1YtZBwkMz",
        "colab_type": "code",
        "colab": {}
      },
      "source": [
        "from scipy.stats import zscore"
      ],
      "execution_count": 0,
      "outputs": []
    },
    {
      "cell_type": "code",
      "metadata": {
        "id": "WkRKBWtANHk3",
        "colab_type": "code",
        "colab": {}
      },
      "source": [
        "X_train = dummy_trains.drop(['Item_Outlet_Sales'],1)\n",
        "\n",
        "X_test = dummy_tests\n",
        "\n",
        "Y_train = dummy_trains['Item_Outlet_Sales']"
      ],
      "execution_count": 0,
      "outputs": []
    },
    {
      "cell_type": "code",
      "metadata": {
        "id": "6z-ihvfX-GhA",
        "colab_type": "code",
        "colab": {}
      },
      "source": [
        "xtrain_sc = X_train.apply(zscore)\n",
        "\n",
        "X_test_sc = X_test.apply(zscore)"
      ],
      "execution_count": 0,
      "outputs": []
    },
    {
      "cell_type": "markdown",
      "metadata": {
        "id": "-g-30caVIAug",
        "colab_type": "text"
      },
      "source": [
        "## **Data Modelling**"
      ]
    },
    {
      "cell_type": "markdown",
      "metadata": {
        "id": "GmDtJNGVIJb_",
        "colab_type": "text"
      },
      "source": [
        "\n",
        "> First we will import all the required regression algorithems from the respective libraries\n",
        "\n",
        "\n",
        "> Define the same in Variables\n",
        "\n",
        "\n",
        "\n"
      ]
    },
    {
      "cell_type": "code",
      "metadata": {
        "id": "yBkTc0-8OcQs",
        "colab_type": "code",
        "colab": {}
      },
      "source": [
        "from sklearn.linear_model import LinearRegression\n",
        "from sklearn.tree import DecisionTreeRegressor\n",
        "from sklearn.ensemble import RandomForestRegressor\n",
        "from sklearn.linear_model import Lasso\n",
        "from sklearn.linear_model import Ridge\n",
        "from sklearn.model_selection import GridSearchCV\n",
        "from xgboost import XGBRegressor\n",
        "from sklearn.ensemble import GradientBoostingRegressor\n",
        "from sklearn.ensemble import BaggingRegressor"
      ],
      "execution_count": 0,
      "outputs": []
    },
    {
      "cell_type": "code",
      "metadata": {
        "id": "A8r1PJE9PJX0",
        "colab_type": "code",
        "colab": {}
      },
      "source": [
        "LR = LinearRegression(normalize=True)\n",
        "DT = DecisionTreeRegressor(max_depth=20,min_samples_leaf=100)\n",
        "RF = RandomForestRegressor(max_depth=20,min_samples_leaf=100)\n",
        "XG = XGBRegressor()\n",
        "GB = GradientBoostingRegressor(n_estimators=50)\n",
        "BR = BaggingRegressor(n_estimators=50)"
      ],
      "execution_count": 0,
      "outputs": []
    },
    {
      "cell_type": "code",
      "metadata": {
        "id": "weSU5vw4PW3o",
        "colab_type": "code",
        "outputId": "e8b17e5e-60dd-47cd-c6db-028a7497243b",
        "colab": {
          "base_uri": "https://localhost:8080/",
          "height": 50
        }
      },
      "source": [
        "LR_predict = LR.fit(xtrain_sc,Y_train).predict(X_test_sc)\n",
        "DT_predict = DT.fit(xtrain_sc,Y_train).predict(X_test_sc)\n",
        "RF_predict = RF.fit(xtrain_sc,Y_train).predict(X_test_sc)\n",
        "GB_predict = GB.fit(xtrain_sc,Y_train).predict(X_test_sc)\n",
        "BR_predict = BR.fit(xtrain_sc,Y_train).predict(X_test_sc)"
      ],
      "execution_count": 70,
      "outputs": [
        {
          "output_type": "stream",
          "text": [
            "/usr/local/lib/python3.6/dist-packages/sklearn/ensemble/forest.py:245: FutureWarning: The default value of n_estimators will change from 10 in version 0.20 to 100 in 0.22.\n",
            "  \"10 in version 0.20 to 100 in 0.22.\", FutureWarning)\n"
          ],
          "name": "stderr"
        }
      ]
    },
    {
      "cell_type": "code",
      "metadata": {
        "id": "YrdOlxIQPlgA",
        "colab_type": "code",
        "colab": {}
      },
      "source": [
        "LR_Solution = pd.DataFrame({'Item_Identifier':test.Item_Identifier,'Outlet_Identifier':test.Outlet_Identifier,'Item_Outlet_Sales':LR_predict})\n",
        "\n",
        "LR_Solution.to_csv('Linear_Model3.csv',index=False)"
      ],
      "execution_count": 0,
      "outputs": []
    },
    {
      "cell_type": "code",
      "metadata": {
        "id": "9ix5aa3wRGei",
        "colab_type": "code",
        "colab": {}
      },
      "source": [
        ""
      ],
      "execution_count": 0,
      "outputs": []
    },
    {
      "cell_type": "code",
      "metadata": {
        "id": "MbNU4Pc6RUpU",
        "colab_type": "code",
        "colab": {}
      },
      "source": [
        "DT_Solution = pd.DataFrame({'Item_Identifier':test['Item_Identifier'],\n",
        "                            'Outlet_Identifier':test['Outlet_Identifier'],'Item_Outlet_Sales':DT_predict})\n",
        "DT_Solution.to_csv('tree_Model3.csv',index=False)"
      ],
      "execution_count": 0,
      "outputs": []
    },
    {
      "cell_type": "markdown",
      "metadata": {
        "id": "JZd-A38wIm_Y",
        "colab_type": "text"
      },
      "source": [
        "**Decision tree gave the RMSE of 1162**"
      ]
    },
    {
      "cell_type": "code",
      "metadata": {
        "id": "s-QBKAsoS137",
        "colab_type": "code",
        "colab": {}
      },
      "source": [
        "RF_Solution = pd.DataFrame({'Item_Identifier':test.Item_Identifier,\n",
        "                            'Outlet_Identifier':test.Outlet_Identifier,'Item_Outlet_Sales':RF_predict})\n",
        "RF_Solution.to_csv('Random_Forest_Model3.csv',index=False)"
      ],
      "execution_count": 0,
      "outputs": []
    },
    {
      "cell_type": "markdown",
      "metadata": {
        "id": "s8Bgy_R7KB0E",
        "colab_type": "text"
      },
      "source": [
        "**Random Forest gave the best score i.e.**\n",
        "\n",
        "**RMSE = 1155**"
      ]
    },
    {
      "cell_type": "code",
      "metadata": {
        "id": "pHuFt_R6ykc4",
        "colab_type": "code",
        "colab": {}
      },
      "source": [
        "important_feature = pd.DataFrame(RF.feature_importances_,index=xtrain_sc.columns,columns=['Importancs'])"
      ],
      "execution_count": 0,
      "outputs": []
    },
    {
      "cell_type": "code",
      "metadata": {
        "id": "gKZj_T-_zkn-",
        "colab_type": "code",
        "colab": {
          "base_uri": "https://localhost:8080/",
          "height": 195
        },
        "outputId": "63cd835a-ca34-4f17-dadf-e0e117cc0f0d"
      },
      "source": [
        "important_feature.sort_values(by='Importancs',  ascending=False)[0:5]"
      ],
      "execution_count": 95,
      "outputs": [
        {
          "output_type": "execute_result",
          "data": {
            "text/html": [
              "<div>\n",
              "<style scoped>\n",
              "    .dataframe tbody tr th:only-of-type {\n",
              "        vertical-align: middle;\n",
              "    }\n",
              "\n",
              "    .dataframe tbody tr th {\n",
              "        vertical-align: top;\n",
              "    }\n",
              "\n",
              "    .dataframe thead th {\n",
              "        text-align: right;\n",
              "    }\n",
              "</style>\n",
              "<table border=\"1\" class=\"dataframe\">\n",
              "  <thead>\n",
              "    <tr style=\"text-align: right;\">\n",
              "      <th></th>\n",
              "      <th>Importancs</th>\n",
              "    </tr>\n",
              "  </thead>\n",
              "  <tbody>\n",
              "    <tr>\n",
              "      <th>Item_MRP</th>\n",
              "      <td>0.544526</td>\n",
              "    </tr>\n",
              "    <tr>\n",
              "      <th>Outlet_Type_Grocery Store</th>\n",
              "      <td>0.321407</td>\n",
              "    </tr>\n",
              "    <tr>\n",
              "      <th>Outlet_age</th>\n",
              "      <td>0.053062</td>\n",
              "    </tr>\n",
              "    <tr>\n",
              "      <th>Outlet_Identifier_OUT027</th>\n",
              "      <td>0.039014</td>\n",
              "    </tr>\n",
              "    <tr>\n",
              "      <th>Outlet_Type_Supermarket Type3</th>\n",
              "      <td>0.031527</td>\n",
              "    </tr>\n",
              "  </tbody>\n",
              "</table>\n",
              "</div>"
            ],
            "text/plain": [
              "                               Importancs\n",
              "Item_MRP                         0.544526\n",
              "Outlet_Type_Grocery Store        0.321407\n",
              "Outlet_age                       0.053062\n",
              "Outlet_Identifier_OUT027         0.039014\n",
              "Outlet_Type_Supermarket Type3    0.031527"
            ]
          },
          "metadata": {
            "tags": []
          },
          "execution_count": 95
        }
      ]
    },
    {
      "cell_type": "code",
      "metadata": {
        "id": "voBt3E3-U-om",
        "colab_type": "code",
        "colab": {}
      },
      "source": [
        "GB_solution = pd.DataFrame({'Item_Identifier':test['Item_Identifier'],\n",
        "                            'Outlet_Identifier':test['Outlet_Identifier'],'Item_Outlet_Sales':GB_predict})\n",
        "GB_solution.to_csv('Gradient_Boosting.csv',index=False)"
      ],
      "execution_count": 0,
      "outputs": []
    },
    {
      "cell_type": "markdown",
      "metadata": {
        "id": "kl8aWAIToQpT",
        "colab_type": "text"
      },
      "source": [
        "RMSE : 1155.88"
      ]
    },
    {
      "cell_type": "code",
      "metadata": {
        "id": "4BBPn3lOnQUG",
        "colab_type": "code",
        "colab": {}
      },
      "source": [
        "BR_solution = pd.DataFrame({'Item_Identifier':test['Item_Identifier'],\n",
        "                            'Outlet_Identifier':test['Outlet_Identifier'],'Item_Outlet_Sales':BR_predict})\n",
        "BR_solution.to_csv('Bagging_Regresseer.csv',index=False)"
      ],
      "execution_count": 0,
      "outputs": []
    },
    {
      "cell_type": "markdown",
      "metadata": {
        "id": "urfALxVAyV4w",
        "colab_type": "text"
      },
      "source": [
        "Here we can infer that the Random Forest Regressor gave the best RMSE of 1155. with the most important features as mentioned below\n",
        "\n",
        "\n",
        "1.   Item MRP\n",
        "\n",
        "1.   Outlet Type\n",
        "\n",
        "2.   Outlet Age\n",
        "\n",
        "\n"
      ]
    },
    {
      "cell_type": "code",
      "metadata": {
        "id": "aNjhDz2S0U2H",
        "colab_type": "code",
        "colab": {}
      },
      "source": [
        ""
      ],
      "execution_count": 0,
      "outputs": []
    }
  ]
}