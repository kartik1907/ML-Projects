{
  "nbformat": 4,
  "nbformat_minor": 0,
  "metadata": {
    "colab": {
      "name": "Black Friday Sales Prediction",
      "provenance": [],
      "collapsed_sections": [],
      "include_colab_link": true
    },
    "kernelspec": {
      "name": "python3",
      "display_name": "Python 3"
    }
  },
  "cells": [
    {
      "cell_type": "markdown",
      "metadata": {
        "id": "view-in-github",
        "colab_type": "text"
      },
      "source": [
        "<a href=\"https://colab.research.google.com/github/kartik1907/ML-Projects/blob/master/Black_Friday_Sales_Prediction.ipynb\" target=\"_parent\"><img src=\"https://colab.research.google.com/assets/colab-badge.svg\" alt=\"Open In Colab\"/></a>"
      ]
    },
    {
      "cell_type": "code",
      "metadata": {
        "id": "93vKUYa2R53C",
        "colab_type": "code",
        "outputId": "a2f89c6f-f1a7-48d7-b4df-fa42561ec9d5",
        "colab": {
          "base_uri": "https://localhost:8080/",
          "height": 122
        }
      },
      "source": [
        "from google.colab import drive\n",
        "drive.mount('/content/drive')"
      ],
      "execution_count": 0,
      "outputs": [
        {
          "output_type": "stream",
          "text": [
            "Go to this URL in a browser: https://accounts.google.com/o/oauth2/auth?client_id=947318989803-6bn6qk8qdgf4n4g3pfee6491hc0brc4i.apps.googleusercontent.com&redirect_uri=urn%3Aietf%3Awg%3Aoauth%3A2.0%3Aoob&scope=email%20https%3A%2F%2Fwww.googleapis.com%2Fauth%2Fdocs.test%20https%3A%2F%2Fwww.googleapis.com%2Fauth%2Fdrive%20https%3A%2F%2Fwww.googleapis.com%2Fauth%2Fdrive.photos.readonly%20https%3A%2F%2Fwww.googleapis.com%2Fauth%2Fpeopleapi.readonly&response_type=code\n",
            "\n",
            "Enter your authorization code:\n",
            "··········\n",
            "Mounted at /content/drive\n"
          ],
          "name": "stdout"
        }
      ]
    },
    {
      "cell_type": "markdown",
      "metadata": {
        "id": "G6su8lGwcu1x",
        "colab_type": "text"
      },
      "source": [
        "# Problem Statement\n",
        "A retail company “ABC Private Limited” wants to understand the customer purchase behaviour (specifically, purchase amount) against various products of different categories. They have shared purchase summary of various customers for selected high volume products from last month.\n",
        "The data set also contains customer demographics (age, gender, marital status, city_type, stay_in_current_city), product details (product_id and product category) and Total purchase_amount from last month.\n",
        "\n",
        "Now, they want to build a model to predict the purchase amount of customer against various products which will help them to create personalized offer for customers against different products.\n",
        "\n",
        "Here the analysis will be answering questions like\n",
        "\n",
        "1) Which age Groups spends more?\n",
        "\n",
        "2) Which Gender spends more on Purchase of goods?\n",
        "\n",
        "3) Does the Occupation has an impact over the quantity purchased from the store?\n",
        "\n",
        "4) Married people spends more or Single?\n",
        "\n",
        "5) Are Local people familiar with the store and its product because of the trust they built over time ?\n",
        "\n",
        "6) What can be the future sales considering different parameters like Occupation, Gender, Marital Status etc ?"
      ]
    },
    {
      "cell_type": "code",
      "metadata": {
        "id": "RTeaPeMvSGQb",
        "colab_type": "code",
        "colab": {}
      },
      "source": [
        "import numpy as np\n",
        "import pandas as pd\n",
        "import seaborn as sns\n",
        "import matplotlib.pyplot as plt"
      ],
      "execution_count": 0,
      "outputs": []
    },
    {
      "cell_type": "code",
      "metadata": {
        "id": "Rky2srbXxsCG",
        "colab_type": "code",
        "colab": {}
      },
      "source": [
        "train = pd.read_csv('/content/drive/My Drive/Python/train.csv')"
      ],
      "execution_count": 0,
      "outputs": []
    },
    {
      "cell_type": "code",
      "metadata": {
        "id": "hN6I3MH4yF5U",
        "colab_type": "code",
        "colab": {}
      },
      "source": [
        "test = pd.read_csv('/content/drive/My Drive/Python/test.csv')"
      ],
      "execution_count": 0,
      "outputs": []
    },
    {
      "cell_type": "code",
      "metadata": {
        "id": "dw-pZW-4zwqN",
        "colab_type": "code",
        "outputId": "cc30ecd9-f4e2-46b7-a7cb-0905c8e93a87",
        "colab": {
          "base_uri": "https://localhost:8080/",
          "height": 306
        }
      },
      "source": [
        "train.info()"
      ],
      "execution_count": 0,
      "outputs": [
        {
          "output_type": "stream",
          "text": [
            "<class 'pandas.core.frame.DataFrame'>\n",
            "RangeIndex: 550068 entries, 0 to 550067\n",
            "Data columns (total 12 columns):\n",
            "User_ID                       550068 non-null int64\n",
            "Product_ID                    550068 non-null object\n",
            "Gender                        550068 non-null object\n",
            "Age                           550068 non-null object\n",
            "Occupation                    550068 non-null int64\n",
            "City_Category                 550068 non-null object\n",
            "Stay_In_Current_City_Years    550068 non-null object\n",
            "Marital_Status                550068 non-null int64\n",
            "Product_Category_1            550068 non-null int64\n",
            "Product_Category_2            376430 non-null float64\n",
            "Product_Category_3            166821 non-null float64\n",
            "Purchase                      550068 non-null int64\n",
            "dtypes: float64(2), int64(5), object(5)\n",
            "memory usage: 50.4+ MB\n"
          ],
          "name": "stdout"
        }
      ]
    },
    {
      "cell_type": "code",
      "metadata": {
        "id": "TpVmliMmz4-M",
        "colab_type": "code",
        "outputId": "0c75776e-9afc-430a-9f8f-19c66d85b0ae",
        "colab": {
          "base_uri": "https://localhost:8080/",
          "height": 289
        }
      },
      "source": [
        "test.info()"
      ],
      "execution_count": 0,
      "outputs": [
        {
          "output_type": "stream",
          "text": [
            "<class 'pandas.core.frame.DataFrame'>\n",
            "RangeIndex: 233599 entries, 0 to 233598\n",
            "Data columns (total 11 columns):\n",
            "User_ID                       233599 non-null int64\n",
            "Product_ID                    233599 non-null object\n",
            "Gender                        233599 non-null object\n",
            "Age                           233599 non-null object\n",
            "Occupation                    233599 non-null int64\n",
            "City_Category                 233599 non-null object\n",
            "Stay_In_Current_City_Years    233599 non-null object\n",
            "Marital_Status                233599 non-null int64\n",
            "Product_Category_1            233599 non-null int64\n",
            "Product_Category_2            161255 non-null float64\n",
            "Product_Category_3            71037 non-null float64\n",
            "dtypes: float64(2), int64(4), object(5)\n",
            "memory usage: 19.6+ MB\n"
          ],
          "name": "stdout"
        }
      ]
    },
    {
      "cell_type": "markdown",
      "metadata": {
        "id": "qYlprbEQMcKU",
        "colab_type": "text"
      },
      "source": [
        "## Lets Check the Null Values in the Training and Testing Data"
      ]
    },
    {
      "cell_type": "code",
      "metadata": {
        "id": "T0biKMNHz6ZT",
        "colab_type": "code",
        "outputId": "a61dae3f-c67c-4059-f3f9-0d1528688e27",
        "colab": {
          "base_uri": "https://localhost:8080/",
          "height": 238
        }
      },
      "source": [
        "(train.isnull().sum())/len(train)"
      ],
      "execution_count": 0,
      "outputs": [
        {
          "output_type": "execute_result",
          "data": {
            "text/plain": [
              "User_ID                       0.000000\n",
              "Product_ID                    0.000000\n",
              "Gender                        0.000000\n",
              "Age                           0.000000\n",
              "Occupation                    0.000000\n",
              "City_Category                 0.000000\n",
              "Stay_In_Current_City_Years    0.000000\n",
              "Marital_Status                0.000000\n",
              "Product_Category_1            0.000000\n",
              "Product_Category_2            0.315666\n",
              "Product_Category_3            0.696727\n",
              "Purchase                      0.000000\n",
              "dtype: float64"
            ]
          },
          "metadata": {
            "tags": []
          },
          "execution_count": 24
        }
      ]
    },
    {
      "cell_type": "code",
      "metadata": {
        "id": "whVMUKA40O1l",
        "colab_type": "code",
        "outputId": "9fd33923-6473-4f40-8532-64d080b1cc17",
        "colab": {
          "base_uri": "https://localhost:8080/",
          "height": 221
        }
      },
      "source": [
        "(test.isnull().sum())/len(test)"
      ],
      "execution_count": 0,
      "outputs": [
        {
          "output_type": "execute_result",
          "data": {
            "text/plain": [
              "User_ID                       0.000000\n",
              "Product_ID                    0.000000\n",
              "Gender                        0.000000\n",
              "Age                           0.000000\n",
              "Occupation                    0.000000\n",
              "City_Category                 0.000000\n",
              "Stay_In_Current_City_Years    0.000000\n",
              "Marital_Status                0.000000\n",
              "Product_Category_1            0.000000\n",
              "Product_Category_2            0.309693\n",
              "Product_Category_3            0.695902\n",
              "dtype: float64"
            ]
          },
          "metadata": {
            "tags": []
          },
          "execution_count": 25
        }
      ]
    },
    {
      "cell_type": "markdown",
      "metadata": {
        "id": "JP0TQxhvMvEx",
        "colab_type": "text"
      },
      "source": [
        "## Observation : \n",
        "1.   The training as well as Testing data consists of 2 variables with null values.\n",
        "2.   These variables are Product_category_2 and Product_category_3.\n",
        "3.   Product_category_2 consist of around 30% to 32% of missing values while Product_category_3 contains approx 70 % of missing values.\n",
        "\n",
        "1.   The Missing values can either be filled with mean value or can be dropped.\n",
        "2.   Product_Category_3 contain 70 % of missing values which if trained can lead to training of misinformation.\n",
        "\n",
        "\n"
      ]
    },
    {
      "cell_type": "markdown",
      "metadata": {
        "id": "DILkOlIpkjfl",
        "colab_type": "text"
      },
      "source": [
        "## Data Exploration"
      ]
    },
    {
      "cell_type": "markdown",
      "metadata": {
        "id": "dFVS1YBVTdt5",
        "colab_type": "text"
      },
      "source": [
        "### The Unique value in the data Frame is as mentioned below"
      ]
    },
    {
      "cell_type": "code",
      "metadata": {
        "id": "Y6Yy88NfPvHt",
        "colab_type": "code",
        "outputId": "db4949d4-6b9a-45a7-98af-bb2154e09f73",
        "colab": {
          "base_uri": "https://localhost:8080/",
          "height": 238
        }
      },
      "source": [
        "train.apply(lambda x: len(x.unique()))"
      ],
      "execution_count": 0,
      "outputs": [
        {
          "output_type": "execute_result",
          "data": {
            "text/plain": [
              "User_ID                        5891\n",
              "Product_ID                     3631\n",
              "Gender                            2\n",
              "Age                               7\n",
              "Occupation                       21\n",
              "City_Category                     3\n",
              "Stay_In_Current_City_Years        5\n",
              "Marital_Status                    2\n",
              "Product_Category_1               20\n",
              "Product_Category_2               18\n",
              "Product_Category_3               16\n",
              "Purchase                      18105\n",
              "dtype: int64"
            ]
          },
          "metadata": {
            "tags": []
          },
          "execution_count": 26
        }
      ]
    },
    {
      "cell_type": "code",
      "metadata": {
        "id": "LoJtqwZ4_9lc",
        "colab_type": "code",
        "outputId": "a79bb98a-d9da-47ba-bd90-737d9f653217",
        "colab": {
          "base_uri": "https://localhost:8080/",
          "height": 735
        }
      },
      "source": [
        "plt.figure(figsize=(18,12))\n",
        "\n",
        "sns.distplot(train.Purchase,kde=True,color='green',label='Purchase Distribution Plot')"
      ],
      "execution_count": 0,
      "outputs": [
        {
          "output_type": "execute_result",
          "data": {
            "text/plain": [
              "<matplotlib.axes._subplots.AxesSubplot at 0x7f57173e0fd0>"
            ]
          },
          "metadata": {
            "tags": []
          },
          "execution_count": 27
        },
        {
          "output_type": "display_data",
          "data": {
            "image/png": "[encoded data removed]",
            "text/plain": [
              "<Figure size 1296x864 with 1 Axes>"
            ]
          },
          "metadata": {
            "tags": []
          }
        }
      ]
    },
    {
      "cell_type": "code",
      "metadata": {
        "id": "1QtnGmUnXNkl",
        "colab_type": "code",
        "colab": {}
      },
      "source": [
        ""
      ],
      "execution_count": 0,
      "outputs": []
    },
    {
      "cell_type": "code",
      "metadata": {
        "id": "Rl1E7k8XaH-V",
        "colab_type": "code",
        "outputId": "b0a0693c-d5be-450c-f6f0-5a277f90cbfa",
        "colab": {
          "base_uri": "https://localhost:8080/",
          "height": 409
        }
      },
      "source": [
        "plt.figure(1)\n",
        "plt.figure(figsize=(18,12))\n",
        "plt.subplot(221)\n",
        "sns.barplot(train.Stay_In_Current_City_Years,train.Purchase)\n",
        "plt.title('Total Purchase done by the clients on the basis of their stay term')\n",
        "\n",
        "plt.subplot(222)\n",
        "sns.countplot(train.Stay_In_Current_City_Years)\n",
        "plt.title('Time Span of clients')"
      ],
      "execution_count": 0,
      "outputs": [
        {
          "output_type": "execute_result",
          "data": {
            "text/plain": [
              "Text(0.5, 1.0, 'Time Span of clients')"
            ]
          },
          "metadata": {
            "tags": []
          },
          "execution_count": 28
        },
        {
          "output_type": "display_data",
          "data": {
            "text/plain": [
              "<Figure size 432x288 with 0 Axes>"
            ]
          },
          "metadata": {
            "tags": []
          }
        },
        {
          "output_type": "display_data",
          "data": {
            "image/png": "[encoded data removed]",
            "text/plain": [
              "<Figure size 1296x864 with 2 Axes>"
            ]
          },
          "metadata": {
            "tags": []
          }
        }
      ]
    },
    {
      "cell_type": "markdown",
      "metadata": {
        "id": "YjsU3BQxcK_g",
        "colab_type": "text"
      },
      "source": [
        "\n",
        "*   All the customers has almost equal contributoin in the totalpurchase of the goods\n",
        "\n",
        "*   Wherease the number of people who stayed in the city for almost 1 years are more compare to the people who has been in the city from long.\n",
        "\n",
        "\n",
        "*   We can conclude from this that the People who are very new to the city may not get attracted to the store and the one who have lived more than 1 year may have migrated towards other store."
      ]
    },
    {
      "cell_type": "code",
      "metadata": {
        "id": "I4t_81GTcGLl",
        "colab_type": "code",
        "colab": {}
      },
      "source": [
        ""
      ],
      "execution_count": 0,
      "outputs": []
    },
    {
      "cell_type": "code",
      "metadata": {
        "id": "m3fcgOQsbj2U",
        "colab_type": "code",
        "outputId": "b54a4313-3566-4b00-833b-45b0a084fe13",
        "colab": {
          "base_uri": "https://localhost:8080/",
          "height": 359
        }
      },
      "source": [
        "plt.figure(1)\n",
        "plt.figure(figsize=(16,10))\n",
        "\n",
        "plt.subplot(221)\n",
        "sns.barplot(train.Gender,train.Purchase)\n",
        "plt.title('Total purchase of Both Genders')\n",
        "\n",
        "plt.subplot(222)\n",
        "sns.countplot(train.Gender)\n",
        "plt.title('Total Count of Both Genders')"
      ],
      "execution_count": 0,
      "outputs": [
        {
          "output_type": "execute_result",
          "data": {
            "text/plain": [
              "Text(0.5, 1.0, 'Total Count of Both Genders')"
            ]
          },
          "metadata": {
            "tags": []
          },
          "execution_count": 29
        },
        {
          "output_type": "display_data",
          "data": {
            "text/plain": [
              "<Figure size 432x288 with 0 Axes>"
            ]
          },
          "metadata": {
            "tags": []
          }
        },
        {
          "output_type": "display_data",
          "data": {
            "image/png": "[encoded data removed]",
            "text/plain": [
              "<Figure size 1152x720 with 2 Axes>"
            ]
          },
          "metadata": {
            "tags": []
          }
        }
      ]
    },
    {
      "cell_type": "markdown",
      "metadata": {
        "id": "W7oak3ccgFiu",
        "colab_type": "text"
      },
      "source": [
        "\n",
        "\n",
        "*   Number of Females is very less as compared to the count of males in the record.\n",
        "\n",
        "*   But unlike Count, the contribution of Females in the purchase is very large.\n",
        "\n"
      ]
    },
    {
      "cell_type": "code",
      "metadata": {
        "id": "eXbIZHHdJzTK",
        "colab_type": "code",
        "outputId": "4e7e6aa5-9425-42e0-e1f0-5aa7eb7a41ab",
        "colab": {
          "base_uri": "https://localhost:8080/",
          "height": 656
        }
      },
      "source": [
        "plt.figure(1)\n",
        "plt.figure(figsize=(16,10))\n",
        "\n",
        "plt.subplot(221)\n",
        "sns.barplot(train.Product_Category_1,train.Purchase)\n",
        "plt.title('Total purchase of Product Category 1')\n",
        "\n",
        "plt.subplot(222)\n",
        "sns.countplot(train.Product_Category_1)\n",
        "plt.title('Total Count of Product Category 1')\n",
        "\n",
        "plt.subplot(223)\n",
        "sns.barplot(train.Product_Category_2,train.Purchase)\n",
        "plt.title('Total purchase of Product Category 2')\n",
        "\n",
        "plt.subplot(224)\n",
        "sns.countplot(train.Product_Category_2)\n",
        "plt.title('Total Count of Product Category 2')"
      ],
      "execution_count": 0,
      "outputs": [
        {
          "output_type": "execute_result",
          "data": {
            "text/plain": [
              "Text(0.5, 1.0, 'Total Count of Product Category 2')"
            ]
          },
          "metadata": {
            "tags": []
          },
          "execution_count": 30
        },
        {
          "output_type": "display_data",
          "data": {
            "text/plain": [
              "<Figure size 432x288 with 0 Axes>"
            ]
          },
          "metadata": {
            "tags": []
          }
        },
        {
          "output_type": "display_data",
          "data": {
            "image/png": "[encoded data removed]",
            "text/plain": [
              "<Figure size 1152x720 with 4 Axes>"
            ]
          },
          "metadata": {
            "tags": []
          }
        }
      ]
    },
    {
      "cell_type": "markdown",
      "metadata": {
        "id": "pOtu2byH_be6",
        "colab_type": "text"
      },
      "source": [
        "\n",
        "\n",
        "*   Class 4, 11, 12, 13, 18, 19 and 20 has very Less sales as compared to the rest of Groups.\n",
        "\n",
        "*   Remaining groups are showing good purchase numbers hence can be retained in the store for long.\n",
        "\n"
      ]
    },
    {
      "cell_type": "code",
      "metadata": {
        "id": "M_809OdVd7eL",
        "colab_type": "code",
        "outputId": "eda6142b-20b9-45fa-f113-656dbeebcc97",
        "colab": {
          "base_uri": "https://localhost:8080/",
          "height": 360
        }
      },
      "source": [
        "plt.figure(1)\n",
        "plt.figure(figsize=(16,10))\n",
        "\n",
        "plt.subplot(221)\n",
        "sns.barplot(train.Marital_Status,train.Purchase)\n",
        "plt.title('Total purchase Done by Married and Singles')\n",
        "\n",
        "plt.subplot(222)\n",
        "sns.countplot(train.Marital_Status)\n",
        "plt.title('Total Count of Married and Singles')"
      ],
      "execution_count": 0,
      "outputs": [
        {
          "output_type": "execute_result",
          "data": {
            "text/plain": [
              "Text(0.5, 1.0, 'Total Count of Married and Singles')"
            ]
          },
          "metadata": {
            "tags": []
          },
          "execution_count": 31
        },
        {
          "output_type": "display_data",
          "data": {
            "text/plain": [
              "<Figure size 432x288 with 0 Axes>"
            ]
          },
          "metadata": {
            "tags": []
          }
        },
        {
          "output_type": "display_data",
          "data": {
            "image/png": "[encoded data removed]",
            "text/plain": [
              "<Figure size 1152x720 with 2 Axes>"
            ]
          },
          "metadata": {
            "tags": []
          }
        }
      ]
    },
    {
      "cell_type": "markdown",
      "metadata": {
        "id": "bmXZFS5PBHER",
        "colab_type": "text"
      },
      "source": [
        "\n",
        "\n",
        "*   Number of Singles are more than the married ones.\n",
        "\n",
        "*   Though the Contribution of both the classes are same.\n",
        "\n"
      ]
    },
    {
      "cell_type": "code",
      "metadata": {
        "id": "SZg5BHxDXxkn",
        "colab_type": "code",
        "outputId": "780a22bf-12e0-4113-d8bc-90c593c823a7",
        "colab": {
          "base_uri": "https://localhost:8080/",
          "height": 408
        }
      },
      "source": [
        "plt.figure(1)\n",
        "plt.figure(figsize=(18,12))\n",
        "\n",
        "plt.subplot(221)\n",
        "sns.barplot(train.Age,train.Purchase)\n",
        "plt.title('Total purchase Done by Different Age groups')\n",
        "\n",
        "plt.subplot(222)\n",
        "sns.countplot(train.Age)\n",
        "plt.title('Total Count of Different Age groups')"
      ],
      "execution_count": 0,
      "outputs": [
        {
          "output_type": "execute_result",
          "data": {
            "text/plain": [
              "Text(0.5, 1.0, 'Total Count of Different Age groups')"
            ]
          },
          "metadata": {
            "tags": []
          },
          "execution_count": 32
        },
        {
          "output_type": "display_data",
          "data": {
            "text/plain": [
              "<Figure size 432x288 with 0 Axes>"
            ]
          },
          "metadata": {
            "tags": []
          }
        },
        {
          "output_type": "display_data",
          "data": {
            "image/png": "[encoded data removed]",
            "text/plain": [
              "<Figure size 1296x864 with 2 Axes>"
            ]
          },
          "metadata": {
            "tags": []
          }
        }
      ]
    },
    {
      "cell_type": "markdown",
      "metadata": {
        "id": "ez73E8YNB1h4",
        "colab_type": "text"
      },
      "source": [
        "\n",
        "\n",
        "*   The Most Active Purchasers belong to the Young age groups i.e. 26-35 where the people generally gets married and the requirement for survivals increases too.\n",
        "\n",
        "\n",
        "*   The same group is then followed by the age group 36-45.\n",
        "\n",
        "\n",
        "*   18-25 class consists of majorly Students or migrants from other places migrated for studying.\n",
        "\n"
      ]
    },
    {
      "cell_type": "code",
      "metadata": {
        "id": "lu3N6LnmXI9f",
        "colab_type": "code",
        "outputId": "887ece70-69ad-4a20-94d5-80903008b1ff",
        "colab": {
          "base_uri": "https://localhost:8080/",
          "height": 530
        }
      },
      "source": [
        "plt.figure(figsize=(16,8))\n",
        "sns.countplot(train.Age, hue=train.Gender)\n",
        "plt.title('Gender wise Bifurcation of the Age Group')"
      ],
      "execution_count": 0,
      "outputs": [
        {
          "output_type": "execute_result",
          "data": {
            "text/plain": [
              "Text(0.5, 1.0, 'Gender wise Bifurcation of the Age Group')"
            ]
          },
          "metadata": {
            "tags": []
          },
          "execution_count": 33
        },
        {
          "output_type": "display_data",
          "data": {
            "image/png": "[encoded data removed]",
            "text/plain": [
              "<Figure size 1152x576 with 1 Axes>"
            ]
          },
          "metadata": {
            "tags": []
          }
        }
      ]
    },
    {
      "cell_type": "markdown",
      "metadata": {
        "id": "K_Cjie5CCl93",
        "colab_type": "text"
      },
      "source": [
        "In All the Age groups the dominent purchaser is the male.\n",
        "\n",
        "This can be because of the breadearner role in the family, that they purchase more dominently as compare to the Femaless."
      ]
    },
    {
      "cell_type": "code",
      "metadata": {
        "id": "bbXzPCQ2eBRB",
        "colab_type": "code",
        "outputId": "eff0339b-7ad9-41a0-f082-3345da5e4ddb",
        "colab": {
          "base_uri": "https://localhost:8080/",
          "height": 360
        }
      },
      "source": [
        "plt.figure(1)\n",
        "plt.figure(figsize=(18,10))\n",
        "\n",
        "plt.subplot(221)\n",
        "sns.barplot(train.City_Category,train.Purchase)\n",
        "plt.title('Total purchase Done in Different City')\n",
        "\n",
        "plt.subplot(222)\n",
        "sns.countplot(train.City_Category)\n",
        "plt.title('Total Count of Customers in Different City')"
      ],
      "execution_count": 0,
      "outputs": [
        {
          "output_type": "execute_result",
          "data": {
            "text/plain": [
              "Text(0.5, 1.0, 'Total Count of Customers in Different City')"
            ]
          },
          "metadata": {
            "tags": []
          },
          "execution_count": 34
        },
        {
          "output_type": "display_data",
          "data": {
            "text/plain": [
              "<Figure size 432x288 with 0 Axes>"
            ]
          },
          "metadata": {
            "tags": []
          }
        },
        {
          "output_type": "display_data",
          "data": {
            "image/png": "[encoded data removed]",
            "text/plain": [
              "<Figure size 1296x720 with 2 Axes>"
            ]
          },
          "metadata": {
            "tags": []
          }
        }
      ]
    },
    {
      "cell_type": "markdown",
      "metadata": {
        "id": "g8JmNLl5DLWS",
        "colab_type": "text"
      },
      "source": [
        "*  The Sales in all the 3 city types are very close to each others.\n",
        "\n",
        "\n",
        "*   All the city categories are giving good revenue to the store. Hence the same can be retained and can think of adding more stores in these cities."
      ]
    },
    {
      "cell_type": "code",
      "metadata": {
        "id": "OQw4Ighrej8k",
        "colab_type": "code",
        "outputId": "86afff06-35ca-46f4-e92d-8b912ee1ef8a",
        "colab": {
          "base_uri": "https://localhost:8080/",
          "height": 102
        }
      },
      "source": [
        "print(pd.crosstab(train.City_Category,train.Age))"
      ],
      "execution_count": 0,
      "outputs": [
        {
          "output_type": "stream",
          "text": [
            "Age            0-17  18-25  26-35  36-45  46-50  51-55    55+\n",
            "City_Category                                                \n",
            "A              2544  27535  73745  26617   7607   6099   3573\n",
            "B              5435  43247  91584  47598  20406  17741   5162\n",
            "C              7123  28878  54258  35798  17688  14661  12769\n"
          ],
          "name": "stdout"
        }
      ]
    },
    {
      "cell_type": "code",
      "metadata": {
        "id": "uI_5CB1ufJ-B",
        "colab_type": "code",
        "outputId": "98d564f8-a0d5-4ee7-f737-f813150122c2",
        "colab": {
          "base_uri": "https://localhost:8080/",
          "height": 102
        }
      },
      "source": [
        "print(pd.crosstab(train.City_Category,train.Stay_In_Current_City_Years))"
      ],
      "execution_count": 0,
      "outputs": [
        {
          "output_type": "stream",
          "text": [
            "Stay_In_Current_City_Years      0      1      2      3     4+\n",
            "City_Category                                                \n",
            "A                           24178  49305  27114  24804  22319\n",
            "B                           28687  83413  41772  42691  34610\n",
            "C                           21533  61103  32952  27790  27797\n"
          ],
          "name": "stdout"
        }
      ]
    },
    {
      "cell_type": "markdown",
      "metadata": {
        "id": "Oqt0gj6BFIAh",
        "colab_type": "text"
      },
      "source": [
        "# Data Preparation"
      ]
    },
    {
      "cell_type": "markdown",
      "metadata": {
        "id": "3Y23Ssg_FUW-",
        "colab_type": "text"
      },
      "source": [
        "\n",
        "\n",
        "*   Two variables in the dataset have missing values which can lead to problem in training of the model. \n",
        "\n",
        "*   These variables are Product_category_2 and Product_category_3.\n",
        "\n",
        "*   Product_category_2 consist of around 30% to 32% of missing values while Product_category_3 contains approx 70 % of missing values.\n",
        "\n",
        "*   We will drop Product Category 3 since it contains missing values more than 69 %. and will have to impute mean value in the missing places of Product_category_2.\n",
        "\n",
        "\n",
        "\n"
      ]
    },
    {
      "cell_type": "code",
      "metadata": {
        "id": "5pqeh_AT2tP4",
        "colab_type": "code",
        "outputId": "ce03b51d-9e7f-42d8-950c-60d80115d451",
        "colab": {
          "base_uri": "https://localhost:8080/",
          "height": 85
        }
      },
      "source": [
        "print(train['Product_Category_2'].mean())\n",
        "print(train['Product_Category_3'].mean())\n",
        "print(test['Product_Category_2'].mean())\n",
        "print(test['Product_Category_3'].mean())"
      ],
      "execution_count": 0,
      "outputs": [
        {
          "output_type": "stream",
          "text": [
            "9.842329251122386\n",
            "12.668243206790512\n",
            "9.849586059346997\n",
            "12.669453946534905\n"
          ],
          "name": "stdout"
        }
      ]
    },
    {
      "cell_type": "code",
      "metadata": {
        "id": "RxLVY3kkZjbV",
        "colab_type": "code",
        "colab": {}
      },
      "source": [
        "train['Product_Category_2'].fillna(10,inplace=True)\n",
        "test['Product_Category_2'].fillna(10,inplace=True)\n"
      ],
      "execution_count": 0,
      "outputs": []
    },
    {
      "cell_type": "markdown",
      "metadata": {
        "id": "-MoSBGuJGcHZ",
        "colab_type": "text"
      },
      "source": [
        "*   The Dataset consists of 12 Variables from which 5 are categorical and rest are Numeric.\n",
        "\n",
        "\n",
        "\n",
        "*   The Categorical variables Age and Stay_in_current Year will be label encoded since these variable consists of ordinal Data. Hence on Ordinal data Label encoding is preferred.\n",
        "\n",
        "\n",
        "\n",
        "*   The remaining Categorical variables i.e. Gender, City_category will be dummified or one hot encoded. This will convert the string vategories into numeric category and feisable for training.\n"
      ]
    },
    {
      "cell_type": "code",
      "metadata": {
        "id": "ZNM06keyy0cr",
        "colab_type": "code",
        "colab": {}
      },
      "source": [
        "train.Age = train.Age.map({'0-17':0,'18-25':1,'26-35':2,'36-45':3,'46-50':4,'51-55':5,'55+':6})\n",
        "test.Age = test.Age.map({'0-17':0,'18-25':1,'26-35':2,'36-45':3,'46-50':4,'51-55':5,'55+':6})"
      ],
      "execution_count": 0,
      "outputs": []
    },
    {
      "cell_type": "code",
      "metadata": {
        "id": "_r0eLnH-9NeZ",
        "colab_type": "code",
        "colab": {}
      },
      "source": [
        "train.Stay_In_Current_City_Years = train.Stay_In_Current_City_Years.map({'4+':4,'1':1,'2':2,'0':0,'3':3})\n",
        "test.Stay_In_Current_City_Years = test.Stay_In_Current_City_Years.map({'4+':4,'1':1,'2':2,'0':0,'3':3})"
      ],
      "execution_count": 0,
      "outputs": []
    },
    {
      "cell_type": "code",
      "metadata": {
        "id": "EikTeJLaKC7h",
        "colab_type": "code",
        "colab": {}
      },
      "source": [
        "dtrain = pd.get_dummies(train,columns=['Gender', 'City_Category'])\n",
        "dtest = pd.get_dummies(test,columns=['Gender', 'City_Category'])"
      ],
      "execution_count": 0,
      "outputs": []
    },
    {
      "cell_type": "code",
      "metadata": {
        "id": "SQStBWxLkGvf",
        "colab_type": "code",
        "outputId": "85a94a67-7c43-4006-8773-7996a21b1e01",
        "colab": {
          "base_uri": "https://localhost:8080/",
          "height": 204
        }
      },
      "source": [
        "train.head()"
      ],
      "execution_count": 0,
      "outputs": [
        {
          "output_type": "execute_result",
          "data": {
            "text/html": [
              "<div>\n",
              "<style scoped>\n",
              "    .dataframe tbody tr th:only-of-type {\n",
              "        vertical-align: middle;\n",
              "    }\n",
              "\n",
              "    .dataframe tbody tr th {\n",
              "        vertical-align: top;\n",
              "    }\n",
              "\n",
              "    .dataframe thead th {\n",
              "        text-align: right;\n",
              "    }\n",
              "</style>\n",
              "<table border=\"1\" class=\"dataframe\">\n",
              "  <thead>\n",
              "    <tr style=\"text-align: right;\">\n",
              "      <th></th>\n",
              "      <th>User_ID</th>\n",
              "      <th>Product_ID</th>\n",
              "      <th>Gender</th>\n",
              "      <th>Age</th>\n",
              "      <th>Occupation</th>\n",
              "      <th>City_Category</th>\n",
              "      <th>Stay_In_Current_City_Years</th>\n",
              "      <th>Marital_Status</th>\n",
              "      <th>Product_Category_1</th>\n",
              "      <th>Product_Category_2</th>\n",
              "      <th>Product_Category_3</th>\n",
              "      <th>Purchase</th>\n",
              "    </tr>\n",
              "  </thead>\n",
              "  <tbody>\n",
              "    <tr>\n",
              "      <th>0</th>\n",
              "      <td>1000001</td>\n",
              "      <td>P00069042</td>\n",
              "      <td>F</td>\n",
              "      <td>0</td>\n",
              "      <td>10</td>\n",
              "      <td>A</td>\n",
              "      <td>2</td>\n",
              "      <td>0</td>\n",
              "      <td>3</td>\n",
              "      <td>10.0</td>\n",
              "      <td>NaN</td>\n",
              "      <td>8370</td>\n",
              "    </tr>\n",
              "    <tr>\n",
              "      <th>1</th>\n",
              "      <td>1000001</td>\n",
              "      <td>P00248942</td>\n",
              "      <td>F</td>\n",
              "      <td>0</td>\n",
              "      <td>10</td>\n",
              "      <td>A</td>\n",
              "      <td>2</td>\n",
              "      <td>0</td>\n",
              "      <td>1</td>\n",
              "      <td>6.0</td>\n",
              "      <td>14.0</td>\n",
              "      <td>15200</td>\n",
              "    </tr>\n",
              "    <tr>\n",
              "      <th>2</th>\n",
              "      <td>1000001</td>\n",
              "      <td>P00087842</td>\n",
              "      <td>F</td>\n",
              "      <td>0</td>\n",
              "      <td>10</td>\n",
              "      <td>A</td>\n",
              "      <td>2</td>\n",
              "      <td>0</td>\n",
              "      <td>12</td>\n",
              "      <td>10.0</td>\n",
              "      <td>NaN</td>\n",
              "      <td>1422</td>\n",
              "    </tr>\n",
              "    <tr>\n",
              "      <th>3</th>\n",
              "      <td>1000001</td>\n",
              "      <td>P00085442</td>\n",
              "      <td>F</td>\n",
              "      <td>0</td>\n",
              "      <td>10</td>\n",
              "      <td>A</td>\n",
              "      <td>2</td>\n",
              "      <td>0</td>\n",
              "      <td>12</td>\n",
              "      <td>14.0</td>\n",
              "      <td>NaN</td>\n",
              "      <td>1057</td>\n",
              "    </tr>\n",
              "    <tr>\n",
              "      <th>4</th>\n",
              "      <td>1000002</td>\n",
              "      <td>P00285442</td>\n",
              "      <td>M</td>\n",
              "      <td>6</td>\n",
              "      <td>16</td>\n",
              "      <td>C</td>\n",
              "      <td>4</td>\n",
              "      <td>0</td>\n",
              "      <td>8</td>\n",
              "      <td>10.0</td>\n",
              "      <td>NaN</td>\n",
              "      <td>7969</td>\n",
              "    </tr>\n",
              "  </tbody>\n",
              "</table>\n",
              "</div>"
            ],
            "text/plain": [
              "   User_ID Product_ID Gender  ...  Product_Category_2  Product_Category_3 Purchase\n",
              "0  1000001  P00069042      F  ...                10.0                 NaN     8370\n",
              "1  1000001  P00248942      F  ...                 6.0                14.0    15200\n",
              "2  1000001  P00087842      F  ...                10.0                 NaN     1422\n",
              "3  1000001  P00085442      F  ...                14.0                 NaN     1057\n",
              "4  1000002  P00285442      M  ...                10.0                 NaN     7969\n",
              "\n",
              "[5 rows x 12 columns]"
            ]
          },
          "metadata": {
            "tags": []
          },
          "execution_count": 42
        }
      ]
    },
    {
      "cell_type": "markdown",
      "metadata": {
        "id": "bkIn0oteMqXA",
        "colab_type": "text"
      },
      "source": [
        "We Will Drop The Variables with Null Values"
      ]
    },
    {
      "cell_type": "code",
      "metadata": {
        "id": "Yy0bIxVrf1fM",
        "colab_type": "code",
        "colab": {}
      },
      "source": [
        "dtrain = dtrain.drop(['Product_Category_2','Product_Category_3'],1)\n",
        "dtest = dtest.drop(['Product_Category_2','Product_Category_3'],1)"
      ],
      "execution_count": 0,
      "outputs": []
    },
    {
      "cell_type": "code",
      "metadata": {
        "id": "CzPAS4RRlJom",
        "colab_type": "code",
        "outputId": "37ff28dc-99f6-4845-ae8d-0255d34dc0b4",
        "colab": {
          "base_uri": "https://localhost:8080/",
          "height": 204
        }
      },
      "source": [
        "dtrain.head()"
      ],
      "execution_count": 0,
      "outputs": [
        {
          "output_type": "execute_result",
          "data": {
            "text/html": [
              "<div>\n",
              "<style scoped>\n",
              "    .dataframe tbody tr th:only-of-type {\n",
              "        vertical-align: middle;\n",
              "    }\n",
              "\n",
              "    .dataframe tbody tr th {\n",
              "        vertical-align: top;\n",
              "    }\n",
              "\n",
              "    .dataframe thead th {\n",
              "        text-align: right;\n",
              "    }\n",
              "</style>\n",
              "<table border=\"1\" class=\"dataframe\">\n",
              "  <thead>\n",
              "    <tr style=\"text-align: right;\">\n",
              "      <th></th>\n",
              "      <th>User_ID</th>\n",
              "      <th>Product_ID</th>\n",
              "      <th>Age</th>\n",
              "      <th>Occupation</th>\n",
              "      <th>Stay_In_Current_City_Years</th>\n",
              "      <th>Marital_Status</th>\n",
              "      <th>Product_Category_1</th>\n",
              "      <th>Purchase</th>\n",
              "      <th>Gender_F</th>\n",
              "      <th>Gender_M</th>\n",
              "      <th>City_Category_A</th>\n",
              "      <th>City_Category_B</th>\n",
              "      <th>City_Category_C</th>\n",
              "    </tr>\n",
              "  </thead>\n",
              "  <tbody>\n",
              "    <tr>\n",
              "      <th>0</th>\n",
              "      <td>1000001</td>\n",
              "      <td>P00069042</td>\n",
              "      <td>0</td>\n",
              "      <td>10</td>\n",
              "      <td>2</td>\n",
              "      <td>0</td>\n",
              "      <td>3</td>\n",
              "      <td>8370</td>\n",
              "      <td>1</td>\n",
              "      <td>0</td>\n",
              "      <td>1</td>\n",
              "      <td>0</td>\n",
              "      <td>0</td>\n",
              "    </tr>\n",
              "    <tr>\n",
              "      <th>1</th>\n",
              "      <td>1000001</td>\n",
              "      <td>P00248942</td>\n",
              "      <td>0</td>\n",
              "      <td>10</td>\n",
              "      <td>2</td>\n",
              "      <td>0</td>\n",
              "      <td>1</td>\n",
              "      <td>15200</td>\n",
              "      <td>1</td>\n",
              "      <td>0</td>\n",
              "      <td>1</td>\n",
              "      <td>0</td>\n",
              "      <td>0</td>\n",
              "    </tr>\n",
              "    <tr>\n",
              "      <th>2</th>\n",
              "      <td>1000001</td>\n",
              "      <td>P00087842</td>\n",
              "      <td>0</td>\n",
              "      <td>10</td>\n",
              "      <td>2</td>\n",
              "      <td>0</td>\n",
              "      <td>12</td>\n",
              "      <td>1422</td>\n",
              "      <td>1</td>\n",
              "      <td>0</td>\n",
              "      <td>1</td>\n",
              "      <td>0</td>\n",
              "      <td>0</td>\n",
              "    </tr>\n",
              "    <tr>\n",
              "      <th>3</th>\n",
              "      <td>1000001</td>\n",
              "      <td>P00085442</td>\n",
              "      <td>0</td>\n",
              "      <td>10</td>\n",
              "      <td>2</td>\n",
              "      <td>0</td>\n",
              "      <td>12</td>\n",
              "      <td>1057</td>\n",
              "      <td>1</td>\n",
              "      <td>0</td>\n",
              "      <td>1</td>\n",
              "      <td>0</td>\n",
              "      <td>0</td>\n",
              "    </tr>\n",
              "    <tr>\n",
              "      <th>4</th>\n",
              "      <td>1000002</td>\n",
              "      <td>P00285442</td>\n",
              "      <td>6</td>\n",
              "      <td>16</td>\n",
              "      <td>4</td>\n",
              "      <td>0</td>\n",
              "      <td>8</td>\n",
              "      <td>7969</td>\n",
              "      <td>0</td>\n",
              "      <td>1</td>\n",
              "      <td>0</td>\n",
              "      <td>0</td>\n",
              "      <td>1</td>\n",
              "    </tr>\n",
              "  </tbody>\n",
              "</table>\n",
              "</div>"
            ],
            "text/plain": [
              "   User_ID Product_ID  Age  ...  City_Category_A  City_Category_B  City_Category_C\n",
              "0  1000001  P00069042    0  ...                1                0                0\n",
              "1  1000001  P00248942    0  ...                1                0                0\n",
              "2  1000001  P00087842    0  ...                1                0                0\n",
              "3  1000001  P00085442    0  ...                1                0                0\n",
              "4  1000002  P00285442    6  ...                0                0                1\n",
              "\n",
              "[5 rows x 13 columns]"
            ]
          },
          "metadata": {
            "tags": []
          },
          "execution_count": 44
        }
      ]
    },
    {
      "cell_type": "code",
      "metadata": {
        "id": "DWxcDFVmPtg5",
        "colab_type": "code",
        "outputId": "68bc7fff-acc1-41e4-96cc-c62e374f9381",
        "colab": {
          "base_uri": "https://localhost:8080/",
          "height": 85
        }
      },
      "source": [
        "print('Train shape : ', train.shape)\n",
        "print('Test shape : ', test.shape)\n",
        "print('Dummy Train shape : ', dtrain.shape)\n",
        "print('Dummy Test shape : ', dtest.shape)"
      ],
      "execution_count": 0,
      "outputs": [
        {
          "output_type": "stream",
          "text": [
            "Train shape :  (550068, 12)\n",
            "Test shape :  (233599, 11)\n",
            "Dummy Train shape :  (550068, 13)\n",
            "Dummy Test shape :  (233599, 12)\n"
          ],
          "name": "stdout"
        }
      ]
    },
    {
      "cell_type": "markdown",
      "metadata": {
        "id": "XIGsAsJ2MzM8",
        "colab_type": "text"
      },
      "source": [
        "# DATA MODELLING"
      ]
    },
    {
      "cell_type": "markdown",
      "metadata": {
        "id": "ShnOHM-LM7Wz",
        "colab_type": "text"
      },
      "source": [
        "The Final Dataset with dummy variables and dropped variables will be now split into training and  Testing set. \n",
        "\n",
        "Since the Test data is already Given to us we will Consider the same as data for test and the train data for training.\n",
        "\n",
        "While training the data we will remove USER_ID and Product_ID as there is no major role in the prediction of the target variables."
      ]
    },
    {
      "cell_type": "code",
      "metadata": {
        "id": "b7kbjnL5NXGC",
        "colab_type": "code",
        "colab": {}
      },
      "source": [
        "xtrain = dtrain.drop(['Purchase','User_ID','Product_ID'],1)\n",
        "ytrain = dtrain.Purchase\n",
        "xtest = dtest.drop(['User_ID','Product_ID'],1)"
      ],
      "execution_count": 0,
      "outputs": []
    },
    {
      "cell_type": "markdown",
      "metadata": {
        "id": "aKDRsf-5Nifa",
        "colab_type": "text"
      },
      "source": [
        "All the algorithems applicables will be imported and then will be fitted over the training data."
      ]
    },
    {
      "cell_type": "code",
      "metadata": {
        "id": "ZzqrJHjnRTS2",
        "colab_type": "code",
        "colab": {}
      },
      "source": [
        "from sklearn.linear_model import LinearRegression\n",
        "from sklearn.tree import DecisionTreeRegressor\n",
        "from sklearn.ensemble import RandomForestRegressor\n",
        "from sklearn.linear_model import Lasso\n",
        "from sklearn.linear_model import Ridge\n",
        "from sklearn.model_selection import GridSearchCV\n",
        "from xgboost import XGBRegressor"
      ],
      "execution_count": 0,
      "outputs": []
    },
    {
      "cell_type": "code",
      "metadata": {
        "id": "TpkPJkmsYG3j",
        "colab_type": "code",
        "colab": {}
      },
      "source": [
        "lin = LinearRegression()\n",
        "las = Lasso()\n",
        "rid = Ridge()\n",
        "dt = DecisionTreeRegressor()\n",
        "rf = RandomForestRegressor()\n",
        "X = XGBRegressor()"
      ],
      "execution_count": 0,
      "outputs": []
    },
    {
      "cell_type": "code",
      "metadata": {
        "id": "vcia_RJcYM2s",
        "colab_type": "code",
        "colab": {}
      },
      "source": [
        "lin_pred = lin.fit(xtrain,ytrain).predict(xtest)"
      ],
      "execution_count": 0,
      "outputs": []
    },
    {
      "cell_type": "code",
      "metadata": {
        "id": "Y-cYvJurIv-P",
        "colab_type": "code",
        "colab": {}
      },
      "source": [
        "solution = pd.DataFrame({'User_ID':test.User_ID,'Product_ID':test.Product_ID,'Purchase':lin_pred})\n",
        "solution.to_csv('Black_friday_solution.csv',index=False)"
      ],
      "execution_count": 0,
      "outputs": []
    },
    {
      "cell_type": "markdown",
      "metadata": {
        "id": "5lTUzjBSNvb_",
        "colab_type": "text"
      },
      "source": [
        "## RMSE - 4702"
      ]
    },
    {
      "cell_type": "code",
      "metadata": {
        "id": "3WeAEmA0Io5R",
        "colab_type": "code",
        "colab": {}
      },
      "source": [
        "dt_pred = dt.fit(xtrain,ytrain).predict(xtest)"
      ],
      "execution_count": 0,
      "outputs": []
    },
    {
      "cell_type": "code",
      "metadata": {
        "id": "i4hu2IT6IwtN",
        "colab_type": "code",
        "colab": {}
      },
      "source": [
        "solution2 = pd.DataFrame({'User_ID':test.User_ID,'Product_ID':test.Product_ID,'Purchase':dt_pred})\n",
        "solution2.to_csv('Black_friday_Dtreen.csv',index=False)"
      ],
      "execution_count": 0,
      "outputs": []
    },
    {
      "cell_type": "markdown",
      "metadata": {
        "id": "ThN57ihLN2ph",
        "colab_type": "text"
      },
      "source": [
        "## RMSE - 2965"
      ]
    },
    {
      "cell_type": "code",
      "metadata": {
        "id": "Z_Cq2SUtYj1A",
        "colab_type": "code",
        "outputId": "fc832542-a75e-4918-a053-00987ff73335",
        "colab": {
          "base_uri": "https://localhost:8080/",
          "height": 51
        }
      },
      "source": [
        "rf_pred = rf.fit(xtrain,ytrain).predict(xtest)"
      ],
      "execution_count": 0,
      "outputs": [
        {
          "output_type": "stream",
          "text": [
            "/usr/local/lib/python3.6/dist-packages/sklearn/ensemble/forest.py:245: FutureWarning: The default value of n_estimators will change from 10 in version 0.20 to 100 in 0.22.\n",
            "  \"10 in version 0.20 to 100 in 0.22.\", FutureWarning)\n"
          ],
          "name": "stderr"
        }
      ]
    },
    {
      "cell_type": "code",
      "metadata": {
        "id": "q__IbUreIyiN",
        "colab_type": "code",
        "colab": {}
      },
      "source": [
        "solution1 = pd.DataFrame({'User_ID':test.User_ID,'Product_ID':test.Product_ID,'Purchase':rf_pred})\n",
        "solution1.to_csv('Black_friday_random_forest.csv',index=False)"
      ],
      "execution_count": 0,
      "outputs": []
    },
    {
      "cell_type": "markdown",
      "metadata": {
        "id": "UcEGZg_eN9fr",
        "colab_type": "text"
      },
      "source": [
        "## RMSE - 2950"
      ]
    },
    {
      "cell_type": "code",
      "metadata": {
        "id": "t-1jiN_ZQ5rL",
        "colab_type": "code",
        "outputId": "f0486156-67c6-402b-b982-a0fd50433e2a",
        "colab": {
          "base_uri": "https://localhost:8080/",
          "height": 102
        }
      },
      "source": [
        "xpred = X.fit(xtrain,ytrain).predict(xtest)"
      ],
      "execution_count": 0,
      "outputs": [
        {
          "output_type": "stream",
          "text": [
            "/usr/local/lib/python3.6/dist-packages/xgboost/core.py:587: FutureWarning: Series.base is deprecated and will be removed in a future version\n",
            "  if getattr(data, 'base', None) is not None and \\\n",
            "/usr/local/lib/python3.6/dist-packages/xgboost/core.py:588: FutureWarning: Series.base is deprecated and will be removed in a future version\n",
            "  data.base is not None and isinstance(data, np.ndarray) \\\n"
          ],
          "name": "stderr"
        },
        {
          "output_type": "stream",
          "text": [
            "[07:18:56] WARNING: /workspace/src/objective/regression_obj.cu:152: reg:linear is now deprecated in favor of reg:squarederror.\n"
          ],
          "name": "stdout"
        }
      ]
    },
    {
      "cell_type": "code",
      "metadata": {
        "id": "78PANnqvYuq4",
        "colab_type": "code",
        "colab": {}
      },
      "source": [
        "solution4 = pd.DataFrame({'User_ID':test.User_ID,'Product_ID':test.Product_ID,'Purchase':xpred})\n",
        "solution4.to_csv('Black_friday_XG.csv',index=False)"
      ],
      "execution_count": 0,
      "outputs": []
    },
    {
      "cell_type": "markdown",
      "metadata": {
        "id": "jYxCXuX4LeLo",
        "colab_type": "text"
      },
      "source": [
        "## RMSE - 3055"
      ]
    },
    {
      "cell_type": "code",
      "metadata": {
        "id": "SoAczGP4xfOt",
        "colab_type": "code",
        "outputId": "7fa85776-c1bf-430a-be8c-9ca32d1748e1",
        "colab": {
          "base_uri": "https://localhost:8080/",
          "height": 255
        }
      },
      "source": [
        "# list of alphas to tune\n",
        "params = {'alpha': [0.0001, 0.001, 0.01, 0.05, 0.1, \n",
        " 0.2, 0.3, 0.4, 0.5, 0.6, 0.7, 0.8, 0.9, 1.0, 2.0, 3.0, \n",
        " 4.0, 5.0, 6.0, 7.0, 8.0, 9.0, 10.0, 20, 50, 100, 500, 1000 ]}\n",
        "\n",
        "\n",
        "rid = Ridge()\n",
        "\n",
        "scoring = 'neg_mean_squared_error'\n",
        "# cross validation\n",
        "folds = 5\n",
        "model_cv = GridSearchCV(estimator = rid, \n",
        "                        param_grid = params, \n",
        "                        scoring= scoring, \n",
        "                        cv = folds, \n",
        "                        return_train_score=True,\n",
        "                        verbose = 1)            \n",
        "model_cv.fit(xtrain, ytrain) "
      ],
      "execution_count": 0,
      "outputs": [
        {
          "output_type": "stream",
          "text": [
            "Fitting 5 folds for each of 28 candidates, totalling 140 fits\n"
          ],
          "name": "stdout"
        },
        {
          "output_type": "stream",
          "text": [
            "[Parallel(n_jobs=1)]: Using backend SequentialBackend with 1 concurrent workers.\n",
            "[Parallel(n_jobs=1)]: Done 140 out of 140 | elapsed:   21.2s finished\n"
          ],
          "name": "stderr"
        },
        {
          "output_type": "execute_result",
          "data": {
            "text/plain": [
              "GridSearchCV(cv=5, error_score='raise-deprecating',\n",
              "             estimator=Ridge(alpha=1.0, copy_X=True, fit_intercept=True,\n",
              "                             max_iter=None, normalize=False, random_state=None,\n",
              "                             solver='auto', tol=0.001),\n",
              "             iid='warn', n_jobs=None,\n",
              "             param_grid={'alpha': [0.0001, 0.001, 0.01, 0.05, 0.1, 0.2, 0.3,\n",
              "                                   0.4, 0.5, 0.6, 0.7, 0.8, 0.9, 1.0, 2.0, 3.0,\n",
              "                                   4.0, 5.0, 6.0, 7.0, 8.0, 9.0, 10.0, 20, 50,\n",
              "                                   100, 500, 1000]},\n",
              "             pre_dispatch='2*n_jobs', refit=True, return_train_score=True,\n",
              "             scoring='neg_mean_squared_error', verbose=1)"
            ]
          },
          "metadata": {
            "tags": []
          },
          "execution_count": 58
        }
      ]
    },
    {
      "cell_type": "code",
      "metadata": {
        "id": "DprWnFJP0KTM",
        "colab_type": "code",
        "outputId": "8e748ef2-292c-427e-af15-4543dc3b0cd1",
        "colab": {
          "base_uri": "https://localhost:8080/",
          "height": 34
        }
      },
      "source": [
        "model_cv.best_params_"
      ],
      "execution_count": 0,
      "outputs": [
        {
          "output_type": "execute_result",
          "data": {
            "text/plain": [
              "{'alpha': 1000}"
            ]
          },
          "metadata": {
            "tags": []
          },
          "execution_count": 59
        }
      ]
    },
    {
      "cell_type": "code",
      "metadata": {
        "id": "p57Pyq210j8U",
        "colab_type": "code",
        "outputId": "ae4e8003-3547-485f-b464-0f3241868637",
        "colab": {
          "base_uri": "https://localhost:8080/",
          "height": 51
        }
      },
      "source": [
        "Rid = Ridge(alpha=1000)\n",
        "Rid.fit(xtrain,ytrain)"
      ],
      "execution_count": 0,
      "outputs": [
        {
          "output_type": "execute_result",
          "data": {
            "text/plain": [
              "Ridge(alpha=1000, copy_X=True, fit_intercept=True, max_iter=None,\n",
              "      normalize=False, random_state=None, solver='auto', tol=0.001)"
            ]
          },
          "metadata": {
            "tags": []
          },
          "execution_count": 60
        }
      ]
    },
    {
      "cell_type": "code",
      "metadata": {
        "id": "m8iDX0T10_XZ",
        "colab_type": "code",
        "colab": {}
      },
      "source": [
        "pred_rid = Rid.predict(xtest)"
      ],
      "execution_count": 0,
      "outputs": []
    },
    {
      "cell_type": "code",
      "metadata": {
        "id": "ArMeI2bW1EJa",
        "colab_type": "code",
        "colab": {}
      },
      "source": [
        "solution4 = pd.DataFrame({'User_ID':test.User_ID,'Product_ID':test.Product_ID,'Purchase':pred_rid})\n",
        "solution4.to_csv('Black_friday_Ridge.csv',index=False)"
      ],
      "execution_count": 0,
      "outputs": []
    },
    {
      "cell_type": "markdown",
      "metadata": {
        "id": "z7JgW0CeOMSh",
        "colab_type": "text"
      },
      "source": [
        "## RMSE = 4694"
      ]
    },
    {
      "cell_type": "markdown",
      "metadata": {
        "id": "6mhLC-G7OWaB",
        "colab_type": "text"
      },
      "source": [
        "# Concluion"
      ]
    },
    {
      "cell_type": "markdown",
      "metadata": {
        "id": "ucr1ZibLOcvm",
        "colab_type": "text"
      },
      "source": [
        "After Fitting and training with algorithems like Linear Regression, Ridge Regression, Decieion Tree Regressor, Random Forest Regressor and XG boost regressor we recieved different Root mean square error from all the models.\n",
        "\n",
        "The most dominent estimators were the Product_category_1, Occupation of the person and the Term for which the person has been staying in the city.\n",
        "\n",
        "The Best Fitted Model was turned out to Be Random Forest which gave the Least RMSE i.e. 2950."
      ]
    },
    {
      "cell_type": "code",
      "metadata": {
        "id": "D2IyhCyoOcA9",
        "colab_type": "code",
        "outputId": "f037d11a-20c0-4913-8b94-010219e9636d",
        "colab": {
          "base_uri": "https://localhost:8080/",
          "height": 136
        }
      },
      "source": [
        "rf.fit(xtrain,ytrain)"
      ],
      "execution_count": 0,
      "outputs": [
        {
          "output_type": "execute_result",
          "data": {
            "text/plain": [
              "RandomForestRegressor(bootstrap=True, criterion='mse', max_depth=None,\n",
              "                      max_features='auto', max_leaf_nodes=None,\n",
              "                      min_impurity_decrease=0.0, min_impurity_split=None,\n",
              "                      min_samples_leaf=1, min_samples_split=2,\n",
              "                      min_weight_fraction_leaf=0.0, n_estimators=10,\n",
              "                      n_jobs=None, oob_score=False, random_state=None,\n",
              "                      verbose=0, warm_start=False)"
            ]
          },
          "metadata": {
            "tags": []
          },
          "execution_count": 53
        }
      ]
    },
    {
      "cell_type": "code",
      "metadata": {
        "id": "Q44qXSDK_Izf",
        "colab_type": "code",
        "outputId": "8915e1f4-d7a2-4074-9f3c-d69205a2e327",
        "colab": {
          "base_uri": "https://localhost:8080/",
          "height": 51
        }
      },
      "source": [
        "rf.feature_importances_"
      ],
      "execution_count": 0,
      "outputs": [
        {
          "output_type": "execute_result",
          "data": {
            "text/plain": [
              "array([0.01737573, 0.03042735, 0.02104173, 0.0080452 , 0.90679872,\n",
              "       0.00352656, 0.00355375, 0.00222454, 0.00236413, 0.0046423 ])"
            ]
          },
          "metadata": {
            "tags": []
          },
          "execution_count": 64
        }
      ]
    },
    {
      "cell_type": "code",
      "metadata": {
        "id": "aoWXyjqG_8lR",
        "colab_type": "code",
        "colab": {}
      },
      "source": [
        "a= pd.DataFrame({'Features':xtrain.columns,'Importance':rf.feature_importances_})"
      ],
      "execution_count": 0,
      "outputs": []
    },
    {
      "cell_type": "code",
      "metadata": {
        "id": "PlFHidXpAb6U",
        "colab_type": "code",
        "outputId": "c3c0a36e-71a7-420c-d2ae-30d61cda17f0",
        "colab": {
          "base_uri": "https://localhost:8080/",
          "height": 359
        }
      },
      "source": [
        "a.sort_values(by='Importance',ascending=False)"
      ],
      "execution_count": 0,
      "outputs": [
        {
          "output_type": "execute_result",
          "data": {
            "text/html": [
              "<div>\n",
              "<style scoped>\n",
              "    .dataframe tbody tr th:only-of-type {\n",
              "        vertical-align: middle;\n",
              "    }\n",
              "\n",
              "    .dataframe tbody tr th {\n",
              "        vertical-align: top;\n",
              "    }\n",
              "\n",
              "    .dataframe thead th {\n",
              "        text-align: right;\n",
              "    }\n",
              "</style>\n",
              "<table border=\"1\" class=\"dataframe\">\n",
              "  <thead>\n",
              "    <tr style=\"text-align: right;\">\n",
              "      <th></th>\n",
              "      <th>Features</th>\n",
              "      <th>Importance</th>\n",
              "    </tr>\n",
              "  </thead>\n",
              "  <tbody>\n",
              "    <tr>\n",
              "      <th>4</th>\n",
              "      <td>Product_Category_1</td>\n",
              "      <td>0.906799</td>\n",
              "    </tr>\n",
              "    <tr>\n",
              "      <th>1</th>\n",
              "      <td>Occupation</td>\n",
              "      <td>0.030427</td>\n",
              "    </tr>\n",
              "    <tr>\n",
              "      <th>2</th>\n",
              "      <td>Stay_In_Current_City_Years</td>\n",
              "      <td>0.021042</td>\n",
              "    </tr>\n",
              "    <tr>\n",
              "      <th>0</th>\n",
              "      <td>Age</td>\n",
              "      <td>0.017376</td>\n",
              "    </tr>\n",
              "    <tr>\n",
              "      <th>3</th>\n",
              "      <td>Marital_Status</td>\n",
              "      <td>0.008045</td>\n",
              "    </tr>\n",
              "    <tr>\n",
              "      <th>9</th>\n",
              "      <td>City_Category_C</td>\n",
              "      <td>0.004642</td>\n",
              "    </tr>\n",
              "    <tr>\n",
              "      <th>6</th>\n",
              "      <td>Gender_M</td>\n",
              "      <td>0.003554</td>\n",
              "    </tr>\n",
              "    <tr>\n",
              "      <th>5</th>\n",
              "      <td>Gender_F</td>\n",
              "      <td>0.003527</td>\n",
              "    </tr>\n",
              "    <tr>\n",
              "      <th>8</th>\n",
              "      <td>City_Category_B</td>\n",
              "      <td>0.002364</td>\n",
              "    </tr>\n",
              "    <tr>\n",
              "      <th>7</th>\n",
              "      <td>City_Category_A</td>\n",
              "      <td>0.002225</td>\n",
              "    </tr>\n",
              "  </tbody>\n",
              "</table>\n",
              "</div>"
            ],
            "text/plain": [
              "                     Features  Importance\n",
              "4          Product_Category_1    0.906799\n",
              "1                  Occupation    0.030427\n",
              "2  Stay_In_Current_City_Years    0.021042\n",
              "0                         Age    0.017376\n",
              "3              Marital_Status    0.008045\n",
              "9             City_Category_C    0.004642\n",
              "6                    Gender_M    0.003554\n",
              "5                    Gender_F    0.003527\n",
              "8             City_Category_B    0.002364\n",
              "7             City_Category_A    0.002225"
            ]
          },
          "metadata": {
            "tags": []
          },
          "execution_count": 69
        }
      ]
    },
    {
      "cell_type": "code",
      "metadata": {
        "id": "XsxnyXZZAgrl",
        "colab_type": "code",
        "colab": {}
      },
      "source": [
        ""
      ],
      "execution_count": 0,
      "outputs": []
    }
  ]
}